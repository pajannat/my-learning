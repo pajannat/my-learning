{
 "cells": [
  {
   "cell_type": "code",
   "execution_count": 1,
   "metadata": {},
   "outputs": [],
   "source": [
    "import seaborn as sns\n",
    "import pandas as pd\n",
    "from sklearn.preprocessing import OrdinalEncoder\n",
    "from sklearn.model_selection import train_test_split\n",
    "from sklearn.ensemble import RandomForestClassifier\n",
    "from sklearn.neighbors import KNeighborsClassifier\n",
    "from sklearn.linear_model import LogisticRegression\n",
    "from sklearn.model_selection import KFold\n",
    "from sklearn.metrics import roc_auc_score"
   ]
  },
  {
   "cell_type": "code",
   "execution_count": 2,
   "metadata": {},
   "outputs": [],
   "source": [
    "# データ準備\n",
    "df = sns.load_dataset('titanic')\n",
    "df.dropna(inplace=True)\n",
    "# X, yを作成\n",
    "X = df.loc[:, (df.columns!='survived') & (df.columns!='alive')]\n",
    "y = df['survived']\n",
    "# ラベルエンコーディング\n",
    "oe = OrdinalEncoder()\n",
    "oe.set_output(transform='pandas')\n",
    "X = oe.fit_transform(X)\n",
    "# hold-out\n",
    "X_train, X_test, y_train, y_test = train_test_split(X, y, test_size=0.3, random_state=0)"
   ]
  },
  {
   "cell_type": "markdown",
   "metadata": {},
   "source": [
    "### Stacking"
   ]
  },
  {
   "cell_type": "code",
   "execution_count": 11,
   "metadata": {},
   "outputs": [],
   "source": [
    "class StackingClassifierCV:\n",
    "\n",
    "    def __init__(self, estimators, final_estimator, cv):\n",
    "        self.estimators = estimators # [('rf', RandomForestClassifier()), ('knn', KNeighborsCalssifier()), (,), ..]\n",
    "        self.final_estimator = final_estimator\n",
    "        self.cv = cv\n",
    "\n",
    "    def fit(self, X, y):\n",
    "        pred_features = {}\n",
    "        # 各estimatorについて学習する\n",
    "        for model_name, model in self.estimators:\n",
    "            preds = []\n",
    "            new_y = []\n",
    "\n",
    "            # 各Foldについて学習\n",
    "            for train_idx, val_idx in self.cv.split(X):\n",
    "                X_train, X_val = X.iloc[train_idx], X.iloc[val_idx]\n",
    "                y_train, y_val = y.iloc[train_idx], y.iloc[val_idx]\n",
    "                # model の学習\n",
    "                model.fit(X_train, y_train)\n",
    "                # model の推定値を2層目のモデルの特徴量とする\n",
    "                pred = model.predict_proba(X_val)[:, 1].tolist()\n",
    "                # preds に推定値 pred を格納\n",
    "                preds += pred\n",
    "                # cv.splitによりXの順番が変わっているので，それに合わせて新しくyを作成する\n",
    "                new_y += y_val.tolist()\n",
    "            \n",
    "            # 各Foldの推定値を新たな特徴量とする\n",
    "            pred_features[model_name] = preds\n",
    "            # predict_proba メソッドのために, すべてのデータを使って学習したモデルを残しておく\n",
    "            model.fit(X, y)\n",
    "        \n",
    "        # 2層目のモデル学習\n",
    "        new_X =  pd.DataFrame(pred_features)\n",
    "        self.final_estimator.fit(new_X, new_y)\n",
    "            \n",
    "    def predict_proba(self, X):\n",
    "        # 1層目のモデル(すべてのデータを用いて学習済み)で予測値生成\n",
    "        pred_features = {}\n",
    "        for model_name, model in self.estimators:\n",
    "            pred = model.predict_proba(X)[:, 1]\n",
    "            pred_features[model_name] = pred\n",
    "        \n",
    "        new_X = pd.DataFrame(pred_features)\n",
    "        final_pred = self.final_estimator.predict_proba(new_X)\n",
    "        return final_pred"
   ]
  },
  {
   "cell_type": "code",
   "execution_count": 15,
   "metadata": {},
   "outputs": [],
   "source": [
    "# 一層目のモデル\n",
    "estimators=[('rf', RandomForestClassifier()), ('knn', KNeighborsClassifier()), ('logistic', LogisticRegression())]\n",
    "# 二層目のモデル\n",
    "final_estimator = LogisticRegression()\n",
    "cv = KFold(n_splits=5, shuffle=True, random_state=0)\n",
    "stacking_cv = StackingClassifierCV(estimators=[('rf', RandomForestClassifier()), ('knn', KNeighborsClassifier())],\n",
    "                     final_estimator=final_estimator,\n",
    "                     cv=cv)\n",
    "stacking_cv.fit(X_train, y_train)\n",
    "y_pred_stacking_cv = stacking_cv.predict_proba(X_test)"
   ]
  },
  {
   "cell_type": "code",
   "execution_count": 16,
   "metadata": {},
   "outputs": [
    {
     "name": "stdout",
     "output_type": "stream",
     "text": [
      "stackingCV AUC: 0.8133012820512822\n"
     ]
    }
   ],
   "source": [
    "# 評価\n",
    "print(f\"stackingCV AUC: {roc_auc_score(y_test, y_pred_stacking_cv[:, 1])}\")"
   ]
  },
  {
   "cell_type": "code",
   "execution_count": null,
   "metadata": {},
   "outputs": [],
   "source": []
  }
 ],
 "metadata": {
  "kernelspec": {
   "display_name": "py37",
   "language": "python",
   "name": "py37"
  },
  "language_info": {
   "codemirror_mode": {
    "name": "ipython",
    "version": 3
   },
   "file_extension": ".py",
   "mimetype": "text/x-python",
   "name": "python",
   "nbconvert_exporter": "python",
   "pygments_lexer": "ipython3",
   "version": "3.8.5"
  },
  "orig_nbformat": 4
 },
 "nbformat": 4,
 "nbformat_minor": 2
}
