{
 "cells": [
  {
   "cell_type": "code",
   "execution_count": 1,
   "metadata": {},
   "outputs": [
    {
     "name": "stderr",
     "output_type": "stream",
     "text": [
      "c:\\Users\\ytchi\\anaconda3\\envs\\py37\\lib\\site-packages\\scipy\\__init__.py:146: UserWarning: A NumPy version >=1.16.5 and <1.23.0 is required for this version of SciPy (detected version 1.24.1\n",
      "  warnings.warn(f\"A NumPy version >={np_minversion} and <{np_maxversion}\"\n"
     ]
    }
   ],
   "source": [
    "import seaborn as sns\n",
    "import pandas as pd\n",
    "import numpy as np\n",
    "from sklearn.preprocessing import OrdinalEncoder\n",
    "from sklearn.model_selection import train_test_split\n",
    "from sklearn.ensemble import BaggingClassifier, RandomForestClassifier\n",
    "from sklearn.metrics import roc_auc_score\n",
    "from sklearn.tree import DecisionTreeClassifier, plot_tree\n",
    "import matplotlib.pyplot as plt"
   ]
  },
  {
   "attachments": {},
   "cell_type": "markdown",
   "metadata": {},
   "source": [
    "### Bagging"
   ]
  },
  {
   "cell_type": "code",
   "execution_count": 5,
   "metadata": {},
   "outputs": [],
   "source": [
    "# データ準備\n",
    "df = sns.load_dataset('titanic')\n",
    "df.dropna(inplace=True)"
   ]
  },
  {
   "cell_type": "code",
   "execution_count": 6,
   "metadata": {},
   "outputs": [],
   "source": [
    "# X, yを作成\n",
    "# X = df.loc[:, (df.columns!='survived') & (df.columns!='alive')] \n",
    "# 後ほどXに対して更新をおこうなう際に，Viewに対して代入処理をするとSettingWithCopyWarningが発生するため，.dropを使用する\n",
    "X = df.drop(['survived', 'alive'], axis=1)\n",
    "y = df['survived']"
   ]
  },
  {
   "cell_type": "code",
   "execution_count": 10,
   "metadata": {},
   "outputs": [],
   "source": [
    "# ラベルエンコーディング\n",
    "oe = OrdinalEncoder()\n",
    "# 出力結果をDataFrameにする．NumPyArrayだと後続の処理でエラーになることが多い\n",
    "oe.set_output(transform='pandas') # sklearnが古い場合は!pip install --upgrade scikit-learnで更新\n",
    "# デフォルトではうまくカテゴリカル変数のみをターゲットにしてくれないので，カテゴリカル変数に対してのみ処理をするようにする\n",
    "cat_cols = X.select_dtypes(exclude=np.number).columns.to_list()\n",
    "X[cat_cols] = oe.fit_transform(X[cat_cols])"
   ]
  },
  {
   "cell_type": "code",
   "execution_count": 12,
   "metadata": {},
   "outputs": [],
   "source": [
    "# hold-out\n",
    "X_train, X_test, y_train, y_test = train_test_split(X, y, test_size=0.3, random_state=0)"
   ]
  },
  {
   "cell_type": "code",
   "execution_count": 13,
   "metadata": {},
   "outputs": [],
   "source": [
    "# 学習と予測\n",
    "clf = BaggingClassifier(random_state=0)\n",
    "clf.fit(X_train, y_train)\n",
    "y_pred = clf.predict_proba(X_test)"
   ]
  },
  {
   "cell_type": "code",
   "execution_count": 15,
   "metadata": {},
   "outputs": [
    {
     "name": "stdout",
     "output_type": "stream",
     "text": [
      "bagging AUC: 0.8846153846153846\n"
     ]
    }
   ],
   "source": [
    "# 評価\n",
    "print(f\"bagging AUC: {roc_auc_score(y_test, y_pred[:, 1])}\")"
   ]
  },
  {
   "cell_type": "code",
   "execution_count": 16,
   "metadata": {},
   "outputs": [
    {
     "name": "stdout",
     "output_type": "stream",
     "text": [
      "single tree AUC: 0.7596153846153846\n"
     ]
    }
   ],
   "source": [
    "# 単一の決定木の精度\n",
    "single_tree = DecisionTreeClassifier(random_state=0).fit(X_train, y_train)\n",
    "y_pred_tree = single_tree.predict_proba(X_test)\n",
    "print(f\"single tree AUC: {roc_auc_score(y_test, y_pred_tree[:, 1])}\")"
   ]
  },
  {
   "cell_type": "code",
   "execution_count": 17,
   "metadata": {},
   "outputs": [
    {
     "data": {
      "text/plain": [
       "[DecisionTreeClassifier(random_state=2087557356),\n",
       " DecisionTreeClassifier(random_state=132990059),\n",
       " DecisionTreeClassifier(random_state=1109697837),\n",
       " DecisionTreeClassifier(random_state=123230084),\n",
       " DecisionTreeClassifier(random_state=633163265),\n",
       " DecisionTreeClassifier(random_state=998640145),\n",
       " DecisionTreeClassifier(random_state=1452413565),\n",
       " DecisionTreeClassifier(random_state=2006313316),\n",
       " DecisionTreeClassifier(random_state=45050103),\n",
       " DecisionTreeClassifier(random_state=395371042)]"
      ]
     },
     "execution_count": 17,
     "metadata": {},
     "output_type": "execute_result"
    }
   ],
   "source": [
    "# 弱学習器一覧\n",
    "clf.estimators_"
   ]
  },
  {
   "cell_type": "code",
   "execution_count": null,
   "metadata": {},
   "outputs": [],
   "source": []
  }
 ],
 "metadata": {
  "kernelspec": {
   "display_name": "py37",
   "language": "python",
   "name": "py37"
  },
  "language_info": {
   "codemirror_mode": {
    "name": "ipython",
    "version": 3
   },
   "file_extension": ".py",
   "mimetype": "text/x-python",
   "name": "python",
   "nbconvert_exporter": "python",
   "pygments_lexer": "ipython3",
   "version": "3.8.5"
  },
  "orig_nbformat": 4
 },
 "nbformat": 4,
 "nbformat_minor": 2
}
