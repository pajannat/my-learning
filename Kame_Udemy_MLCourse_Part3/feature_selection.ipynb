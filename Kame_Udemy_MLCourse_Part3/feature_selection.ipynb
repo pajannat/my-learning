{
 "cells": [
  {
   "cell_type": "markdown",
   "id": "0100f23f-0ab5-426c-a2f4-41a442e717a0",
   "metadata": {},
   "source": [
    "### Greedy Feature Selection"
   ]
  },
  {
   "cell_type": "code",
   "execution_count": 1,
   "id": "95212ac8-050b-41c4-a582-02372baade4b",
   "metadata": {},
   "outputs": [],
   "source": [
    "import pandas as pd\n",
    "import numpy as np\n",
    "from sklearn.impute import SimpleImputer\n",
    "from sklearn.base import BaseEstimator, TransformerMixin\n",
    "from sklearn.preprocessing import StandardScaler, PolynomialFeatures\n",
    "from sklearn.pipeline import Pipeline\n",
    "from sklearn.linear_model import LogisticRegression\n",
    "from sklearn.model_selection import KFold, cross_val_score\n",
    "from sklearn.feature_selection import RFE, RFECV, SelectFromModel\n",
    "from sklearn.tree import DecisionTreeClassifier\n",
    "from sklearn.ensemble import RandomForestClassifier"
   ]
  },
  {
   "cell_type": "code",
   "execution_count": 2,
   "id": "44054938-816a-45eb-b7bc-ae3c9140b1c9",
   "metadata": {},
   "outputs": [],
   "source": [
    "df = pd.read_csv('penguins_size.csv')\n",
    "df.loc[df[df['sex']=='.'].index, 'sex'] = np.nan"
   ]
  },
  {
   "cell_type": "code",
   "execution_count": 3,
   "id": "6a03e48b-f385-4430-bd26-5463d897a673",
   "metadata": {},
   "outputs": [
    {
     "name": "stdout",
     "output_type": "stream",
     "text": [
      "<class 'pandas.core.frame.DataFrame'>\n",
      "RangeIndex: 344 entries, 0 to 343\n",
      "Data columns (total 7 columns):\n",
      " #   Column             Non-Null Count  Dtype  \n",
      "---  ------             --------------  -----  \n",
      " 0   species            344 non-null    object \n",
      " 1   island             344 non-null    object \n",
      " 2   culmen_length_mm   342 non-null    float64\n",
      " 3   culmen_depth_mm    342 non-null    float64\n",
      " 4   flipper_length_mm  342 non-null    float64\n",
      " 5   body_mass_g        342 non-null    float64\n",
      " 6   sex                333 non-null    object \n",
      "dtypes: float64(4), object(3)\n",
      "memory usage: 18.9+ KB\n"
     ]
    }
   ],
   "source": [
    "df.info()"
   ]
  },
  {
   "cell_type": "code",
   "execution_count": 4,
   "id": "def35313-bc8b-4c73-b2d3-7a8c550bcaff",
   "metadata": {},
   "outputs": [
    {
     "data": {
      "text/html": [
       "<div>\n",
       "<style scoped>\n",
       "    .dataframe tbody tr th:only-of-type {\n",
       "        vertical-align: middle;\n",
       "    }\n",
       "\n",
       "    .dataframe tbody tr th {\n",
       "        vertical-align: top;\n",
       "    }\n",
       "\n",
       "    .dataframe thead th {\n",
       "        text-align: right;\n",
       "    }\n",
       "</style>\n",
       "<table border=\"1\" class=\"dataframe\">\n",
       "  <thead>\n",
       "    <tr style=\"text-align: right;\">\n",
       "      <th></th>\n",
       "      <th>species</th>\n",
       "      <th>island</th>\n",
       "      <th>culmen_length_mm</th>\n",
       "      <th>culmen_depth_mm</th>\n",
       "      <th>flipper_length_mm</th>\n",
       "      <th>body_mass_g</th>\n",
       "      <th>sex</th>\n",
       "    </tr>\n",
       "  </thead>\n",
       "  <tbody>\n",
       "    <tr>\n",
       "      <th>3</th>\n",
       "      <td>Adelie</td>\n",
       "      <td>Torgersen</td>\n",
       "      <td>NaN</td>\n",
       "      <td>NaN</td>\n",
       "      <td>NaN</td>\n",
       "      <td>NaN</td>\n",
       "      <td>NaN</td>\n",
       "    </tr>\n",
       "    <tr>\n",
       "      <th>8</th>\n",
       "      <td>Adelie</td>\n",
       "      <td>Torgersen</td>\n",
       "      <td>34.1</td>\n",
       "      <td>18.1</td>\n",
       "      <td>193.0</td>\n",
       "      <td>3475.0</td>\n",
       "      <td>NaN</td>\n",
       "    </tr>\n",
       "    <tr>\n",
       "      <th>9</th>\n",
       "      <td>Adelie</td>\n",
       "      <td>Torgersen</td>\n",
       "      <td>42.0</td>\n",
       "      <td>20.2</td>\n",
       "      <td>190.0</td>\n",
       "      <td>4250.0</td>\n",
       "      <td>NaN</td>\n",
       "    </tr>\n",
       "    <tr>\n",
       "      <th>10</th>\n",
       "      <td>Adelie</td>\n",
       "      <td>Torgersen</td>\n",
       "      <td>37.8</td>\n",
       "      <td>17.1</td>\n",
       "      <td>186.0</td>\n",
       "      <td>3300.0</td>\n",
       "      <td>NaN</td>\n",
       "    </tr>\n",
       "    <tr>\n",
       "      <th>11</th>\n",
       "      <td>Adelie</td>\n",
       "      <td>Torgersen</td>\n",
       "      <td>37.8</td>\n",
       "      <td>17.3</td>\n",
       "      <td>180.0</td>\n",
       "      <td>3700.0</td>\n",
       "      <td>NaN</td>\n",
       "    </tr>\n",
       "    <tr>\n",
       "      <th>47</th>\n",
       "      <td>Adelie</td>\n",
       "      <td>Dream</td>\n",
       "      <td>37.5</td>\n",
       "      <td>18.9</td>\n",
       "      <td>179.0</td>\n",
       "      <td>2975.0</td>\n",
       "      <td>NaN</td>\n",
       "    </tr>\n",
       "    <tr>\n",
       "      <th>246</th>\n",
       "      <td>Gentoo</td>\n",
       "      <td>Biscoe</td>\n",
       "      <td>44.5</td>\n",
       "      <td>14.3</td>\n",
       "      <td>216.0</td>\n",
       "      <td>4100.0</td>\n",
       "      <td>NaN</td>\n",
       "    </tr>\n",
       "    <tr>\n",
       "      <th>286</th>\n",
       "      <td>Gentoo</td>\n",
       "      <td>Biscoe</td>\n",
       "      <td>46.2</td>\n",
       "      <td>14.4</td>\n",
       "      <td>214.0</td>\n",
       "      <td>4650.0</td>\n",
       "      <td>NaN</td>\n",
       "    </tr>\n",
       "    <tr>\n",
       "      <th>324</th>\n",
       "      <td>Gentoo</td>\n",
       "      <td>Biscoe</td>\n",
       "      <td>47.3</td>\n",
       "      <td>13.8</td>\n",
       "      <td>216.0</td>\n",
       "      <td>4725.0</td>\n",
       "      <td>NaN</td>\n",
       "    </tr>\n",
       "    <tr>\n",
       "      <th>336</th>\n",
       "      <td>Gentoo</td>\n",
       "      <td>Biscoe</td>\n",
       "      <td>44.5</td>\n",
       "      <td>15.7</td>\n",
       "      <td>217.0</td>\n",
       "      <td>4875.0</td>\n",
       "      <td>NaN</td>\n",
       "    </tr>\n",
       "    <tr>\n",
       "      <th>339</th>\n",
       "      <td>Gentoo</td>\n",
       "      <td>Biscoe</td>\n",
       "      <td>NaN</td>\n",
       "      <td>NaN</td>\n",
       "      <td>NaN</td>\n",
       "      <td>NaN</td>\n",
       "      <td>NaN</td>\n",
       "    </tr>\n",
       "  </tbody>\n",
       "</table>\n",
       "</div>"
      ],
      "text/plain": [
       "    species     island  culmen_length_mm  culmen_depth_mm  flipper_length_mm  \\\n",
       "3    Adelie  Torgersen               NaN              NaN                NaN   \n",
       "8    Adelie  Torgersen              34.1             18.1              193.0   \n",
       "9    Adelie  Torgersen              42.0             20.2              190.0   \n",
       "10   Adelie  Torgersen              37.8             17.1              186.0   \n",
       "11   Adelie  Torgersen              37.8             17.3              180.0   \n",
       "47   Adelie      Dream              37.5             18.9              179.0   \n",
       "246  Gentoo     Biscoe              44.5             14.3              216.0   \n",
       "286  Gentoo     Biscoe              46.2             14.4              214.0   \n",
       "324  Gentoo     Biscoe              47.3             13.8              216.0   \n",
       "336  Gentoo     Biscoe              44.5             15.7              217.0   \n",
       "339  Gentoo     Biscoe               NaN              NaN                NaN   \n",
       "\n",
       "     body_mass_g  sex  \n",
       "3            NaN  NaN  \n",
       "8         3475.0  NaN  \n",
       "9         4250.0  NaN  \n",
       "10        3300.0  NaN  \n",
       "11        3700.0  NaN  \n",
       "47        2975.0  NaN  \n",
       "246       4100.0  NaN  \n",
       "286       4650.0  NaN  \n",
       "324       4725.0  NaN  \n",
       "336       4875.0  NaN  \n",
       "339          NaN  NaN  "
      ]
     },
     "execution_count": 4,
     "metadata": {},
     "output_type": "execute_result"
    }
   ],
   "source": [
    "# 3, 339行はほとんどの項目がNaN ドロップしたい\n",
    "df[df['sex'].isna()]"
   ]
  },
  {
   "cell_type": "code",
   "execution_count": 5,
   "id": "38ad688a-0fa8-4cc5-a15d-0843d932382e",
   "metadata": {},
   "outputs": [],
   "source": [
    "# nanでない項目が3より少ない行をドロップ\n",
    "df.dropna(thresh=3, inplace=True)"
   ]
  },
  {
   "cell_type": "code",
   "execution_count": 6,
   "id": "b835884b-68f6-412f-a453-8b14297eb59e",
   "metadata": {},
   "outputs": [
    {
     "name": "stdout",
     "output_type": "stream",
     "text": [
      "<class 'pandas.core.frame.DataFrame'>\n",
      "Int64Index: 342 entries, 0 to 343\n",
      "Data columns (total 7 columns):\n",
      " #   Column             Non-Null Count  Dtype  \n",
      "---  ------             --------------  -----  \n",
      " 0   species            342 non-null    object \n",
      " 1   island             342 non-null    object \n",
      " 2   culmen_length_mm   342 non-null    float64\n",
      " 3   culmen_depth_mm    342 non-null    float64\n",
      " 4   flipper_length_mm  342 non-null    float64\n",
      " 5   body_mass_g        342 non-null    float64\n",
      " 6   sex                333 non-null    object \n",
      "dtypes: float64(4), object(3)\n",
      "memory usage: 21.4+ KB\n"
     ]
    }
   ],
   "source": [
    "df.info()"
   ]
  },
  {
   "cell_type": "code",
   "execution_count": 7,
   "id": "8e2e4fa9-7dcc-4b98-a81f-710d57293fd4",
   "metadata": {},
   "outputs": [],
   "source": [
    "# Greedy feature selection\n",
    "class GreedyFeatureSelection():\n",
    "    def __init__(self, pipeline, cv):\n",
    "        self.pipeline = pipeline\n",
    "        self.cv = cv\n",
    "        self.selected_features = []\n",
    "        self.scores = [0]\n",
    "\n",
    "    def select_feature(self, X, y):\n",
    "        \n",
    "        all_features = X.columns\n",
    "        \n",
    "        while True:\n",
    "            best_score = self.scores[-1]\n",
    "            candidate_feature = None\n",
    "            for feature in all_features:\n",
    "                if feature in self.selected_features:\n",
    "                    continue\n",
    "                # print(f'{feature} started')\n",
    "                features = self.selected_features + [feature]\n",
    "                X_train = X[features]\n",
    "                # 評価\n",
    "                score = cross_val_score(self.pipeline, X_train, y, cv=self.cv).mean()\n",
    "                # print(f'{feature} score: {score}')\n",
    "                if score > best_score:\n",
    "                    print(f'best score updated {best_score} -> {score}')\n",
    "                    best_score = score\n",
    "                    candidate_feature = feature\n",
    "                \n",
    "            if candidate_feature is not None:\n",
    "                self.scores.append(best_score)\n",
    "                self.selected_features.append(candidate_feature)\n",
    "            else:\n",
    "                break"
   ]
  },
  {
   "cell_type": "code",
   "execution_count": 8,
   "id": "4e77c9cf-6b1e-4374-ac0f-53cd335bd790",
   "metadata": {},
   "outputs": [
    {
     "name": "stdout",
     "output_type": "stream",
     "text": [
      "best score updated 0 -> 0.7076023391812866\n",
      "best score updated 0.7076023391812866 -> 0.7514619883040936\n",
      "best score updated 0.7514619883040936 -> 0.7573099415204679\n",
      "best score updated 0.7573099415204679 -> 0.7982456140350876\n",
      "best score updated 0.7982456140350876 -> 0.8187134502923977\n",
      "best score updated 0.8187134502923977 -> 0.9619883040935672\n",
      "best score updated 0.9619883040935672 -> 0.9912280701754387\n",
      "best score updated 0.9912280701754387 -> 0.9941520467836257\n",
      "best score updated 0.9941520467836257 -> 0.9970760233918128\n",
      "best score updated 0.9970760233918128 -> 1.0\n"
     ]
    }
   ],
   "source": [
    "X = df.drop('species', axis=1)\n",
    "y = df['species']\n",
    "\n",
    "# 欠損値代入\n",
    "imputer = SimpleImputer(strategy='constant', fill_value='NaN')\n",
    "X['sex'] = imputer.fit_transform(X[['sex']])\n",
    "\n",
    "# one-hot encoding\n",
    "class GetDummies(BaseEstimator, TransformerMixin):\n",
    "    \n",
    "    def __init__(self):\n",
    "        self.columns = None\n",
    "        \n",
    "    def fit(self, X, y=None):\n",
    "        # trainデータのカテゴリ数より\n",
    "        # 推論時のtestデータのカテゴリ数が少ないとエラーとなる\n",
    "        # trainデータのカテゴリでダミー変数化した場合のカラム名を保存しておく\n",
    "        self.columns = pd.get_dummies(X).columns\n",
    "        return self\n",
    "    \n",
    "    def transform(self, X):\n",
    "        X_new = pd.get_dummies(X)\n",
    "        # fit時に保存していた、trainデータでダミー変数化した場合のカラム名でカラムを準備\n",
    "        return X_new.reindex(columns=self.columns, fill_value=0)\n",
    "    \n",
    "# 特徴量エンジニアリング\n",
    "# 多項式特徴量\n",
    "poly = PolynomialFeatures(degree=2, include_bias=False)\n",
    "X[['culmen_length_mm', 'culmen_depth_mm','culmen_length_mm^2', 'culmen_length_mm * culmen_depth_mm', 'culmen_depth_mm^2' ]] = poly.fit_transform(df[['culmen_length_mm', 'culmen_depth_mm']])\n",
    "# 四則演算\n",
    "X['culmen_diff'] = X['culmen_length_mm'] - X['culmen_depth_mm']\n",
    "X['culmen_ratio'] = X['culmen_length_mm'] / X['culmen_depth_mm']\n",
    "\n",
    "# Pipeline\n",
    "pipeline = Pipeline([('dummy', GetDummies()),\n",
    "          ('scaler', StandardScaler()),\n",
    "          ('model', LogisticRegression())])\n",
    "\n",
    "# cv\n",
    "cv = KFold(n_splits=3, random_state=0, shuffle=True)\n",
    "\n",
    "# Greedy feature selection\n",
    "gfs = GreedyFeatureSelection(pipeline=pipeline, cv=cv)\n",
    "gfs.select_feature(X, y)"
   ]
  },
  {
   "cell_type": "code",
   "execution_count": 9,
   "id": "5a77c2e7-9a8e-4405-bacf-5d36bf986764",
   "metadata": {},
   "outputs": [
    {
     "name": "stdout",
     "output_type": "stream",
     "text": [
      "[0, 0.9619883040935672, 0.9912280701754387, 0.9970760233918128, 1.0]\n",
      "['culmen_ratio', 'island', 'culmen_diff', 'body_mass_g']\n"
     ]
    }
   ],
   "source": [
    "# スコアの結果と選択された特徴量を確認\n",
    "print(gfs.scores)\n",
    "print(gfs.selected_features)"
   ]
  },
  {
   "cell_type": "markdown",
   "id": "66e67631-eb36-445d-8bae-176a6b9fe91c",
   "metadata": {},
   "source": [
    "### Recursive Feature Elimination (RFE)"
   ]
  },
  {
   "cell_type": "code",
   "execution_count": 10,
   "id": "c8c341b5-f856-469d-b7b5-8db3d4681549",
   "metadata": {},
   "outputs": [
    {
     "data": {
      "text/html": [
       "<div>\n",
       "<style scoped>\n",
       "    .dataframe tbody tr th:only-of-type {\n",
       "        vertical-align: middle;\n",
       "    }\n",
       "\n",
       "    .dataframe tbody tr th {\n",
       "        vertical-align: top;\n",
       "    }\n",
       "\n",
       "    .dataframe thead th {\n",
       "        text-align: right;\n",
       "    }\n",
       "</style>\n",
       "<table border=\"1\" class=\"dataframe\">\n",
       "  <thead>\n",
       "    <tr style=\"text-align: right;\">\n",
       "      <th></th>\n",
       "      <th>island</th>\n",
       "      <th>culmen_length_mm</th>\n",
       "      <th>culmen_depth_mm</th>\n",
       "      <th>flipper_length_mm</th>\n",
       "      <th>body_mass_g</th>\n",
       "      <th>sex</th>\n",
       "      <th>culmen_length_mm^2</th>\n",
       "      <th>culmen_length_mm * culmen_depth_mm</th>\n",
       "      <th>culmen_depth_mm^2</th>\n",
       "      <th>culmen_diff</th>\n",
       "      <th>culmen_ratio</th>\n",
       "    </tr>\n",
       "  </thead>\n",
       "  <tbody>\n",
       "    <tr>\n",
       "      <th>0</th>\n",
       "      <td>Torgersen</td>\n",
       "      <td>39.1</td>\n",
       "      <td>18.7</td>\n",
       "      <td>181.0</td>\n",
       "      <td>3750.0</td>\n",
       "      <td>MALE</td>\n",
       "      <td>1528.81</td>\n",
       "      <td>731.17</td>\n",
       "      <td>349.69</td>\n",
       "      <td>20.4</td>\n",
       "      <td>2.090909</td>\n",
       "    </tr>\n",
       "    <tr>\n",
       "      <th>1</th>\n",
       "      <td>Torgersen</td>\n",
       "      <td>39.5</td>\n",
       "      <td>17.4</td>\n",
       "      <td>186.0</td>\n",
       "      <td>3800.0</td>\n",
       "      <td>FEMALE</td>\n",
       "      <td>1560.25</td>\n",
       "      <td>687.30</td>\n",
       "      <td>302.76</td>\n",
       "      <td>22.1</td>\n",
       "      <td>2.270115</td>\n",
       "    </tr>\n",
       "    <tr>\n",
       "      <th>2</th>\n",
       "      <td>Torgersen</td>\n",
       "      <td>40.3</td>\n",
       "      <td>18.0</td>\n",
       "      <td>195.0</td>\n",
       "      <td>3250.0</td>\n",
       "      <td>FEMALE</td>\n",
       "      <td>1624.09</td>\n",
       "      <td>725.40</td>\n",
       "      <td>324.00</td>\n",
       "      <td>22.3</td>\n",
       "      <td>2.238889</td>\n",
       "    </tr>\n",
       "    <tr>\n",
       "      <th>4</th>\n",
       "      <td>Torgersen</td>\n",
       "      <td>36.7</td>\n",
       "      <td>19.3</td>\n",
       "      <td>193.0</td>\n",
       "      <td>3450.0</td>\n",
       "      <td>FEMALE</td>\n",
       "      <td>1346.89</td>\n",
       "      <td>708.31</td>\n",
       "      <td>372.49</td>\n",
       "      <td>17.4</td>\n",
       "      <td>1.901554</td>\n",
       "    </tr>\n",
       "    <tr>\n",
       "      <th>5</th>\n",
       "      <td>Torgersen</td>\n",
       "      <td>39.3</td>\n",
       "      <td>20.6</td>\n",
       "      <td>190.0</td>\n",
       "      <td>3650.0</td>\n",
       "      <td>MALE</td>\n",
       "      <td>1544.49</td>\n",
       "      <td>809.58</td>\n",
       "      <td>424.36</td>\n",
       "      <td>18.7</td>\n",
       "      <td>1.907767</td>\n",
       "    </tr>\n",
       "    <tr>\n",
       "      <th>...</th>\n",
       "      <td>...</td>\n",
       "      <td>...</td>\n",
       "      <td>...</td>\n",
       "      <td>...</td>\n",
       "      <td>...</td>\n",
       "      <td>...</td>\n",
       "      <td>...</td>\n",
       "      <td>...</td>\n",
       "      <td>...</td>\n",
       "      <td>...</td>\n",
       "      <td>...</td>\n",
       "    </tr>\n",
       "    <tr>\n",
       "      <th>338</th>\n",
       "      <td>Biscoe</td>\n",
       "      <td>47.2</td>\n",
       "      <td>13.7</td>\n",
       "      <td>214.0</td>\n",
       "      <td>4925.0</td>\n",
       "      <td>FEMALE</td>\n",
       "      <td>2227.84</td>\n",
       "      <td>646.64</td>\n",
       "      <td>187.69</td>\n",
       "      <td>33.5</td>\n",
       "      <td>3.445255</td>\n",
       "    </tr>\n",
       "    <tr>\n",
       "      <th>340</th>\n",
       "      <td>Biscoe</td>\n",
       "      <td>46.8</td>\n",
       "      <td>14.3</td>\n",
       "      <td>215.0</td>\n",
       "      <td>4850.0</td>\n",
       "      <td>FEMALE</td>\n",
       "      <td>2190.24</td>\n",
       "      <td>669.24</td>\n",
       "      <td>204.49</td>\n",
       "      <td>32.5</td>\n",
       "      <td>3.272727</td>\n",
       "    </tr>\n",
       "    <tr>\n",
       "      <th>341</th>\n",
       "      <td>Biscoe</td>\n",
       "      <td>50.4</td>\n",
       "      <td>15.7</td>\n",
       "      <td>222.0</td>\n",
       "      <td>5750.0</td>\n",
       "      <td>MALE</td>\n",
       "      <td>2540.16</td>\n",
       "      <td>791.28</td>\n",
       "      <td>246.49</td>\n",
       "      <td>34.7</td>\n",
       "      <td>3.210191</td>\n",
       "    </tr>\n",
       "    <tr>\n",
       "      <th>342</th>\n",
       "      <td>Biscoe</td>\n",
       "      <td>45.2</td>\n",
       "      <td>14.8</td>\n",
       "      <td>212.0</td>\n",
       "      <td>5200.0</td>\n",
       "      <td>FEMALE</td>\n",
       "      <td>2043.04</td>\n",
       "      <td>668.96</td>\n",
       "      <td>219.04</td>\n",
       "      <td>30.4</td>\n",
       "      <td>3.054054</td>\n",
       "    </tr>\n",
       "    <tr>\n",
       "      <th>343</th>\n",
       "      <td>Biscoe</td>\n",
       "      <td>49.9</td>\n",
       "      <td>16.1</td>\n",
       "      <td>213.0</td>\n",
       "      <td>5400.0</td>\n",
       "      <td>MALE</td>\n",
       "      <td>2490.01</td>\n",
       "      <td>803.39</td>\n",
       "      <td>259.21</td>\n",
       "      <td>33.8</td>\n",
       "      <td>3.099379</td>\n",
       "    </tr>\n",
       "  </tbody>\n",
       "</table>\n",
       "<p>342 rows × 11 columns</p>\n",
       "</div>"
      ],
      "text/plain": [
       "        island  culmen_length_mm  culmen_depth_mm  flipper_length_mm  \\\n",
       "0    Torgersen              39.1             18.7              181.0   \n",
       "1    Torgersen              39.5             17.4              186.0   \n",
       "2    Torgersen              40.3             18.0              195.0   \n",
       "4    Torgersen              36.7             19.3              193.0   \n",
       "5    Torgersen              39.3             20.6              190.0   \n",
       "..         ...               ...              ...                ...   \n",
       "338     Biscoe              47.2             13.7              214.0   \n",
       "340     Biscoe              46.8             14.3              215.0   \n",
       "341     Biscoe              50.4             15.7              222.0   \n",
       "342     Biscoe              45.2             14.8              212.0   \n",
       "343     Biscoe              49.9             16.1              213.0   \n",
       "\n",
       "     body_mass_g     sex  culmen_length_mm^2  \\\n",
       "0         3750.0    MALE             1528.81   \n",
       "1         3800.0  FEMALE             1560.25   \n",
       "2         3250.0  FEMALE             1624.09   \n",
       "4         3450.0  FEMALE             1346.89   \n",
       "5         3650.0    MALE             1544.49   \n",
       "..           ...     ...                 ...   \n",
       "338       4925.0  FEMALE             2227.84   \n",
       "340       4850.0  FEMALE             2190.24   \n",
       "341       5750.0    MALE             2540.16   \n",
       "342       5200.0  FEMALE             2043.04   \n",
       "343       5400.0    MALE             2490.01   \n",
       "\n",
       "     culmen_length_mm * culmen_depth_mm  culmen_depth_mm^2  culmen_diff  \\\n",
       "0                                731.17             349.69         20.4   \n",
       "1                                687.30             302.76         22.1   \n",
       "2                                725.40             324.00         22.3   \n",
       "4                                708.31             372.49         17.4   \n",
       "5                                809.58             424.36         18.7   \n",
       "..                                  ...                ...          ...   \n",
       "338                              646.64             187.69         33.5   \n",
       "340                              669.24             204.49         32.5   \n",
       "341                              791.28             246.49         34.7   \n",
       "342                              668.96             219.04         30.4   \n",
       "343                              803.39             259.21         33.8   \n",
       "\n",
       "     culmen_ratio  \n",
       "0        2.090909  \n",
       "1        2.270115  \n",
       "2        2.238889  \n",
       "4        1.901554  \n",
       "5        1.907767  \n",
       "..            ...  \n",
       "338      3.445255  \n",
       "340      3.272727  \n",
       "341      3.210191  \n",
       "342      3.054054  \n",
       "343      3.099379  \n",
       "\n",
       "[342 rows x 11 columns]"
      ]
     },
     "execution_count": 10,
     "metadata": {},
     "output_type": "execute_result"
    }
   ],
   "source": [
    "X"
   ]
  },
  {
   "cell_type": "code",
   "execution_count": 11,
   "id": "91a440cd-b1c4-4232-8cd1-6ada02fa9417",
   "metadata": {},
   "outputs": [
    {
     "data": {
      "text/plain": [
       "array([[20.4       ,  2.09090909,  0.        ,  1.        ,  1.        ,\n",
       "         0.        ],\n",
       "       [22.1       ,  2.27011494,  0.        ,  1.        ,  0.        ,\n",
       "         0.        ],\n",
       "       [22.3       ,  2.23888889,  0.        ,  1.        ,  0.        ,\n",
       "         0.        ],\n",
       "       ...,\n",
       "       [34.7       ,  3.21019108,  0.        ,  0.        ,  1.        ,\n",
       "         0.        ],\n",
       "       [30.4       ,  3.05405405,  0.        ,  0.        ,  0.        ,\n",
       "         0.        ],\n",
       "       [33.8       ,  3.09937888,  0.        ,  0.        ,  1.        ,\n",
       "         0.        ]])"
      ]
     },
     "execution_count": 11,
     "metadata": {},
     "output_type": "execute_result"
    }
   ],
   "source": [
    "rfe = RFE(DecisionTreeClassifier(), n_features_to_select=6)\n",
    "X = pd.get_dummies(X, drop_first=True) # rfeに入力する前に、カテゴリカル変数を数値に変換\n",
    "rfe.fit(X, y)\n",
    "rfe.transform(X)"
   ]
  },
  {
   "cell_type": "code",
   "execution_count": 12,
   "id": "1a991b91-03c0-4886-9411-07b17c3150ad",
   "metadata": {},
   "outputs": [
    {
     "data": {
      "text/plain": [
       "array(['culmen_length_mm', 'culmen_depth_mm', 'flipper_length_mm',\n",
       "       'body_mass_g', 'culmen_length_mm^2',\n",
       "       'culmen_length_mm * culmen_depth_mm', 'culmen_depth_mm^2',\n",
       "       'culmen_diff', 'culmen_ratio', 'island_Dream', 'island_Torgersen',\n",
       "       'sex_MALE', 'sex_NaN'], dtype=object)"
      ]
     },
     "execution_count": 12,
     "metadata": {},
     "output_type": "execute_result"
    }
   ],
   "source": [
    "# 特徴量のリスト\n",
    "rfe.feature_names_in_"
   ]
  },
  {
   "cell_type": "code",
   "execution_count": 13,
   "id": "209e1300-6feb-46e4-9e29-138932748db9",
   "metadata": {},
   "outputs": [
    {
     "data": {
      "text/plain": [
       "array([8, 7, 6, 5, 4, 3, 2, 1, 1, 1, 1, 1, 1])"
      ]
     },
     "execution_count": 13,
     "metadata": {},
     "output_type": "execute_result"
    }
   ],
   "source": [
    "# 特徴量の重要度ランキング\n",
    "rfe.ranking_"
   ]
  },
  {
   "cell_type": "code",
   "execution_count": 14,
   "id": "ddedd6c9-8ae1-4bd5-89c0-5a98fc8a3c22",
   "metadata": {},
   "outputs": [
    {
     "data": {
      "text/plain": [
       "array(['culmen_diff', 'culmen_ratio', 'island_Dream', 'island_Torgersen',\n",
       "       'sex_MALE', 'sex_NaN'], dtype=object)"
      ]
     },
     "execution_count": 14,
     "metadata": {},
     "output_type": "execute_result"
    }
   ],
   "source": [
    "# 選択された特徴量のリストを取得\n",
    "# rfe.feature_names_in_[rfe.ranking_==1] # 重要度ランキング1のみ表示\n",
    "rfe.feature_names_in_[rfe.support_] # RFEで最終的に残った特徴量のみ表示"
   ]
  },
  {
   "cell_type": "code",
   "execution_count": 15,
   "id": "b4a3f6b3-334e-4db8-807f-5660d1938167",
   "metadata": {},
   "outputs": [
    {
     "name": "stdout",
     "output_type": "stream",
     "text": [
      "[1.         1.         0.99122807]\n"
     ]
    }
   ],
   "source": [
    "# パイプラインでRFEを使って特徴量選択して学習\n",
    "# Pipeline\n",
    "pipeline = Pipeline([('rfe', rfe), ('scaler', StandardScaler()), ('model', LogisticRegression())])\n",
    "cv = KFold(n_splits=3, random_state=0, shuffle=True)\n",
    "scores = cross_val_score(pipeline, X, y, cv=cv)\n",
    "print(scores)"
   ]
  },
  {
   "cell_type": "code",
   "execution_count": 16,
   "id": "6fade17f-b308-46d6-9325-120b3572e365",
   "metadata": {},
   "outputs": [
    {
     "data": {
      "text/plain": [
       "array([[20.4       ,  2.09090909,  0.        ],\n",
       "       [22.1       ,  2.27011494,  0.        ],\n",
       "       [22.3       ,  2.23888889,  0.        ],\n",
       "       ...,\n",
       "       [34.7       ,  3.21019108,  0.        ],\n",
       "       [30.4       ,  3.05405405,  0.        ],\n",
       "       [33.8       ,  3.09937888,  0.        ]])"
      ]
     },
     "execution_count": 16,
     "metadata": {},
     "output_type": "execute_result"
    }
   ],
   "source": [
    "# RFECV\n",
    "rfecv = RFECV(DecisionTreeClassifier(), cv=cv)\n",
    "rfecv.fit(X, y)\n",
    "rfecv.transform(X)"
   ]
  },
  {
   "cell_type": "code",
   "execution_count": 17,
   "id": "d35878df-a1c6-473c-a804-627a94c402db",
   "metadata": {},
   "outputs": [
    {
     "data": {
      "text/plain": [
       "array(['culmen_diff', 'culmen_ratio', 'island_Dream'], dtype=object)"
      ]
     },
     "execution_count": 17,
     "metadata": {},
     "output_type": "execute_result"
    }
   ],
   "source": [
    "rfecv.feature_names_in_[rfecv.support_]"
   ]
  },
  {
   "cell_type": "code",
   "execution_count": 18,
   "id": "5cc0744d-c89a-4ee7-9ed4-158b88bd3fe5",
   "metadata": {},
   "outputs": [
    {
     "data": {
      "text/plain": [
       "<ErrorbarContainer object of 3 artists>"
      ]
     },
     "execution_count": 18,
     "metadata": {},
     "output_type": "execute_result"
    },
    {
     "data": {
      "image/png": "[encoded data removed]",
      "text/plain": [
       "<Figure size 640x480 with 1 Axes>"
      ]
     },
     "metadata": {},
     "output_type": "display_data"
    }
   ],
   "source": [
    "# 特徴量の数と精度の推移を描画\n",
    "plt.errorbar(range(1, 1+len(rfecv.cv_results_['mean_test_score'])),\n",
    "            rfecv.cv_results_['mean_test_score'],\n",
    "            yerr=rfecv.cv_results_['std_test_score'])"
   ]
  },
  {
   "cell_type": "code",
   "execution_count": 19,
   "id": "c81799b6-e8aa-4fee-b97d-b8f639404161",
   "metadata": {},
   "outputs": [
    {
     "data": {
      "text/plain": [
       "array([0.8625731 , 0.97953216, 0.98830409, 0.98830409, 0.98830409,\n",
       "       0.98830409, 0.98830409, 0.98830409, 0.98830409, 0.98830409,\n",
       "       0.98245614, 0.98538012, 0.98245614])"
      ]
     },
     "execution_count": 19,
     "metadata": {},
     "output_type": "execute_result"
    }
   ],
   "source": [
    "rfecv.cv_results_['mean_test_score']"
   ]
  },
  {
   "cell_type": "markdown",
   "id": "b521a63d-7220-4dd0-8134-3c4ec251038d",
   "metadata": {},
   "source": [
    "### モデルの係数や重要度で特徴量選択"
   ]
  },
  {
   "cell_type": "code",
   "execution_count": 22,
   "id": "bb6cc38b-1be4-40eb-a490-72213df516da",
   "metadata": {},
   "outputs": [
    {
     "data": {
      "text/plain": [
       "array([[ 39.1       ,  18.7       , 181.        , ..., 349.69      ,\n",
       "         20.4       ,   2.09090909],\n",
       "       [ 39.5       ,  17.4       , 186.        , ..., 302.76      ,\n",
       "         22.1       ,   2.27011494],\n",
       "       [ 40.3       ,  18.        , 195.        , ..., 324.        ,\n",
       "         22.3       ,   2.23888889],\n",
       "       ...,\n",
       "       [ 50.4       ,  15.7       , 222.        , ..., 246.49      ,\n",
       "         34.7       ,   3.21019108],\n",
       "       [ 45.2       ,  14.8       , 212.        , ..., 219.04      ,\n",
       "         30.4       ,   3.05405405],\n",
       "       [ 49.9       ,  16.1       , 213.        , ..., 259.21      ,\n",
       "         33.8       ,   3.09937888]])"
      ]
     },
     "execution_count": 22,
     "metadata": {},
     "output_type": "execute_result"
    }
   ],
   "source": [
    "sfm = SelectFromModel(RandomForestClassifier(random_state=0))\n",
    "X_selected = sfm.fit_transform(X, y)\n",
    "X_selected"
   ]
  },
  {
   "cell_type": "code",
   "execution_count": 24,
   "id": "daac0b02-4b65-4af6-b166-d7923aecf54b",
   "metadata": {},
   "outputs": [
    {
     "data": {
      "text/plain": [
       "array([0.08924232, 0.07961904, 0.09933245, 0.0525517 , 0.08072858,\n",
       "       0.01467092, 0.10925035, 0.14543881, 0.24562145, 0.07424349,\n",
       "       0.00630753, 0.00299336, 0.        ])"
      ]
     },
     "execution_count": 24,
     "metadata": {},
     "output_type": "execute_result"
    }
   ],
   "source": [
    "# .estimator_で特徴量選択に使用したモデルにアクセス\n",
    "sfm.estimator_.feature_importances_"
   ]
  },
  {
   "cell_type": "code",
   "execution_count": 26,
   "id": "bb73c106-f01b-42dd-8fbe-dc13cf9b1312",
   "metadata": {},
   "outputs": [
    {
     "data": {
      "text/plain": [
       "array(['culmen_length_mm', 'culmen_depth_mm', 'flipper_length_mm',\n",
       "       'culmen_length_mm^2', 'culmen_depth_mm^2', 'culmen_diff',\n",
       "       'culmen_ratio'], dtype=object)"
      ]
     },
     "execution_count": 26,
     "metadata": {},
     "output_type": "execute_result"
    }
   ],
   "source": [
    "# 選択された特徴量のリストを取得\n",
    "sfm.feature_names_in_[sfm.get_support()]"
   ]
  },
  {
   "cell_type": "markdown",
   "id": "011d6761-0818-4084-887a-431ca1186218",
   "metadata": {},
   "source": [
    "### L1正則化項で特徴量選択"
   ]
  },
  {
   "cell_type": "code",
   "execution_count": 29,
   "id": "6d189c0e-c0a1-4b3b-9977-abfdfbd213a4",
   "metadata": {},
   "outputs": [
    {
     "data": {
      "text/html": [
       "<div>\n",
       "<style scoped>\n",
       "    .dataframe tbody tr th:only-of-type {\n",
       "        vertical-align: middle;\n",
       "    }\n",
       "\n",
       "    .dataframe tbody tr th {\n",
       "        vertical-align: top;\n",
       "    }\n",
       "\n",
       "    .dataframe thead th {\n",
       "        text-align: right;\n",
       "    }\n",
       "</style>\n",
       "<table border=\"1\" class=\"dataframe\">\n",
       "  <thead>\n",
       "    <tr style=\"text-align: right;\">\n",
       "      <th></th>\n",
       "      <th>culmen_length_mm</th>\n",
       "      <th>culmen_depth_mm</th>\n",
       "      <th>flipper_length_mm</th>\n",
       "      <th>body_mass_g</th>\n",
       "      <th>culmen_length_mm * culmen_depth_mm</th>\n",
       "      <th>culmen_depth_mm^2</th>\n",
       "      <th>culmen_diff</th>\n",
       "      <th>culmen_ratio</th>\n",
       "      <th>island_Dream</th>\n",
       "      <th>island_Torgersen</th>\n",
       "      <th>sex_MALE</th>\n",
       "    </tr>\n",
       "  </thead>\n",
       "  <tbody>\n",
       "    <tr>\n",
       "      <th>0</th>\n",
       "      <td>-0.884499</td>\n",
       "      <td>0.785449</td>\n",
       "      <td>-1.418347</td>\n",
       "      <td>-0.564142</td>\n",
       "      <td>-0.170197</td>\n",
       "      <td>0.768371</td>\n",
       "      <td>-1.024588</td>\n",
       "      <td>-1.036429</td>\n",
       "      <td>-0.754193</td>\n",
       "      <td>2.388699</td>\n",
       "      <td>1.017700</td>\n",
       "    </tr>\n",
       "    <tr>\n",
       "      <th>1</th>\n",
       "      <td>-0.811126</td>\n",
       "      <td>0.126188</td>\n",
       "      <td>-1.062250</td>\n",
       "      <td>-0.501703</td>\n",
       "      <td>-0.550838</td>\n",
       "      <td>0.070068</td>\n",
       "      <td>-0.751183</td>\n",
       "      <td>-0.675598</td>\n",
       "      <td>-0.754193</td>\n",
       "      <td>2.388699</td>\n",
       "      <td>-0.982607</td>\n",
       "    </tr>\n",
       "    <tr>\n",
       "      <th>2</th>\n",
       "      <td>-0.664380</td>\n",
       "      <td>0.430462</td>\n",
       "      <td>-0.421277</td>\n",
       "      <td>-1.188532</td>\n",
       "      <td>-0.220261</td>\n",
       "      <td>0.386112</td>\n",
       "      <td>-0.719018</td>\n",
       "      <td>-0.738471</td>\n",
       "      <td>-0.754193</td>\n",
       "      <td>2.388699</td>\n",
       "      <td>-0.982607</td>\n",
       "    </tr>\n",
       "    <tr>\n",
       "      <th>4</th>\n",
       "      <td>-1.324737</td>\n",
       "      <td>1.089724</td>\n",
       "      <td>-0.563715</td>\n",
       "      <td>-0.938776</td>\n",
       "      <td>-0.368543</td>\n",
       "      <td>1.107627</td>\n",
       "      <td>-1.507068</td>\n",
       "      <td>-1.417695</td>\n",
       "      <td>-0.754193</td>\n",
       "      <td>2.388699</td>\n",
       "      <td>-0.982607</td>\n",
       "    </tr>\n",
       "    <tr>\n",
       "      <th>5</th>\n",
       "      <td>-0.847812</td>\n",
       "      <td>1.748985</td>\n",
       "      <td>-0.777373</td>\n",
       "      <td>-0.689020</td>\n",
       "      <td>0.510134</td>\n",
       "      <td>1.879435</td>\n",
       "      <td>-1.297994</td>\n",
       "      <td>-1.405186</td>\n",
       "      <td>-0.754193</td>\n",
       "      <td>2.388699</td>\n",
       "      <td>1.017700</td>\n",
       "    </tr>\n",
       "    <tr>\n",
       "      <th>...</th>\n",
       "      <td>...</td>\n",
       "      <td>...</td>\n",
       "      <td>...</td>\n",
       "      <td>...</td>\n",
       "      <td>...</td>\n",
       "      <td>...</td>\n",
       "      <td>...</td>\n",
       "      <td>...</td>\n",
       "      <td>...</td>\n",
       "      <td>...</td>\n",
       "      <td>...</td>\n",
       "    </tr>\n",
       "    <tr>\n",
       "      <th>338</th>\n",
       "      <td>0.601305</td>\n",
       "      <td>-1.750171</td>\n",
       "      <td>0.931890</td>\n",
       "      <td>0.903175</td>\n",
       "      <td>-0.903628</td>\n",
       "      <td>-1.642135</td>\n",
       "      <td>1.082241</td>\n",
       "      <td>1.690550</td>\n",
       "      <td>-0.754193</td>\n",
       "      <td>-0.418638</td>\n",
       "      <td>-0.982607</td>\n",
       "    </tr>\n",
       "    <tr>\n",
       "      <th>340</th>\n",
       "      <td>0.527932</td>\n",
       "      <td>-1.445897</td>\n",
       "      <td>1.003109</td>\n",
       "      <td>0.809516</td>\n",
       "      <td>-0.707537</td>\n",
       "      <td>-1.392157</td>\n",
       "      <td>0.921415</td>\n",
       "      <td>1.343164</td>\n",
       "      <td>-0.754193</td>\n",
       "      <td>-0.418638</td>\n",
       "      <td>-0.982607</td>\n",
       "    </tr>\n",
       "    <tr>\n",
       "      <th>341</th>\n",
       "      <td>1.188289</td>\n",
       "      <td>-0.735923</td>\n",
       "      <td>1.501644</td>\n",
       "      <td>1.933419</td>\n",
       "      <td>0.351353</td>\n",
       "      <td>-0.767211</td>\n",
       "      <td>1.275233</td>\n",
       "      <td>1.217248</td>\n",
       "      <td>-0.754193</td>\n",
       "      <td>-0.418638</td>\n",
       "      <td>1.017700</td>\n",
       "    </tr>\n",
       "    <tr>\n",
       "      <th>342</th>\n",
       "      <td>0.234440</td>\n",
       "      <td>-1.192335</td>\n",
       "      <td>0.789451</td>\n",
       "      <td>1.246590</td>\n",
       "      <td>-0.709967</td>\n",
       "      <td>-1.175658</td>\n",
       "      <td>0.583679</td>\n",
       "      <td>0.902865</td>\n",
       "      <td>-0.754193</td>\n",
       "      <td>-0.418638</td>\n",
       "      <td>-0.982607</td>\n",
       "    </tr>\n",
       "    <tr>\n",
       "      <th>343</th>\n",
       "      <td>1.096572</td>\n",
       "      <td>-0.533073</td>\n",
       "      <td>0.860670</td>\n",
       "      <td>1.496346</td>\n",
       "      <td>0.456426</td>\n",
       "      <td>-0.577941</td>\n",
       "      <td>1.130489</td>\n",
       "      <td>0.994127</td>\n",
       "      <td>-0.754193</td>\n",
       "      <td>-0.418638</td>\n",
       "      <td>1.017700</td>\n",
       "    </tr>\n",
       "  </tbody>\n",
       "</table>\n",
       "<p>342 rows × 11 columns</p>\n",
       "</div>"
      ],
      "text/plain": [
       "     culmen_length_mm  culmen_depth_mm  flipper_length_mm  body_mass_g  \\\n",
       "0           -0.884499         0.785449          -1.418347    -0.564142   \n",
       "1           -0.811126         0.126188          -1.062250    -0.501703   \n",
       "2           -0.664380         0.430462          -0.421277    -1.188532   \n",
       "4           -1.324737         1.089724          -0.563715    -0.938776   \n",
       "5           -0.847812         1.748985          -0.777373    -0.689020   \n",
       "..                ...              ...                ...          ...   \n",
       "338          0.601305        -1.750171           0.931890     0.903175   \n",
       "340          0.527932        -1.445897           1.003109     0.809516   \n",
       "341          1.188289        -0.735923           1.501644     1.933419   \n",
       "342          0.234440        -1.192335           0.789451     1.246590   \n",
       "343          1.096572        -0.533073           0.860670     1.496346   \n",
       "\n",
       "     culmen_length_mm * culmen_depth_mm  culmen_depth_mm^2  culmen_diff  \\\n",
       "0                             -0.170197           0.768371    -1.024588   \n",
       "1                             -0.550838           0.070068    -0.751183   \n",
       "2                             -0.220261           0.386112    -0.719018   \n",
       "4                             -0.368543           1.107627    -1.507068   \n",
       "5                              0.510134           1.879435    -1.297994   \n",
       "..                                  ...                ...          ...   \n",
       "338                           -0.903628          -1.642135     1.082241   \n",
       "340                           -0.707537          -1.392157     0.921415   \n",
       "341                            0.351353          -0.767211     1.275233   \n",
       "342                           -0.709967          -1.175658     0.583679   \n",
       "343                            0.456426          -0.577941     1.130489   \n",
       "\n",
       "     culmen_ratio  island_Dream  island_Torgersen  sex_MALE  \n",
       "0       -1.036429     -0.754193          2.388699  1.017700  \n",
       "1       -0.675598     -0.754193          2.388699 -0.982607  \n",
       "2       -0.738471     -0.754193          2.388699 -0.982607  \n",
       "4       -1.417695     -0.754193          2.388699 -0.982607  \n",
       "5       -1.405186     -0.754193          2.388699  1.017700  \n",
       "..            ...           ...               ...       ...  \n",
       "338      1.690550     -0.754193         -0.418638 -0.982607  \n",
       "340      1.343164     -0.754193         -0.418638 -0.982607  \n",
       "341      1.217248     -0.754193         -0.418638  1.017700  \n",
       "342      0.902865     -0.754193         -0.418638 -0.982607  \n",
       "343      0.994127     -0.754193         -0.418638  1.017700  \n",
       "\n",
       "[342 rows x 11 columns]"
      ]
     },
     "execution_count": 29,
     "metadata": {},
     "output_type": "execute_result"
    }
   ],
   "source": [
    "sfm = SelectFromModel(LogisticRegression(penalty='l1', solver='liblinear'))\n",
    "pipeline = Pipeline([('scaler', StandardScaler()), ('feature_selection', sfm)])\n",
    "pipeline.set_output(transform='pandas')\n",
    "pipeline.fit_transform(X, y)"
   ]
  },
  {
   "cell_type": "code",
   "execution_count": 30,
   "id": "558abfcb-2d75-413e-9063-4b9490275949",
   "metadata": {},
   "outputs": [
    {
     "data": {
      "text/plain": [
       "array([[ 0.        ,  0.        , -0.17473085,  0.        ,  0.        ,\n",
       "         0.        ,  0.03765913, -6.89505635, -0.11393285, -0.35070481,\n",
       "         0.89123208,  1.17873736,  0.        ],\n",
       "       [ 4.21278216,  0.        ,  0.        , -2.37080366,  0.        ,\n",
       "         0.14767623,  0.        ,  0.        ,  0.        ,  2.66065972,\n",
       "         0.        , -0.75549765,  0.        ],\n",
       "       [ 0.        , -2.75474145,  1.69342339,  1.81502339,  0.        ,\n",
       "         0.        ,  0.        ,  0.        ,  0.51834141, -0.24724811,\n",
       "         0.        ,  0.        ,  0.        ]])"
      ]
     },
     "execution_count": 30,
     "metadata": {},
     "output_type": "execute_result"
    }
   ],
   "source": [
    "# 使用したロジスティック回帰の係数(3クラス分)を確認\n",
    "sfm.estimator_.coef_"
   ]
  },
  {
   "cell_type": "code",
   "execution_count": 32,
   "id": "8c5552af-42a1-4f28-9e8f-ac50aadf455e",
   "metadata": {},
   "outputs": [
    {
     "data": {
      "text/plain": [
       "array([ True,  True,  True,  True, False,  True,  True,  True,  True,\n",
       "        True,  True,  True, False])"
      ]
     },
     "execution_count": 32,
     "metadata": {},
     "output_type": "execute_result"
    }
   ],
   "source": [
    "sfm.get_support()"
   ]
  },
  {
   "cell_type": "code",
   "execution_count": 31,
   "id": "ed6aec9d-dc39-4006-89ef-eac0f2005e06",
   "metadata": {},
   "outputs": [
    {
     "data": {
      "text/plain": [
       "array(['culmen_length_mm', 'culmen_depth_mm', 'flipper_length_mm',\n",
       "       'body_mass_g', 'culmen_length_mm * culmen_depth_mm',\n",
       "       'culmen_depth_mm^2', 'culmen_diff', 'culmen_ratio', 'island_Dream',\n",
       "       'island_Torgersen', 'sex_MALE'], dtype=object)"
      ]
     },
     "execution_count": 31,
     "metadata": {},
     "output_type": "execute_result"
    }
   ],
   "source": [
    "# 選択された特徴量のリスト\n",
    "sfm.feature_names_in_[sfm.get_support()]"
   ]
  },
  {
   "cell_type": "code",
   "execution_count": null,
   "id": "39793108-7fbd-4c45-a19e-291206975d65",
   "metadata": {},
   "outputs": [],
   "source": []
  }
 ],
 "metadata": {
  "kernelspec": {
   "display_name": "Python 3 (ipykernel)",
   "language": "python",
   "name": "python3"
  },
  "language_info": {
   "codemirror_mode": {
    "name": "ipython",
    "version": 3
   },
   "file_extension": ".py",
   "mimetype": "text/x-python",
   "name": "python",
   "nbconvert_exporter": "python",
   "pygments_lexer": "ipython3",
   "version": "3.9.13"
  }
 },
 "nbformat": 4,
 "nbformat_minor": 5
}
