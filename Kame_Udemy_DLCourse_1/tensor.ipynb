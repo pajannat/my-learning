{
 "cells": [
  {
   "cell_type": "markdown",
   "id": "ebb24cd2-094b-4762-8b40-4a621bdbc175",
   "metadata": {},
   "source": [
    "## Tensorの基礎"
   ]
  },
  {
   "cell_type": "code",
   "execution_count": 1,
   "id": "cdae4a89-f45c-465c-8adb-654efe004cac",
   "metadata": {},
   "outputs": [
    {
     "data": {
      "text/plain": [
       "<torch._C.Generator at 0x7fcef3e7efd0>"
      ]
     },
     "execution_count": 1,
     "metadata": {},
     "output_type": "execute_result"
    }
   ],
   "source": [
    "import torch\n",
    "import numpy as np\n",
    "# 乱数の種を固定\n",
    "torch.manual_seed(42)"
   ]
  },
  {
   "cell_type": "markdown",
   "id": "001c5461-97b3-45ad-8084-a19c30d01f2a",
   "metadata": {},
   "source": [
    "### Tensorの作成"
   ]
  },
  {
   "cell_type": "code",
   "execution_count": 8,
   "id": "e49d5d64-dc43-4a7f-babc-cbbfc618f365",
   "metadata": {},
   "outputs": [
    {
     "name": "stdout",
     "output_type": "stream",
     "text": [
      "Tensor from list: tensor([1, 2, 3, 4])\n"
     ]
    }
   ],
   "source": [
    "my_list = [1, 2, 3, 4]\n",
    "tensor_from_list = torch.tensor(my_list)\n",
    "print(\"Tensor from list:\", tensor_from_list)"
   ]
  },
  {
   "cell_type": "code",
   "execution_count": 9,
   "id": "62a74f06-4615-4bd0-8380-269740c1a61a",
   "metadata": {},
   "outputs": [
    {
     "data": {
      "text/plain": [
       "torch.Tensor"
      ]
     },
     "execution_count": 9,
     "metadata": {},
     "output_type": "execute_result"
    }
   ],
   "source": [
    "type(tensor_from_list)"
   ]
  },
  {
   "cell_type": "code",
   "execution_count": 10,
   "id": "a87ae99c-4ba6-4763-8d86-0f21e20467a2",
   "metadata": {},
   "outputs": [
    {
     "data": {
      "text/plain": [
       "torch.int64"
      ]
     },
     "execution_count": 10,
     "metadata": {},
     "output_type": "execute_result"
    }
   ],
   "source": [
    "# intのリストで作成したTensorのデータ形はint64\n",
    "tensor_from_list.dtype"
   ]
  },
  {
   "cell_type": "code",
   "execution_count": 11,
   "id": "d930cdae-6462-430c-a5b0-9ce4d2cef7f6",
   "metadata": {},
   "outputs": [
    {
     "name": "stdout",
     "output_type": "stream",
     "text": [
      "Tensor from list: tensor([1., 2., 3., 4.])\n"
     ]
    },
    {
     "data": {
      "text/plain": [
       "torch.float32"
      ]
     },
     "execution_count": 11,
     "metadata": {},
     "output_type": "execute_result"
    }
   ],
   "source": [
    "# floatのlistで作ったtensorはfloat32\n",
    "my_list = [1., 2., 3., 4.]\n",
    "tensor_from_list = torch.tensor(my_list)\n",
    "print(\"Tensor from list:\", tensor_from_list)\n",
    "tensor_from_list.dtype"
   ]
  },
  {
   "cell_type": "code",
   "execution_count": 16,
   "id": "eca3a2ca-1c20-45c7-aa73-bc0c4267f2d2",
   "metadata": {},
   "outputs": [
    {
     "data": {
      "text/plain": [
       "tensor([1., 2., 3., 4.], dtype=torch.float64)"
      ]
     },
     "execution_count": 16,
     "metadata": {},
     "output_type": "execute_result"
    }
   ],
   "source": [
    "# dtype引数でデータ型を指定\n",
    "tensor_from_list = torch.tensor(my_list, dtype=torch.float64)\n",
    "tensor_from_list"
   ]
  },
  {
   "cell_type": "markdown",
   "id": "1363a7ec-b98d-4e83-bb90-544ff7dd5a3c",
   "metadata": {},
   "source": [
    "### Tensor作成"
   ]
  },
  {
   "cell_type": "code",
   "execution_count": 26,
   "id": "dfd62ad6-0eab-445c-93a9-15628d749441",
   "metadata": {},
   "outputs": [],
   "source": [
    "zeros_tensor = torch.zeros((2, 3))\n",
    "ones_tensor = torch.ones((2, 3))\n",
    "eye_tensor = torch.eye(3)\n",
    "random_tensor = torch.rand((2, 3))"
   ]
  },
  {
   "cell_type": "code",
   "execution_count": 27,
   "id": "34280848-72f5-4854-bba8-ac12091679c1",
   "metadata": {},
   "outputs": [
    {
     "name": "stdout",
     "output_type": "stream",
     "text": [
      "tensor([[0., 0., 0.],\n",
      "        [0., 0., 0.]]) torch.float32\n",
      "tensor([[1., 1., 1.],\n",
      "        [1., 1., 1.]]) torch.float32\n",
      "tensor([[1., 0., 0.],\n",
      "        [0., 1., 0.],\n",
      "        [0., 0., 1.]]) torch.float32\n",
      "tensor([[0.8823, 0.9150, 0.3829],\n",
      "        [0.9593, 0.3904, 0.6009]]) torch.float32\n"
     ]
    }
   ],
   "source": [
    "print(zeros_tensor, zeros_tensor.dtype)\n",
    "print(ones_tensor, ones_tensor.dtype)\n",
    "print(eye_tensor, eye_tensor.dtype)\n",
    "print(random_tensor, random_tensor.dtype)"
   ]
  },
  {
   "cell_type": "code",
   "execution_count": 29,
   "id": "e8d581ba-68bb-4acb-bae0-6d28c9e4e8e7",
   "metadata": {},
   "outputs": [
    {
     "name": "stdout",
     "output_type": "stream",
     "text": [
      "[[0. 0. 0.]\n",
      " [0. 0. 0.]] float64\n",
      "[[1. 1. 1.]\n",
      " [1. 1. 1.]] float64\n",
      "[[1. 0. 0.]\n",
      " [0. 1. 0.]\n",
      " [0. 0. 1.]] float64\n",
      "[[0.33363329 0.38410748 0.94200786]\n",
      " [0.50446434 0.43901587 0.35210996]] float64\n"
     ]
    }
   ],
   "source": [
    "# NumPyとの対応\n",
    "np_zeros = np.zeros((2, 3))\n",
    "np_ones = np.ones((2, 3))\n",
    "np_eye = np.eye(3)\n",
    "np_random = np.random.rand(2, 3)\n",
    "# Numpy Arrayのデフォルトはfloat64であることに注意\n",
    "print(np_zeros, np_zeros.dtype)\n",
    "print(np_ones, np_ones.dtype)\n",
    "print(np_eye, np_eye.dtype)\n",
    "print(np_random, np_random.dtype)"
   ]
  },
  {
   "cell_type": "code",
   "execution_count": 31,
   "id": "c26e7437-81b7-4ac4-bad7-e1fad6bda492",
   "metadata": {},
   "outputs": [
    {
     "data": {
      "text/plain": [
       "torch.Size([2, 3])"
      ]
     },
     "execution_count": 31,
     "metadata": {},
     "output_type": "execute_result"
    }
   ],
   "source": [
    "# Tensorのshapeを表示\n",
    "zeros_tensor.shape"
   ]
  },
  {
   "cell_type": "markdown",
   "id": "06820331-9f7f-4313-811a-22aa52267148",
   "metadata": {},
   "source": [
    "### Tensorの操作"
   ]
  },
  {
   "cell_type": "code",
   "execution_count": 3,
   "id": "d9daf73d-74b9-472b-8a38-bcd5e90b52d4",
   "metadata": {},
   "outputs": [
    {
     "name": "stdout",
     "output_type": "stream",
     "text": [
      "tensor([[[0.8823, 0.9150, 0.3829, 0.9593],\n",
      "         [0.3904, 0.6009, 0.2566, 0.7936],\n",
      "         [0.9408, 0.1332, 0.9346, 0.5936]],\n",
      "\n",
      "        [[0.8694, 0.5677, 0.7411, 0.4294],\n",
      "         [0.8854, 0.5739, 0.2666, 0.6274],\n",
      "         [0.2696, 0.4414, 0.2969, 0.8317]]]) [[[0.12888839 0.06892822 0.93796238 0.16430782]\n",
      "  [0.27024205 0.01265678 0.68598949 0.00123841]\n",
      "  [0.59747782 0.56905327 0.80361415 0.03402036]]\n",
      "\n",
      " [[0.28913533 0.61300381 0.75102186 0.50114811]\n",
      "  [0.94052028 0.91244332 0.41554974 0.88407317]\n",
      "  [0.10938161 0.1582489  0.23327945 0.3910318 ]]]\n"
     ]
    }
   ],
   "source": [
    "tensor_example = torch.rand((2, 3, 4))\n",
    "np_example = np.random.rand(2, 3, 4)\n",
    "print(tensor_example, np_example)"
   ]
  },
  {
   "cell_type": "code",
   "execution_count": 4,
   "id": "efb4611d-4f6d-4a97-bbc0-0432678035f1",
   "metadata": {},
   "outputs": [
    {
     "data": {
      "text/plain": [
       "torch.Size([2, 3, 4])"
      ]
     },
     "execution_count": 4,
     "metadata": {},
     "output_type": "execute_result"
    }
   ],
   "source": [
    "tensor_example.shape"
   ]
  },
  {
   "cell_type": "code",
   "execution_count": 5,
   "id": "67bd0f4a-4d27-43a3-99ff-a7b50b0ad09d",
   "metadata": {},
   "outputs": [
    {
     "data": {
      "text/plain": [
       "(2, 3, 4)"
      ]
     },
     "execution_count": 5,
     "metadata": {},
     "output_type": "execute_result"
    }
   ],
   "source": [
    "np_example.shape"
   ]
  },
  {
   "cell_type": "code",
   "execution_count": 16,
   "id": "0b02da72-5ffa-410f-ae9b-20d025730e16",
   "metadata": {},
   "outputs": [
    {
     "name": "stdout",
     "output_type": "stream",
     "text": [
      "Original shape of tensor: torch.Size([2, 3, 4])\n",
      "Permuted tensor: torch.Size([3, 2, 4])\n",
      "Transposed numpy array: (3, 2, 4)\n",
      "\n",
      "Original shape of tensor: torch.Size([2, 3, 4])\n",
      "Transposed tensor: torch.Size([3, 2, 4])\n"
     ]
    }
   ],
   "source": [
    "# 転置\n",
    "permuted_tensor = torch.permute(tensor_example, (1, 0, 2))\n",
    "transposed_np = np.transpose(np_example, (1, 0, 2))\n",
    "print(\"Original shape of tensor:\", tensor_example.shape)\n",
    "print(\"Permuted tensor:\", permuted_tensor.shape)\n",
    "print(\"Transposed numpy array:\", transposed_np.shape)\n",
    "print()\n",
    "\n",
    "transposed_tensor = torch.transpose(tensor_example, 0, 1)\n",
    "print(\"Original shape of tensor:\", tensor_example.shape)\n",
    "print(\"Transposed tensor:\", transposed_tensor.shape)\n",
    "\n",
    "# 二次元(rankが2つのtensor)の場合は .T / .t()"
   ]
  },
  {
   "cell_type": "code",
   "execution_count": 14,
   "id": "77710fbe-9c79-4bec-9018-1efed02d40be",
   "metadata": {},
   "outputs": [
    {
     "name": "stdout",
     "output_type": "stream",
     "text": [
      "Original shape of tensor: torch.Size([2, 3, 4])\n",
      "Reshaped tensor: torch.Size([6, 4])\n",
      "Reshaped numpy array: (6, 4)\n"
     ]
    }
   ],
   "source": [
    "# reshape\n",
    "reshaped_tensor = torch.reshape(tensor_example, (6, 4))\n",
    "reshaped_np = np.reshape(np_example, (6, 4))\n",
    "# 結果を表示\n",
    "print(\"Original shape of tensor:\", tensor_example.shape)\n",
    "print(\"Reshaped tensor:\", reshaped_tensor.shape)\n",
    "print(\"Reshaped numpy array:\", reshaped_np.shape)"
   ]
  },
  {
   "cell_type": "code",
   "execution_count": 17,
   "id": "2853f327-acc6-46de-b28c-3bcf28fa8b85",
   "metadata": {},
   "outputs": [
    {
     "name": "stdout",
     "output_type": "stream",
     "text": [
      "tensor([[0.8823, 0.9150, 0.3829, 0.9593],\n",
      "        [0.3904, 0.6009, 0.2566, 0.7936],\n",
      "        [0.9408, 0.1332, 0.9346, 0.5936]])\n",
      "tensor([[0.0000, 0.0000, 0.0000, 0.0000],\n",
      "        [0.3904, 0.6009, 0.2566, 0.7936],\n",
      "        [0.9408, 0.1332, 0.9346, 0.5936]])\n"
     ]
    }
   ],
   "source": [
    "# 基本的には元のメモリをそのまま使っている\n",
    "# reshape後のtensorを変更すると，元のtensorも変更されている\n",
    "print(tensor_example[0])\n",
    "reshaped_tensor[0] = 0\n",
    "print(tensor_example[0])"
   ]
  },
  {
   "cell_type": "code",
   "execution_count": 33,
   "id": "ce7f02e6-1ec4-4606-93b2-a32625643b98",
   "metadata": {},
   "outputs": [
    {
     "name": "stdout",
     "output_type": "stream",
     "text": [
      "False\n",
      "False\n"
     ]
    }
   ],
   "source": [
    "# メモリが連続でなければreshape後のtensorはコピーを返す\n",
    "# 連続的なメモリレイアウトを持つTensorを作成\n",
    "x = torch.tensor([[1, 2], [3, 4], [5, 6]])\n",
    "\n",
    "# 連続的なメモリレイアウトを持たない部分Tensorを取得 (transposed tensor)\n",
    "y = x.T\n",
    "\n",
    "# y は非連続的なメモリレイアウトを持つことを確認\n",
    "print(y.is_contiguous())  # False が出力される\n",
    "\n",
    "# reshape を使用して y の形状を変更\n",
    "z = y.reshape(-1)\n",
    "# 以下はエラーになる(viewはメモリが連続の場合のみ使える)\n",
    "# viewを使って形状変更していれば、不意にコピーが作られメモリを浪費することがない\n",
    "# z = y.view(-1)\n",
    "\n",
    "# z が y とメモリを共有していないことを確認 (コピーが作成されたことを意味する)\n",
    "print(z.data_ptr() == y.data_ptr())  # False が出力される"
   ]
  },
  {
   "cell_type": "code",
   "execution_count": 35,
   "id": "615a3501-0908-43c6-8747-0c6dd92cf745",
   "metadata": {},
   "outputs": [
    {
     "name": "stdout",
     "output_type": "stream",
     "text": [
      "Flattened tensor: torch.Size([24])\n",
      "Flattened numpy array: (24,)\n"
     ]
    }
   ],
   "source": [
    "# flatten\n",
    "flattened_tensor = torch.flatten(tensor_example)\n",
    "flattened_np = np_example.flatten()\n",
    "print(\"Flattened tensor:\", flattened_tensor.shape)\n",
    "print(\"Flattened numpy array:\", flattened_np.shape)"
   ]
  },
  {
   "cell_type": "code",
   "execution_count": 39,
   "id": "fc3cf388-8ce9-4461-90c4-2ba6b4b1722b",
   "metadata": {},
   "outputs": [
    {
     "name": "stdout",
     "output_type": "stream",
     "text": [
      "torch.Size([1, 3, 1])\n",
      "(1, 3, 1)\n"
     ]
    }
   ],
   "source": [
    "# squeeze（サイズが1の次元を削除）\n",
    "tensor_example = torch.tensor([[[1], [2], [3]]])\n",
    "np_example = np.array([[[1], [2], [3]]])\n",
    "print(tensor_example.shape)\n",
    "print(np_example.shape)"
   ]
  },
  {
   "cell_type": "code",
   "execution_count": 40,
   "id": "2005f017-6b4f-4363-99e2-f0ea9f7a436a",
   "metadata": {},
   "outputs": [
    {
     "name": "stdout",
     "output_type": "stream",
     "text": [
      "Squeezed tensor: torch.Size([3])\n",
      "Squeezed numpy array: (3,)\n"
     ]
    }
   ],
   "source": [
    "squeezed_tensor = torch.squeeze(tensor_example) # 形状が(3,)になる\n",
    "squeezed_np = np.squeeze(np_example) # 形状が(3,)になる\n",
    "print(\"Squeezed tensor:\", squeezed_tensor.shape)\n",
    "print(\"Squeezed numpy array:\", squeezed_np.shape)"
   ]
  },
  {
   "cell_type": "code",
   "execution_count": 45,
   "id": "39bcffd8-29f5-457f-9d06-d49f517836ee",
   "metadata": {},
   "outputs": [
    {
     "name": "stdout",
     "output_type": "stream",
     "text": [
      "tensor([[[1],\n",
      "         [2],\n",
      "         [3]]])\n",
      "tensor([1, 2, 3])\n"
     ]
    }
   ],
   "source": [
    "print(tensor_example)\n",
    "print(squeezed_tensor)"
   ]
  },
  {
   "cell_type": "code",
   "execution_count": 50,
   "id": "683d7414-3dcb-4bec-9f5c-e00a86997393",
   "metadata": {},
   "outputs": [
    {
     "name": "stdout",
     "output_type": "stream",
     "text": [
      "Unsqueezed tensor: torch.Size([1, 1, 3, 1])\n",
      "Unsqueezed numpy array: (1, 1, 3, 1)\n"
     ]
    }
   ],
   "source": [
    "# unsqueeze（指定した位置に新しい次元を追加）\n",
    "unsqueeze_tensor = torch.unsqueeze(tensor_example, 0) # 0次元目に新しい次元を追加\n",
    "expand_dims_np = np.expand_dims(np_example, 0) # 0次元目に新しい次元を追加\n",
    "print(\"Unsqueezed tensor:\", unsqueeze_tensor.shape)\n",
    "print(\"Unsqueezed numpy array:\", expand_dims_np.shape)"
   ]
  },
  {
   "cell_type": "code",
   "execution_count": 51,
   "id": "ee8c6aeb-e134-4af2-b6aa-1c72edeed1ba",
   "metadata": {},
   "outputs": [
    {
     "data": {
      "text/plain": [
       "torch.Size([1, 1, 3, 1])"
      ]
     },
     "execution_count": 51,
     "metadata": {},
     "output_type": "execute_result"
    }
   ],
   "source": [
    "# unsqueezeと同様の操作\n",
    "tensor_example[None, :, :, :].shape"
   ]
  },
  {
   "cell_type": "markdown",
   "id": "3bf4b20c-fe82-45aa-aa01-cd65ae55c0fa",
   "metadata": {},
   "source": [
    "## Tensorの便利関数"
   ]
  },
  {
   "cell_type": "code",
   "execution_count": 53,
   "id": "be33f95f-221e-46ef-a355-5f9a8daa5213",
   "metadata": {},
   "outputs": [
    {
     "name": "stdout",
     "output_type": "stream",
     "text": [
      "tensor([[0.1053, 0.2695, 0.3588],\n",
      "        [0.1994, 0.5472, 0.0062]])\n",
      "[[0.68556402 0.38211277 0.71377786]\n",
      " [0.72841313 0.04084506 0.35560034]]\n"
     ]
    }
   ],
   "source": [
    "# サンプルのTensorとNumpy Array作成\n",
    "tensor_example = torch.rand((2, 3))\n",
    "np_example = np.random.rand(2, 3)\n",
    "print(tensor_example)\n",
    "print(np_example)"
   ]
  },
  {
   "cell_type": "code",
   "execution_count": 63,
   "id": "ff141297-168f-47c6-85ac-d40f6e2f6b43",
   "metadata": {},
   "outputs": [
    {
     "name": "stdout",
     "output_type": "stream",
     "text": [
      "Sum of tensor: tensor(1.4863)\n",
      "Sum of numpy array: 2.9063131981624037\n",
      "Mean of tensor: tensor(0.2477)\n",
      "Mean of numpy array: 0.48438553302706727\n",
      "Standard deviation of tensor: tensor(0.1916)\n",
      "Standard deviation of numpy array: 0.25047175091564383\n",
      "Square root of tensor: tensor([[0.3245, 0.5191, 0.5990],\n",
      "        [0.4465, 0.7397, 0.0785]])\n",
      "Square root of numpy array: [[0.82798794 0.61815271 0.84485375]\n",
      " [0.85347123 0.20210161 0.59632235]]\n"
     ]
    }
   ],
   "source": [
    "# 合計\n",
    "sum_tensor = torch.sum(tensor_example)\n",
    "sum_np = np.sum(np_example)\n",
    "\n",
    "# # 平均\n",
    "mean_tensor = torch.mean(tensor_example)\n",
    "mean_np = np.mean(np_example)\n",
    "\n",
    "# 標準偏差\n",
    "std_tensor = torch.std(tensor_example)\n",
    "std_np = np.std(np_example)\n",
    "\n",
    "# 平方根\n",
    "sqrt_tensor = torch.sqrt(tensor_example)\n",
    "sqrt_np = np.sqrt(np_example)\n",
    "\n",
    "# 結果を表示\n",
    "print(\"Sum of tensor:\", sum_tensor)\n",
    "print(\"Sum of numpy array:\", sum_np)\n",
    "print(\"Mean of tensor:\", mean_tensor)\n",
    "print(\"Mean of numpy array:\", mean_np)\n",
    "print(\"Standard deviation of tensor:\", std_tensor)\n",
    "print(\"Standard deviation of numpy array:\", std_np)\n",
    "print(\"Square root of tensor:\", sqrt_tensor)\n",
    "print(\"Square root of numpy array:\", sqrt_np)"
   ]
  },
  {
   "cell_type": "markdown",
   "id": "3f0fec6d-f86f-4d3b-8e10-4e2fd59e6fd9",
   "metadata": {},
   "source": [
    "### 行列の演算"
   ]
  },
  {
   "cell_type": "markdown",
   "id": "eb7bb5d5-ebec-47ea-8baa-f2a5e3cb4bdc",
   "metadata": {},
   "source": [
    "### 加減算+要素毎の乗除算"
   ]
  },
  {
   "cell_type": "code",
   "execution_count": 2,
   "id": "0c5387ca-4a85-4857-8fd1-98a445616825",
   "metadata": {},
   "outputs": [
    {
     "name": "stdout",
     "output_type": "stream",
     "text": [
      "tensor([[0.8823, 0.9150, 0.3829],\n",
      "        [0.9593, 0.3904, 0.6009],\n",
      "        [0.2566, 0.7936, 0.9408]])\n",
      "tensor([[0.1332, 0.9346, 0.5936],\n",
      "        [0.8694, 0.5677, 0.7411],\n",
      "        [0.4294, 0.8854, 0.5739]])\n"
     ]
    }
   ],
   "source": [
    "# 3x3のTensorを作成\n",
    "a = torch.rand((3, 3))\n",
    "b = torch.rand((3, 3))\n",
    "print(a)\n",
    "print(b)"
   ]
  },
  {
   "cell_type": "code",
   "execution_count": 6,
   "id": "e86af1ab-cc7a-4e92-a191-0c380dbc5556",
   "metadata": {},
   "outputs": [
    {
     "name": "stdout",
     "output_type": "stream",
     "text": [
      "tensor([[6.6243, 0.9790, 0.6450],\n",
      "        [1.1034, 0.6878, 0.8108],\n",
      "        [0.5975, 0.8963, 1.6392]])\n"
     ]
    }
   ],
   "source": [
    "# 加減算および要素毎の剰余算\n",
    "add = a + b\n",
    "sub = a - b\n",
    "mul = a * b\n",
    "div = a / b"
   ]
  },
  {
   "cell_type": "code",
   "execution_count": 7,
   "id": "eae8ba81-4b26-43ae-9b27-0fb7f59a15f4",
   "metadata": {},
   "outputs": [
    {
     "name": "stdout",
     "output_type": "stream",
     "text": [
      "tensor([[1.0774, 1.6830, 1.4215],\n",
      "        [0.7253, 1.6503, 1.2036],\n",
      "        [1.1281, 1.5234, 1.2804]])\n",
      "tensor([[1.0774, 1.6830, 1.4215],\n",
      "        [0.7253, 1.6503, 1.2036],\n",
      "        [1.1281, 1.5234, 1.2804]])\n",
      "tensor([[1.0774, 1.6830, 1.4215],\n",
      "        [0.7253, 1.6503, 1.2036],\n",
      "        [1.1281, 1.5234, 1.2804]])\n"
     ]
    }
   ],
   "source": [
    "# 行列の積\n",
    "mm = torch.mm(a, b)\n",
    "matmul = torch.matmul(a, b)\n",
    "at_op = a @ b\n",
    "print(mm)\n",
    "print(matmul)\n",
    "print(at_op)"
   ]
  },
  {
   "cell_type": "markdown",
   "id": "a5cf6bac-ec8f-4d5f-b4c7-758752954256",
   "metadata": {},
   "source": [
    "### ブロードキャスティング"
   ]
  },
  {
   "cell_type": "code",
   "execution_count": 8,
   "id": "38b7b6f6-bfd4-4ef9-8f0a-183c7e59b268",
   "metadata": {},
   "outputs": [
    {
     "name": "stdout",
     "output_type": "stream",
     "text": [
      "tensor([[0.2666, 0.6274, 0.2696],\n",
      "        [0.4414, 0.2969, 0.8317],\n",
      "        [0.1053, 0.2695, 0.3588]])\n",
      "tensor([[5.2666, 5.6274, 5.2696],\n",
      "        [5.4414, 5.2969, 5.8317],\n",
      "        [5.1053, 5.2695, 5.3588]])\n"
     ]
    }
   ],
   "source": [
    "# 3x3のTensorを作成\n",
    "a = torch.rand((3, 3))\n",
    "scalar = 5\n",
    "result1 = a + scalar\n",
    "print(a)\n",
    "print(result1)"
   ]
  },
  {
   "cell_type": "code",
   "execution_count": 10,
   "id": "a731000c-890b-47ef-83fe-29860007ac02",
   "metadata": {},
   "outputs": [
    {
     "name": "stdout",
     "output_type": "stream",
     "text": [
      "tensor([[0.2666, 0.6274, 0.2696],\n",
      "        [0.4414, 0.2969, 0.8317],\n",
      "        [0.1053, 0.2695, 0.3588]])\n",
      "tensor([[0.9516, 0.0753, 0.8860]])\n",
      "tensor([[1.2181, 0.7027, 1.1556],\n",
      "        [1.3929, 0.3722, 1.7177],\n",
      "        [1.0569, 0.3448, 1.2448]])\n"
     ]
    }
   ],
   "source": [
    "# (3, 3)と(1, 3)の演算\n",
    "b = torch.rand(1, 3)\n",
    "result2 = a + b\n",
    "print(a)\n",
    "print(b)\n",
    "print(result2)"
   ]
  },
  {
   "cell_type": "code",
   "execution_count": 11,
   "id": "ca3c528a-9a1e-4a49-bb37-6ca271083650",
   "metadata": {},
   "outputs": [
    {
     "name": "stdout",
     "output_type": "stream",
     "text": [
      "torch.Size([32, 128, 128, 3])\n"
     ]
    }
   ],
   "source": [
    "# (32, 128, 128, 3)と(128, 128, 3)の演算\n",
    "c = torch.rand((32, 128, 128, 3))\n",
    "d = torch.rand((128, 128, 3))\n",
    "result3 = c + d\n",
    "print(result3.shape)"
   ]
  },
  {
   "cell_type": "code",
   "execution_count": 13,
   "id": "2f04b4fb-eea5-4de7-99ce-6586c91e3c61",
   "metadata": {},
   "outputs": [],
   "source": [
    "# (32, 128, 128, 3)と(128, 128, 6)の演算は形状が不一致なためエラー\n",
    "c = torch.rand((32, 128, 128, 3))\n",
    "d = torch.rand((128, 128, 6))\n",
    "# 以下はエラー\n",
    "# result3 = c + d\n",
    "# print(result3.shape)"
   ]
  },
  {
   "cell_type": "code",
   "execution_count": 14,
   "id": "5f6fd87c-84e1-4aef-8778-5aea0db0042a",
   "metadata": {},
   "outputs": [
    {
     "name": "stdout",
     "output_type": "stream",
     "text": [
      "torch.Size([8, 128, 128, 3])\n"
     ]
    }
   ],
   "source": [
    "# (1, 128, 128, 3)と(8, 128, 128, 1)の演算\n",
    "e = torch.rand((1, 128, 128, 3))\n",
    "f = torch.rand((8, 128, 128, 1))\n",
    "result4 = e + f\n",
    "print(result4.shape)"
   ]
  },
  {
   "cell_type": "code",
   "execution_count": null,
   "id": "c2b0c771-ee5c-41cb-a805-362657d732ec",
   "metadata": {},
   "outputs": [],
   "source": []
  }
 ],
 "metadata": {
  "kernelspec": {
   "display_name": "Python 3 (ipykernel)",
   "language": "python",
   "name": "python3"
  },
  "language_info": {
   "codemirror_mode": {
    "name": "ipython",
    "version": 3
   },
   "file_extension": ".py",
   "mimetype": "text/x-python",
   "name": "python",
   "nbconvert_exporter": "python",
   "pygments_lexer": "ipython3",
   "version": "3.8.18"
  }
 },
 "nbformat": 4,
 "nbformat_minor": 5
}
