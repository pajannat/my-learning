{
 "cells": [
  {
   "cell_type": "markdown",
   "id": "ebb24cd2-094b-4762-8b40-4a621bdbc175",
   "metadata": {},
   "source": [
    "## Tensorの基礎"
   ]
  },
  {
   "cell_type": "code",
   "execution_count": 25,
   "id": "1fb9306d-3d75-4cab-a626-95e526c7534d",
   "metadata": {},
   "outputs": [
    {
     "data": {
      "text/plain": [
       "<torch._C.Generator at 0x7f8b240e7fd0>"
      ]
     },
     "execution_count": 25,
     "metadata": {},
     "output_type": "execute_result"
    }
   ],
   "source": [
    "import torch\n",
    "import numpy as np\n",
    "# 乱数の種を固定\n",
    "torch.manual_seed(42)"
   ]
  },
  {
   "cell_type": "markdown",
   "id": "001c5461-97b3-45ad-8084-a19c30d01f2a",
   "metadata": {},
   "source": [
    "### Tensorの作成"
   ]
  },
  {
   "cell_type": "code",
   "execution_count": 8,
   "id": "e49d5d64-dc43-4a7f-babc-cbbfc618f365",
   "metadata": {},
   "outputs": [
    {
     "name": "stdout",
     "output_type": "stream",
     "text": [
      "Tensor from list: tensor([1, 2, 3, 4])\n"
     ]
    }
   ],
   "source": [
    "my_list = [1, 2, 3, 4]\n",
    "tensor_from_list = torch.tensor(my_list)\n",
    "print(\"Tensor from list:\", tensor_from_list)"
   ]
  },
  {
   "cell_type": "code",
   "execution_count": 9,
   "id": "62a74f06-4615-4bd0-8380-269740c1a61a",
   "metadata": {},
   "outputs": [
    {
     "data": {
      "text/plain": [
       "torch.Tensor"
      ]
     },
     "execution_count": 9,
     "metadata": {},
     "output_type": "execute_result"
    }
   ],
   "source": [
    "type(tensor_from_list)"
   ]
  },
  {
   "cell_type": "code",
   "execution_count": 10,
   "id": "a87ae99c-4ba6-4763-8d86-0f21e20467a2",
   "metadata": {},
   "outputs": [
    {
     "data": {
      "text/plain": [
       "torch.int64"
      ]
     },
     "execution_count": 10,
     "metadata": {},
     "output_type": "execute_result"
    }
   ],
   "source": [
    "# intのリストで作成したTensorのデータ形はint64\n",
    "tensor_from_list.dtype"
   ]
  },
  {
   "cell_type": "code",
   "execution_count": 11,
   "id": "d930cdae-6462-430c-a5b0-9ce4d2cef7f6",
   "metadata": {},
   "outputs": [
    {
     "name": "stdout",
     "output_type": "stream",
     "text": [
      "Tensor from list: tensor([1., 2., 3., 4.])\n"
     ]
    },
    {
     "data": {
      "text/plain": [
       "torch.float32"
      ]
     },
     "execution_count": 11,
     "metadata": {},
     "output_type": "execute_result"
    }
   ],
   "source": [
    "# floatのlistで作ったtensorはfloat32\n",
    "my_list = [1., 2., 3., 4.]\n",
    "tensor_from_list = torch.tensor(my_list)\n",
    "print(\"Tensor from list:\", tensor_from_list)\n",
    "tensor_from_list.dtype"
   ]
  },
  {
   "cell_type": "code",
   "execution_count": 16,
   "id": "eca3a2ca-1c20-45c7-aa73-bc0c4267f2d2",
   "metadata": {},
   "outputs": [
    {
     "data": {
      "text/plain": [
       "tensor([1., 2., 3., 4.], dtype=torch.float64)"
      ]
     },
     "execution_count": 16,
     "metadata": {},
     "output_type": "execute_result"
    }
   ],
   "source": [
    "# dtype引数でデータ型を指定\n",
    "tensor_from_list = torch.tensor(my_list, dtype=torch.float64)\n",
    "tensor_from_list"
   ]
  },
  {
   "cell_type": "markdown",
   "id": "1363a7ec-b98d-4e83-bb90-544ff7dd5a3c",
   "metadata": {},
   "source": [
    "### Tensor作成"
   ]
  },
  {
   "cell_type": "code",
   "execution_count": 26,
   "id": "dfd62ad6-0eab-445c-93a9-15628d749441",
   "metadata": {},
   "outputs": [],
   "source": [
    "zeros_tensor = torch.zeros((2, 3))\n",
    "ones_tensor = torch.ones((2, 3))\n",
    "eye_tensor = torch.eye(3)\n",
    "random_tensor = torch.rand((2, 3))"
   ]
  },
  {
   "cell_type": "code",
   "execution_count": 27,
   "id": "34280848-72f5-4854-bba8-ac12091679c1",
   "metadata": {},
   "outputs": [
    {
     "name": "stdout",
     "output_type": "stream",
     "text": [
      "tensor([[0., 0., 0.],\n",
      "        [0., 0., 0.]]) torch.float32\n",
      "tensor([[1., 1., 1.],\n",
      "        [1., 1., 1.]]) torch.float32\n",
      "tensor([[1., 0., 0.],\n",
      "        [0., 1., 0.],\n",
      "        [0., 0., 1.]]) torch.float32\n",
      "tensor([[0.8823, 0.9150, 0.3829],\n",
      "        [0.9593, 0.3904, 0.6009]]) torch.float32\n"
     ]
    }
   ],
   "source": [
    "print(zeros_tensor, zeros_tensor.dtype)\n",
    "print(ones_tensor, ones_tensor.dtype)\n",
    "print(eye_tensor, eye_tensor.dtype)\n",
    "print(random_tensor, random_tensor.dtype)"
   ]
  },
  {
   "cell_type": "code",
   "execution_count": 29,
   "id": "e8d581ba-68bb-4acb-bae0-6d28c9e4e8e7",
   "metadata": {},
   "outputs": [
    {
     "name": "stdout",
     "output_type": "stream",
     "text": [
      "[[0. 0. 0.]\n",
      " [0. 0. 0.]] float64\n",
      "[[1. 1. 1.]\n",
      " [1. 1. 1.]] float64\n",
      "[[1. 0. 0.]\n",
      " [0. 1. 0.]\n",
      " [0. 0. 1.]] float64\n",
      "[[0.33363329 0.38410748 0.94200786]\n",
      " [0.50446434 0.43901587 0.35210996]] float64\n"
     ]
    }
   ],
   "source": [
    "# NumPyとの対応\n",
    "np_zeros = np.zeros((2, 3))\n",
    "np_ones = np.ones((2, 3))\n",
    "np_eye = np.eye(3)\n",
    "np_random = np.random.rand(2, 3)\n",
    "# Numpy Arrayのデフォルトはfloat64であることに注意\n",
    "print(np_zeros, np_zeros.dtype)\n",
    "print(np_ones, np_ones.dtype)\n",
    "print(np_eye, np_eye.dtype)\n",
    "print(np_random, np_random.dtype)"
   ]
  },
  {
   "cell_type": "code",
   "execution_count": 31,
   "id": "c26e7437-81b7-4ac4-bad7-e1fad6bda492",
   "metadata": {},
   "outputs": [
    {
     "data": {
      "text/plain": [
       "torch.Size([2, 3])"
      ]
     },
     "execution_count": 31,
     "metadata": {},
     "output_type": "execute_result"
    }
   ],
   "source": [
    "# Tensorのshapeを表示\n",
    "zeros_tensor.shape"
   ]
  },
  {
   "cell_type": "markdown",
   "id": "06820331-9f7f-4313-811a-22aa52267148",
   "metadata": {},
   "source": [
    "### Tensorの操作"
   ]
  },
  {
   "cell_type": "code",
   "execution_count": null,
   "id": "d9daf73d-74b9-472b-8a38-bcd5e90b52d4",
   "metadata": {},
   "outputs": [],
   "source": []
  }
 ],
 "metadata": {
  "kernelspec": {
   "display_name": "Python 3 (ipykernel)",
   "language": "python",
   "name": "python3"
  },
  "language_info": {
   "codemirror_mode": {
    "name": "ipython",
    "version": 3
   },
   "file_extension": ".py",
   "mimetype": "text/x-python",
   "name": "python",
   "nbconvert_exporter": "python",
   "pygments_lexer": "ipython3",
   "version": "3.8.18"
  }
 },
 "nbformat": 4,
 "nbformat_minor": 5
}
