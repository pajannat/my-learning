{
 "cells": [
  {
   "cell_type": "code",
   "execution_count": 22,
   "metadata": {},
   "outputs": [],
   "source": [
    "import numpy as np\n",
    "import pandas as pd\n",
    "import seaborn as sns\n",
    "from scipy import stats\n",
    "from sklearn.preprocessing import StandardScaler\n",
    "import matplotlib.pyplot as plt\n",
    "from statsmodels.stats.proportion import proportions_ztest\n",
    "%matplotlib inline"
   ]
  },
  {
   "cell_type": "markdown",
   "metadata": {},
   "source": [
    "## データ準備"
   ]
  },
  {
   "cell_type": "code",
   "execution_count": 2,
   "metadata": {},
   "outputs": [
    {
     "data": {
      "text/html": [
       "<div>\n",
       "<style scoped>\n",
       "    .dataframe tbody tr th:only-of-type {\n",
       "        vertical-align: middle;\n",
       "    }\n",
       "\n",
       "    .dataframe tbody tr th {\n",
       "        vertical-align: top;\n",
       "    }\n",
       "\n",
       "    .dataframe thead th {\n",
       "        text-align: right;\n",
       "    }\n",
       "</style>\n",
       "<table border=\"1\" class=\"dataframe\">\n",
       "  <thead>\n",
       "    <tr style=\"text-align: right;\">\n",
       "      <th></th>\n",
       "      <th>total_bill</th>\n",
       "      <th>tip</th>\n",
       "      <th>sex</th>\n",
       "      <th>smoker</th>\n",
       "      <th>day</th>\n",
       "      <th>time</th>\n",
       "      <th>size</th>\n",
       "      <th>tip_rate</th>\n",
       "    </tr>\n",
       "  </thead>\n",
       "  <tbody>\n",
       "    <tr>\n",
       "      <th>0</th>\n",
       "      <td>16.99</td>\n",
       "      <td>1.01</td>\n",
       "      <td>Female</td>\n",
       "      <td>No</td>\n",
       "      <td>Sun</td>\n",
       "      <td>Dinner</td>\n",
       "      <td>2</td>\n",
       "      <td>0.059447</td>\n",
       "    </tr>\n",
       "    <tr>\n",
       "      <th>1</th>\n",
       "      <td>10.34</td>\n",
       "      <td>1.66</td>\n",
       "      <td>Male</td>\n",
       "      <td>No</td>\n",
       "      <td>Sun</td>\n",
       "      <td>Dinner</td>\n",
       "      <td>3</td>\n",
       "      <td>0.160542</td>\n",
       "    </tr>\n",
       "    <tr>\n",
       "      <th>2</th>\n",
       "      <td>21.01</td>\n",
       "      <td>3.50</td>\n",
       "      <td>Male</td>\n",
       "      <td>No</td>\n",
       "      <td>Sun</td>\n",
       "      <td>Dinner</td>\n",
       "      <td>3</td>\n",
       "      <td>0.166587</td>\n",
       "    </tr>\n",
       "    <tr>\n",
       "      <th>3</th>\n",
       "      <td>23.68</td>\n",
       "      <td>3.31</td>\n",
       "      <td>Male</td>\n",
       "      <td>No</td>\n",
       "      <td>Sun</td>\n",
       "      <td>Dinner</td>\n",
       "      <td>2</td>\n",
       "      <td>0.139780</td>\n",
       "    </tr>\n",
       "    <tr>\n",
       "      <th>4</th>\n",
       "      <td>24.59</td>\n",
       "      <td>3.61</td>\n",
       "      <td>Female</td>\n",
       "      <td>No</td>\n",
       "      <td>Sun</td>\n",
       "      <td>Dinner</td>\n",
       "      <td>4</td>\n",
       "      <td>0.146808</td>\n",
       "    </tr>\n",
       "    <tr>\n",
       "      <th>...</th>\n",
       "      <td>...</td>\n",
       "      <td>...</td>\n",
       "      <td>...</td>\n",
       "      <td>...</td>\n",
       "      <td>...</td>\n",
       "      <td>...</td>\n",
       "      <td>...</td>\n",
       "      <td>...</td>\n",
       "    </tr>\n",
       "    <tr>\n",
       "      <th>239</th>\n",
       "      <td>29.03</td>\n",
       "      <td>5.92</td>\n",
       "      <td>Male</td>\n",
       "      <td>No</td>\n",
       "      <td>Sat</td>\n",
       "      <td>Dinner</td>\n",
       "      <td>3</td>\n",
       "      <td>0.203927</td>\n",
       "    </tr>\n",
       "    <tr>\n",
       "      <th>240</th>\n",
       "      <td>27.18</td>\n",
       "      <td>2.00</td>\n",
       "      <td>Female</td>\n",
       "      <td>Yes</td>\n",
       "      <td>Sat</td>\n",
       "      <td>Dinner</td>\n",
       "      <td>2</td>\n",
       "      <td>0.073584</td>\n",
       "    </tr>\n",
       "    <tr>\n",
       "      <th>241</th>\n",
       "      <td>22.67</td>\n",
       "      <td>2.00</td>\n",
       "      <td>Male</td>\n",
       "      <td>Yes</td>\n",
       "      <td>Sat</td>\n",
       "      <td>Dinner</td>\n",
       "      <td>2</td>\n",
       "      <td>0.088222</td>\n",
       "    </tr>\n",
       "    <tr>\n",
       "      <th>242</th>\n",
       "      <td>17.82</td>\n",
       "      <td>1.75</td>\n",
       "      <td>Male</td>\n",
       "      <td>No</td>\n",
       "      <td>Sat</td>\n",
       "      <td>Dinner</td>\n",
       "      <td>2</td>\n",
       "      <td>0.098204</td>\n",
       "    </tr>\n",
       "    <tr>\n",
       "      <th>243</th>\n",
       "      <td>18.78</td>\n",
       "      <td>3.00</td>\n",
       "      <td>Female</td>\n",
       "      <td>No</td>\n",
       "      <td>Thur</td>\n",
       "      <td>Dinner</td>\n",
       "      <td>2</td>\n",
       "      <td>0.159744</td>\n",
       "    </tr>\n",
       "  </tbody>\n",
       "</table>\n",
       "<p>244 rows × 8 columns</p>\n",
       "</div>"
      ],
      "text/plain": [
       "     total_bill   tip     sex smoker   day    time  size  tip_rate\n",
       "0         16.99  1.01  Female     No   Sun  Dinner     2  0.059447\n",
       "1         10.34  1.66    Male     No   Sun  Dinner     3  0.160542\n",
       "2         21.01  3.50    Male     No   Sun  Dinner     3  0.166587\n",
       "3         23.68  3.31    Male     No   Sun  Dinner     2  0.139780\n",
       "4         24.59  3.61  Female     No   Sun  Dinner     4  0.146808\n",
       "..          ...   ...     ...    ...   ...     ...   ...       ...\n",
       "239       29.03  5.92    Male     No   Sat  Dinner     3  0.203927\n",
       "240       27.18  2.00  Female    Yes   Sat  Dinner     2  0.073584\n",
       "241       22.67  2.00    Male    Yes   Sat  Dinner     2  0.088222\n",
       "242       17.82  1.75    Male     No   Sat  Dinner     2  0.098204\n",
       "243       18.78  3.00  Female     No  Thur  Dinner     2  0.159744\n",
       "\n",
       "[244 rows x 8 columns]"
      ]
     },
     "execution_count": 2,
     "metadata": {},
     "output_type": "execute_result"
    }
   ],
   "source": [
    "df = sns.load_dataset(\"tips\")\n",
    "df['tip_rate'] = df['tip'] / df['total_bill']\n",
    "df"
   ]
  },
  {
   "cell_type": "markdown",
   "metadata": {},
   "source": [
    "## 分布の描画"
   ]
  },
  {
   "cell_type": "code",
   "execution_count": 4,
   "metadata": {},
   "outputs": [
    {
     "data": {
      "text/plain": [
       "<seaborn.axisgrid.FacetGrid at 0x1a34d75f520>"
      ]
     },
     "execution_count": 4,
     "metadata": {},
     "output_type": "execute_result"
    },
    {
     "data": {
      "image/png": "[encoded data removed]",
      "text/plain": [
       "<Figure size 360x360 with 1 Axes>"
      ]
     },
     "metadata": {
      "needs_background": "light"
     },
     "output_type": "display_data"
    }
   ],
   "source": [
    "sns.displot(df['tip'], kde=False)"
   ]
  },
  {
   "cell_type": "code",
   "execution_count": 5,
   "metadata": {},
   "outputs": [
    {
     "name": "stderr",
     "output_type": "stream",
     "text": [
      "c:\\Users\\ytchi\\anaconda3\\envs\\py37\\lib\\site-packages\\seaborn\\_decorators.py:36: FutureWarning: Pass the following variable as a keyword arg: x. From version 0.12, the only valid positional argument will be `data`, and passing other arguments without an explicit keyword will result in an error or misinterpretation.\n",
      "  warnings.warn(\n"
     ]
    },
    {
     "data": {
      "text/plain": [
       "<seaborn.axisgrid.FacetGrid at 0x1a34d6f8f10>"
      ]
     },
     "execution_count": 5,
     "metadata": {},
     "output_type": "execute_result"
    },
    {
     "data": {
      "image/png": "[encoded data removed]",
      "text/plain": [
       "<Figure size 360x360 with 1 Axes>"
      ]
     },
     "metadata": {
      "needs_background": "light"
     },
     "output_type": "display_data"
    }
   ],
   "source": [
    "sns.catplot('time', data=df, kind='count')"
   ]
  },
  {
   "cell_type": "markdown",
   "metadata": {},
   "source": [
    "## 平均値"
   ]
  },
  {
   "cell_type": "code",
   "execution_count": 6,
   "metadata": {},
   "outputs": [
    {
     "data": {
      "text/plain": [
       "0.16080258172250478"
      ]
     },
     "execution_count": 6,
     "metadata": {},
     "output_type": "execute_result"
    }
   ],
   "source": [
    "np.mean(df['tip_rate'])"
   ]
  },
  {
   "cell_type": "code",
   "execution_count": 7,
   "metadata": {},
   "outputs": [
    {
     "data": {
      "text/plain": [
       "0.16080258172250478"
      ]
     },
     "execution_count": 7,
     "metadata": {},
     "output_type": "execute_result"
    }
   ],
   "source": [
    "df['tip_rate'].mean()"
   ]
  },
  {
   "cell_type": "code",
   "execution_count": 8,
   "metadata": {},
   "outputs": [
    {
     "data": {
      "text/html": [
       "<div>\n",
       "<style scoped>\n",
       "    .dataframe tbody tr th:only-of-type {\n",
       "        vertical-align: middle;\n",
       "    }\n",
       "\n",
       "    .dataframe tbody tr th {\n",
       "        vertical-align: top;\n",
       "    }\n",
       "\n",
       "    .dataframe thead th {\n",
       "        text-align: right;\n",
       "    }\n",
       "</style>\n",
       "<table border=\"1\" class=\"dataframe\">\n",
       "  <thead>\n",
       "    <tr style=\"text-align: right;\">\n",
       "      <th></th>\n",
       "      <th>total_bill</th>\n",
       "      <th>tip</th>\n",
       "      <th>size</th>\n",
       "      <th>tip_rate</th>\n",
       "    </tr>\n",
       "    <tr>\n",
       "      <th>sex</th>\n",
       "      <th></th>\n",
       "      <th></th>\n",
       "      <th></th>\n",
       "      <th></th>\n",
       "    </tr>\n",
       "  </thead>\n",
       "  <tbody>\n",
       "    <tr>\n",
       "      <th>Male</th>\n",
       "      <td>20.744076</td>\n",
       "      <td>3.089618</td>\n",
       "      <td>2.630573</td>\n",
       "      <td>0.157651</td>\n",
       "    </tr>\n",
       "    <tr>\n",
       "      <th>Female</th>\n",
       "      <td>18.056897</td>\n",
       "      <td>2.833448</td>\n",
       "      <td>2.459770</td>\n",
       "      <td>0.166491</td>\n",
       "    </tr>\n",
       "  </tbody>\n",
       "</table>\n",
       "</div>"
      ],
      "text/plain": [
       "        total_bill       tip      size  tip_rate\n",
       "sex                                             \n",
       "Male     20.744076  3.089618  2.630573  0.157651\n",
       "Female   18.056897  2.833448  2.459770  0.166491"
      ]
     },
     "execution_count": 8,
     "metadata": {},
     "output_type": "execute_result"
    }
   ],
   "source": [
    "df.groupby('sex').mean()"
   ]
  },
  {
   "cell_type": "code",
   "execution_count": 9,
   "metadata": {},
   "outputs": [
    {
     "data": {
      "text/plain": [
       "<AxesSubplot:xlabel='sex', ylabel='tip_rate'>"
      ]
     },
     "execution_count": 9,
     "metadata": {},
     "output_type": "execute_result"
    },
    {
     "data": {
      "image/png": "[encoded data removed]",
      "text/plain": [
       "<Figure size 432x288 with 1 Axes>"
      ]
     },
     "metadata": {
      "needs_background": "light"
     },
     "output_type": "display_data"
    }
   ],
   "source": [
    "sns.barplot(x='sex', y='tip_rate', data=df, ci=None)"
   ]
  },
  {
   "cell_type": "code",
   "execution_count": 10,
   "metadata": {},
   "outputs": [
    {
     "data": {
      "text/plain": [
       "<AxesSubplot:xlabel='sex'>"
      ]
     },
     "execution_count": 10,
     "metadata": {},
     "output_type": "execute_result"
    },
    {
     "data": {
      "image/png": "[encoded data removed]",
      "text/plain": [
       "<Figure size 432x288 with 1 Axes>"
      ]
     },
     "metadata": {
      "needs_background": "light"
     },
     "output_type": "display_data"
    }
   ],
   "source": [
    "df.groupby('sex').mean()['tip_rate'].plot(kind='bar')"
   ]
  },
  {
   "cell_type": "markdown",
   "metadata": {},
   "source": [
    "## 中央値"
   ]
  },
  {
   "cell_type": "code",
   "execution_count": 11,
   "metadata": {},
   "outputs": [
    {
     "data": {
      "text/plain": [
       "0.15476977125802577"
      ]
     },
     "execution_count": 11,
     "metadata": {},
     "output_type": "execute_result"
    }
   ],
   "source": [
    "np.median(df['tip_rate'])"
   ]
  },
  {
   "cell_type": "code",
   "execution_count": 12,
   "metadata": {},
   "outputs": [
    {
     "data": {
      "text/plain": [
       "<seaborn.axisgrid.FacetGrid at 0x1a34f9100d0>"
      ]
     },
     "execution_count": 12,
     "metadata": {},
     "output_type": "execute_result"
    },
    {
     "data": {
      "image/png": "[encoded data removed]",
      "text/plain": [
       "<Figure size 360x360 with 1 Axes>"
      ]
     },
     "metadata": {
      "needs_background": "light"
     },
     "output_type": "display_data"
    }
   ],
   "source": [
    "sns.displot(df['tip_rate'], kde=False)"
   ]
  },
  {
   "cell_type": "code",
   "execution_count": 13,
   "metadata": {},
   "outputs": [
    {
     "data": {
      "text/plain": [
       "0.15476977125802577"
      ]
     },
     "execution_count": 13,
     "metadata": {},
     "output_type": "execute_result"
    }
   ],
   "source": [
    "df['tip_rate'].median()"
   ]
  },
  {
   "cell_type": "code",
   "execution_count": 14,
   "metadata": {},
   "outputs": [
    {
     "data": {
      "text/html": [
       "<div>\n",
       "<style scoped>\n",
       "    .dataframe tbody tr th:only-of-type {\n",
       "        vertical-align: middle;\n",
       "    }\n",
       "\n",
       "    .dataframe tbody tr th {\n",
       "        vertical-align: top;\n",
       "    }\n",
       "\n",
       "    .dataframe thead th {\n",
       "        text-align: right;\n",
       "    }\n",
       "</style>\n",
       "<table border=\"1\" class=\"dataframe\">\n",
       "  <thead>\n",
       "    <tr style=\"text-align: right;\">\n",
       "      <th></th>\n",
       "      <th>total_bill</th>\n",
       "      <th>tip</th>\n",
       "      <th>size</th>\n",
       "      <th>tip_rate</th>\n",
       "    </tr>\n",
       "    <tr>\n",
       "      <th>sex</th>\n",
       "      <th></th>\n",
       "      <th></th>\n",
       "      <th></th>\n",
       "      <th></th>\n",
       "    </tr>\n",
       "  </thead>\n",
       "  <tbody>\n",
       "    <tr>\n",
       "      <th>Male</th>\n",
       "      <td>18.35</td>\n",
       "      <td>3.00</td>\n",
       "      <td>2.0</td>\n",
       "      <td>0.153492</td>\n",
       "    </tr>\n",
       "    <tr>\n",
       "      <th>Female</th>\n",
       "      <td>16.40</td>\n",
       "      <td>2.75</td>\n",
       "      <td>2.0</td>\n",
       "      <td>0.155581</td>\n",
       "    </tr>\n",
       "  </tbody>\n",
       "</table>\n",
       "</div>"
      ],
      "text/plain": [
       "        total_bill   tip  size  tip_rate\n",
       "sex                                     \n",
       "Male         18.35  3.00   2.0  0.153492\n",
       "Female       16.40  2.75   2.0  0.155581"
      ]
     },
     "execution_count": 14,
     "metadata": {},
     "output_type": "execute_result"
    }
   ],
   "source": [
    "df.groupby('sex').median()"
   ]
  },
  {
   "cell_type": "code",
   "execution_count": 15,
   "metadata": {},
   "outputs": [
    {
     "data": {
      "text/plain": [
       "<AxesSubplot:xlabel='sex', ylabel='tip_rate'>"
      ]
     },
     "execution_count": 15,
     "metadata": {},
     "output_type": "execute_result"
    },
    {
     "data": {
      "image/png": "[encoded data removed]",
      "text/plain": [
       "<Figure size 432x288 with 1 Axes>"
      ]
     },
     "metadata": {
      "needs_background": "light"
     },
     "output_type": "display_data"
    }
   ],
   "source": [
    "sns.barplot(x='sex', y='tip_rate', data=df, estimator=np.median, ci=None)"
   ]
  },
  {
   "cell_type": "code",
   "execution_count": 16,
   "metadata": {},
   "outputs": [
    {
     "data": {
      "text/html": [
       "<div>\n",
       "<style scoped>\n",
       "    .dataframe tbody tr th:only-of-type {\n",
       "        vertical-align: middle;\n",
       "    }\n",
       "\n",
       "    .dataframe tbody tr th {\n",
       "        vertical-align: top;\n",
       "    }\n",
       "\n",
       "    .dataframe thead th {\n",
       "        text-align: right;\n",
       "    }\n",
       "</style>\n",
       "<table border=\"1\" class=\"dataframe\">\n",
       "  <thead>\n",
       "    <tr style=\"text-align: right;\">\n",
       "      <th></th>\n",
       "      <th>total_bill</th>\n",
       "      <th>tip</th>\n",
       "      <th>sex</th>\n",
       "      <th>smoker</th>\n",
       "      <th>day</th>\n",
       "      <th>time</th>\n",
       "      <th>size</th>\n",
       "      <th>tip_rate</th>\n",
       "    </tr>\n",
       "  </thead>\n",
       "  <tbody>\n",
       "    <tr>\n",
       "      <th>172</th>\n",
       "      <td>7.25</td>\n",
       "      <td>5.15</td>\n",
       "      <td>Male</td>\n",
       "      <td>Yes</td>\n",
       "      <td>Sun</td>\n",
       "      <td>Dinner</td>\n",
       "      <td>2</td>\n",
       "      <td>0.710345</td>\n",
       "    </tr>\n",
       "    <tr>\n",
       "      <th>178</th>\n",
       "      <td>9.60</td>\n",
       "      <td>4.00</td>\n",
       "      <td>Female</td>\n",
       "      <td>Yes</td>\n",
       "      <td>Sun</td>\n",
       "      <td>Dinner</td>\n",
       "      <td>2</td>\n",
       "      <td>0.416667</td>\n",
       "    </tr>\n",
       "    <tr>\n",
       "      <th>67</th>\n",
       "      <td>3.07</td>\n",
       "      <td>1.00</td>\n",
       "      <td>Female</td>\n",
       "      <td>Yes</td>\n",
       "      <td>Sat</td>\n",
       "      <td>Dinner</td>\n",
       "      <td>1</td>\n",
       "      <td>0.325733</td>\n",
       "    </tr>\n",
       "    <tr>\n",
       "      <th>232</th>\n",
       "      <td>11.61</td>\n",
       "      <td>3.39</td>\n",
       "      <td>Male</td>\n",
       "      <td>No</td>\n",
       "      <td>Sat</td>\n",
       "      <td>Dinner</td>\n",
       "      <td>2</td>\n",
       "      <td>0.291990</td>\n",
       "    </tr>\n",
       "    <tr>\n",
       "      <th>183</th>\n",
       "      <td>23.17</td>\n",
       "      <td>6.50</td>\n",
       "      <td>Male</td>\n",
       "      <td>Yes</td>\n",
       "      <td>Sun</td>\n",
       "      <td>Dinner</td>\n",
       "      <td>4</td>\n",
       "      <td>0.280535</td>\n",
       "    </tr>\n",
       "    <tr>\n",
       "      <th>...</th>\n",
       "      <td>...</td>\n",
       "      <td>...</td>\n",
       "      <td>...</td>\n",
       "      <td>...</td>\n",
       "      <td>...</td>\n",
       "      <td>...</td>\n",
       "      <td>...</td>\n",
       "      <td>...</td>\n",
       "    </tr>\n",
       "    <tr>\n",
       "      <th>187</th>\n",
       "      <td>30.46</td>\n",
       "      <td>2.00</td>\n",
       "      <td>Male</td>\n",
       "      <td>Yes</td>\n",
       "      <td>Sun</td>\n",
       "      <td>Dinner</td>\n",
       "      <td>5</td>\n",
       "      <td>0.065660</td>\n",
       "    </tr>\n",
       "    <tr>\n",
       "      <th>0</th>\n",
       "      <td>16.99</td>\n",
       "      <td>1.01</td>\n",
       "      <td>Female</td>\n",
       "      <td>No</td>\n",
       "      <td>Sun</td>\n",
       "      <td>Dinner</td>\n",
       "      <td>2</td>\n",
       "      <td>0.059447</td>\n",
       "    </tr>\n",
       "    <tr>\n",
       "      <th>57</th>\n",
       "      <td>26.41</td>\n",
       "      <td>1.50</td>\n",
       "      <td>Female</td>\n",
       "      <td>No</td>\n",
       "      <td>Sat</td>\n",
       "      <td>Dinner</td>\n",
       "      <td>2</td>\n",
       "      <td>0.056797</td>\n",
       "    </tr>\n",
       "    <tr>\n",
       "      <th>102</th>\n",
       "      <td>44.30</td>\n",
       "      <td>2.50</td>\n",
       "      <td>Female</td>\n",
       "      <td>Yes</td>\n",
       "      <td>Sat</td>\n",
       "      <td>Dinner</td>\n",
       "      <td>3</td>\n",
       "      <td>0.056433</td>\n",
       "    </tr>\n",
       "    <tr>\n",
       "      <th>237</th>\n",
       "      <td>32.83</td>\n",
       "      <td>1.17</td>\n",
       "      <td>Male</td>\n",
       "      <td>Yes</td>\n",
       "      <td>Sat</td>\n",
       "      <td>Dinner</td>\n",
       "      <td>2</td>\n",
       "      <td>0.035638</td>\n",
       "    </tr>\n",
       "  </tbody>\n",
       "</table>\n",
       "<p>244 rows × 8 columns</p>\n",
       "</div>"
      ],
      "text/plain": [
       "     total_bill   tip     sex smoker  day    time  size  tip_rate\n",
       "172        7.25  5.15    Male    Yes  Sun  Dinner     2  0.710345\n",
       "178        9.60  4.00  Female    Yes  Sun  Dinner     2  0.416667\n",
       "67         3.07  1.00  Female    Yes  Sat  Dinner     1  0.325733\n",
       "232       11.61  3.39    Male     No  Sat  Dinner     2  0.291990\n",
       "183       23.17  6.50    Male    Yes  Sun  Dinner     4  0.280535\n",
       "..          ...   ...     ...    ...  ...     ...   ...       ...\n",
       "187       30.46  2.00    Male    Yes  Sun  Dinner     5  0.065660\n",
       "0         16.99  1.01  Female     No  Sun  Dinner     2  0.059447\n",
       "57        26.41  1.50  Female     No  Sat  Dinner     2  0.056797\n",
       "102       44.30  2.50  Female    Yes  Sat  Dinner     3  0.056433\n",
       "237       32.83  1.17    Male    Yes  Sat  Dinner     2  0.035638\n",
       "\n",
       "[244 rows x 8 columns]"
      ]
     },
     "execution_count": 16,
     "metadata": {},
     "output_type": "execute_result"
    }
   ],
   "source": [
    "df.sort_values('tip_rate', ascending=False)"
   ]
  },
  {
   "cell_type": "markdown",
   "metadata": {},
   "source": [
    "## 最頻値"
   ]
  },
  {
   "cell_type": "code",
   "execution_count": 17,
   "metadata": {},
   "outputs": [
    {
     "data": {
      "text/plain": [
       "ModeResult(mode=array([[13.42, 2.0, 'Male', 'No', 'Sat', 'Dinner', 2, 0.1448225923244026]],\n",
       "      dtype=object), count=array([[  3,  33, 157, 151,  87, 176, 156,   2]]))"
      ]
     },
     "execution_count": 17,
     "metadata": {},
     "output_type": "execute_result"
    }
   ],
   "source": [
    "stats.mode(df)"
   ]
  },
  {
   "cell_type": "code",
   "execution_count": 18,
   "metadata": {},
   "outputs": [
    {
     "data": {
      "text/plain": [
       "0    2\n",
       "Name: size, dtype: int64"
      ]
     },
     "execution_count": 18,
     "metadata": {},
     "output_type": "execute_result"
    }
   ],
   "source": [
    "df['size'].mode()"
   ]
  },
  {
   "cell_type": "markdown",
   "metadata": {},
   "source": [
    "## 範囲"
   ]
  },
  {
   "cell_type": "code",
   "execution_count": 19,
   "metadata": {},
   "outputs": [
    {
     "data": {
      "text/plain": [
       "1.0"
      ]
     },
     "execution_count": 19,
     "metadata": {},
     "output_type": "execute_result"
    }
   ],
   "source": [
    "np.min(df['tip'])"
   ]
  },
  {
   "cell_type": "code",
   "execution_count": 20,
   "metadata": {},
   "outputs": [
    {
     "data": {
      "text/plain": [
       "1.0"
      ]
     },
     "execution_count": 20,
     "metadata": {},
     "output_type": "execute_result"
    }
   ],
   "source": [
    "df['tip'].min()"
   ]
  },
  {
   "cell_type": "code",
   "execution_count": 21,
   "metadata": {},
   "outputs": [
    {
     "name": "stderr",
     "output_type": "stream",
     "text": [
      "<ipython-input-21-3eee47c2438f>:1: FutureWarning: Dropping invalid columns in DataFrameGroupBy.min is deprecated. In a future version, a TypeError will be raised. Before calling .min, select only columns which should be valid for the function.\n",
      "  df.groupby('sex').min()\n"
     ]
    },
    {
     "data": {
      "text/html": [
       "<div>\n",
       "<style scoped>\n",
       "    .dataframe tbody tr th:only-of-type {\n",
       "        vertical-align: middle;\n",
       "    }\n",
       "\n",
       "    .dataframe tbody tr th {\n",
       "        vertical-align: top;\n",
       "    }\n",
       "\n",
       "    .dataframe thead th {\n",
       "        text-align: right;\n",
       "    }\n",
       "</style>\n",
       "<table border=\"1\" class=\"dataframe\">\n",
       "  <thead>\n",
       "    <tr style=\"text-align: right;\">\n",
       "      <th></th>\n",
       "      <th>total_bill</th>\n",
       "      <th>tip</th>\n",
       "      <th>size</th>\n",
       "      <th>tip_rate</th>\n",
       "    </tr>\n",
       "    <tr>\n",
       "      <th>sex</th>\n",
       "      <th></th>\n",
       "      <th></th>\n",
       "      <th></th>\n",
       "      <th></th>\n",
       "    </tr>\n",
       "  </thead>\n",
       "  <tbody>\n",
       "    <tr>\n",
       "      <th>Male</th>\n",
       "      <td>7.25</td>\n",
       "      <td>1.0</td>\n",
       "      <td>1</td>\n",
       "      <td>0.035638</td>\n",
       "    </tr>\n",
       "    <tr>\n",
       "      <th>Female</th>\n",
       "      <td>3.07</td>\n",
       "      <td>1.0</td>\n",
       "      <td>1</td>\n",
       "      <td>0.056433</td>\n",
       "    </tr>\n",
       "  </tbody>\n",
       "</table>\n",
       "</div>"
      ],
      "text/plain": [
       "        total_bill  tip  size  tip_rate\n",
       "sex                                    \n",
       "Male          7.25  1.0     1  0.035638\n",
       "Female        3.07  1.0     1  0.056433"
      ]
     },
     "execution_count": 21,
     "metadata": {},
     "output_type": "execute_result"
    }
   ],
   "source": [
    "df.groupby('sex').min()"
   ]
  },
  {
   "cell_type": "code",
   "execution_count": 22,
   "metadata": {},
   "outputs": [
    {
     "data": {
      "text/plain": [
       "10.0"
      ]
     },
     "execution_count": 22,
     "metadata": {},
     "output_type": "execute_result"
    }
   ],
   "source": [
    "np.max(df['tip'])"
   ]
  },
  {
   "cell_type": "code",
   "execution_count": 23,
   "metadata": {},
   "outputs": [
    {
     "data": {
      "text/plain": [
       "10.0"
      ]
     },
     "execution_count": 23,
     "metadata": {},
     "output_type": "execute_result"
    }
   ],
   "source": [
    "df['tip'].max()"
   ]
  },
  {
   "cell_type": "code",
   "execution_count": 24,
   "metadata": {},
   "outputs": [
    {
     "name": "stderr",
     "output_type": "stream",
     "text": [
      "<ipython-input-24-0858c75f568a>:1: FutureWarning: Dropping invalid columns in DataFrameGroupBy.max is deprecated. In a future version, a TypeError will be raised. Before calling .max, select only columns which should be valid for the function.\n",
      "  df.groupby('sex').max()\n"
     ]
    },
    {
     "data": {
      "text/html": [
       "<div>\n",
       "<style scoped>\n",
       "    .dataframe tbody tr th:only-of-type {\n",
       "        vertical-align: middle;\n",
       "    }\n",
       "\n",
       "    .dataframe tbody tr th {\n",
       "        vertical-align: top;\n",
       "    }\n",
       "\n",
       "    .dataframe thead th {\n",
       "        text-align: right;\n",
       "    }\n",
       "</style>\n",
       "<table border=\"1\" class=\"dataframe\">\n",
       "  <thead>\n",
       "    <tr style=\"text-align: right;\">\n",
       "      <th></th>\n",
       "      <th>total_bill</th>\n",
       "      <th>tip</th>\n",
       "      <th>size</th>\n",
       "      <th>tip_rate</th>\n",
       "    </tr>\n",
       "    <tr>\n",
       "      <th>sex</th>\n",
       "      <th></th>\n",
       "      <th></th>\n",
       "      <th></th>\n",
       "      <th></th>\n",
       "    </tr>\n",
       "  </thead>\n",
       "  <tbody>\n",
       "    <tr>\n",
       "      <th>Male</th>\n",
       "      <td>50.81</td>\n",
       "      <td>10.0</td>\n",
       "      <td>6</td>\n",
       "      <td>0.710345</td>\n",
       "    </tr>\n",
       "    <tr>\n",
       "      <th>Female</th>\n",
       "      <td>44.30</td>\n",
       "      <td>6.5</td>\n",
       "      <td>6</td>\n",
       "      <td>0.416667</td>\n",
       "    </tr>\n",
       "  </tbody>\n",
       "</table>\n",
       "</div>"
      ],
      "text/plain": [
       "        total_bill   tip  size  tip_rate\n",
       "sex                                     \n",
       "Male         50.81  10.0     6  0.710345\n",
       "Female       44.30   6.5     6  0.416667"
      ]
     },
     "execution_count": 24,
     "metadata": {},
     "output_type": "execute_result"
    }
   ],
   "source": [
    "df.groupby('sex').max()"
   ]
  },
  {
   "cell_type": "markdown",
   "metadata": {},
   "source": [
    "## 四分位数"
   ]
  },
  {
   "cell_type": "code",
   "execution_count": 25,
   "metadata": {},
   "outputs": [
    {
     "data": {
      "text/plain": [
       "array([0.12912736, 0.15476977, 0.19147549])"
      ]
     },
     "execution_count": 25,
     "metadata": {},
     "output_type": "execute_result"
    }
   ],
   "source": [
    "np.quantile(df['tip_rate'], [0.25, 0.5, 0.75])"
   ]
  },
  {
   "cell_type": "code",
   "execution_count": 26,
   "metadata": {},
   "outputs": [
    {
     "data": {
      "text/plain": [
       "0.25    0.129127\n",
       "0.50    0.154770\n",
       "0.75    0.191475\n",
       "Name: tip_rate, dtype: float64"
      ]
     },
     "execution_count": 26,
     "metadata": {},
     "output_type": "execute_result"
    }
   ],
   "source": [
    "df['tip_rate'].quantile([0.25, 0.5, 0.75])"
   ]
  },
  {
   "cell_type": "code",
   "execution_count": 27,
   "metadata": {},
   "outputs": [
    {
     "data": {
      "text/plain": [
       "0.06234812458689151"
      ]
     },
     "execution_count": 27,
     "metadata": {},
     "output_type": "execute_result"
    }
   ],
   "source": [
    "stats.iqr(df['tip_rate'])"
   ]
  },
  {
   "cell_type": "code",
   "execution_count": 28,
   "metadata": {},
   "outputs": [
    {
     "data": {
      "image/png": "[encoded data removed]",
      "text/plain": [
       "<Figure size 432x288 with 1 Axes>"
      ]
     },
     "metadata": {
      "needs_background": "light"
     },
     "output_type": "display_data"
    }
   ],
   "source": [
    "plt.boxplot(df['tip_rate'])\n",
    "plt.show()"
   ]
  },
  {
   "cell_type": "code",
   "execution_count": 29,
   "metadata": {},
   "outputs": [
    {
     "data": {
      "text/plain": [
       "<AxesSubplot:xlabel='sex', ylabel='tip_rate'>"
      ]
     },
     "execution_count": 29,
     "metadata": {},
     "output_type": "execute_result"
    },
    {
     "data": {
      "image/png": "[encoded data removed]",
      "text/plain": [
       "<Figure size 432x288 with 1 Axes>"
      ]
     },
     "metadata": {
      "needs_background": "light"
     },
     "output_type": "display_data"
    }
   ],
   "source": [
    "sns.boxplot(x='sex', y='tip_rate', data=df)"
   ]
  },
  {
   "cell_type": "markdown",
   "metadata": {},
   "source": [
    "## 分散"
   ]
  },
  {
   "cell_type": "code",
   "execution_count": 30,
   "metadata": {},
   "outputs": [
    {
     "data": {
      "text/plain": [
       "1.9066085124966428"
      ]
     },
     "execution_count": 30,
     "metadata": {},
     "output_type": "execute_result"
    }
   ],
   "source": [
    "np.var(df['tip'])"
   ]
  },
  {
   "cell_type": "markdown",
   "metadata": {},
   "source": [
    "## 標準偏差"
   ]
  },
  {
   "cell_type": "code",
   "execution_count": 31,
   "metadata": {},
   "outputs": [
    {
     "data": {
      "text/plain": [
       "1.3807999538298958"
      ]
     },
     "execution_count": 31,
     "metadata": {},
     "output_type": "execute_result"
    }
   ],
   "source": [
    "np.std(df['tip'])"
   ]
  },
  {
   "cell_type": "code",
   "execution_count": 32,
   "metadata": {},
   "outputs": [
    {
     "data": {
      "text/plain": [
       "1.3807999538298958"
      ]
     },
     "execution_count": 32,
     "metadata": {},
     "output_type": "execute_result"
    }
   ],
   "source": [
    "np.sqrt(np.var(df['tip']))"
   ]
  },
  {
   "cell_type": "code",
   "execution_count": 33,
   "metadata": {},
   "outputs": [
    {
     "data": {
      "text/plain": [
       "2.9982786885245902"
      ]
     },
     "execution_count": 33,
     "metadata": {},
     "output_type": "execute_result"
    }
   ],
   "source": [
    "tip_mean = df['tip'].mean()\n",
    "tip_mean"
   ]
  },
  {
   "cell_type": "markdown",
   "metadata": {},
   "source": [
    "## 共分散"
   ]
  },
  {
   "cell_type": "code",
   "execution_count": 36,
   "metadata": {},
   "outputs": [
    {
     "data": {
      "text/plain": [
       "array([[78.92813149,  8.28938892],\n",
       "       [ 8.28938892,  1.90660851]])"
      ]
     },
     "execution_count": 36,
     "metadata": {},
     "output_type": "execute_result"
    }
   ],
   "source": [
    "np.cov(df['total_bill'], df['tip'], bias=True)"
   ]
  },
  {
   "cell_type": "code",
   "execution_count": 39,
   "metadata": {},
   "outputs": [
    {
     "data": {
      "text/plain": [
       "array([[78.92813149,  8.28938892,  5.04522121],\n",
       "       [ 8.28938892,  1.90660851,  0.64126747],\n",
       "       [ 5.04522121,  0.64126747,  0.9008835 ]])"
      ]
     },
     "execution_count": 39,
     "metadata": {},
     "output_type": "execute_result"
    }
   ],
   "source": [
    "x = np.stack([df['total_bill'], df['tip'], df['size']], axis=0)\n",
    "np.cov(x, bias=True)"
   ]
  },
  {
   "cell_type": "code",
   "execution_count": 40,
   "metadata": {},
   "outputs": [
    {
     "data": {
      "text/html": [
       "<div>\n",
       "<style scoped>\n",
       "    .dataframe tbody tr th:only-of-type {\n",
       "        vertical-align: middle;\n",
       "    }\n",
       "\n",
       "    .dataframe tbody tr th {\n",
       "        vertical-align: top;\n",
       "    }\n",
       "\n",
       "    .dataframe thead th {\n",
       "        text-align: right;\n",
       "    }\n",
       "</style>\n",
       "<table border=\"1\" class=\"dataframe\">\n",
       "  <thead>\n",
       "    <tr style=\"text-align: right;\">\n",
       "      <th></th>\n",
       "      <th>total_bill</th>\n",
       "      <th>tip</th>\n",
       "      <th>size</th>\n",
       "      <th>tip_rate</th>\n",
       "    </tr>\n",
       "  </thead>\n",
       "  <tbody>\n",
       "    <tr>\n",
       "      <th>total_bill</th>\n",
       "      <td>79.252939</td>\n",
       "      <td>8.323502</td>\n",
       "      <td>5.065983</td>\n",
       "      <td>-0.184107</td>\n",
       "    </tr>\n",
       "    <tr>\n",
       "      <th>tip</th>\n",
       "      <td>8.323502</td>\n",
       "      <td>1.914455</td>\n",
       "      <td>0.643906</td>\n",
       "      <td>0.028931</td>\n",
       "    </tr>\n",
       "    <tr>\n",
       "      <th>size</th>\n",
       "      <td>5.065983</td>\n",
       "      <td>0.643906</td>\n",
       "      <td>0.904591</td>\n",
       "      <td>-0.008298</td>\n",
       "    </tr>\n",
       "    <tr>\n",
       "      <th>tip_rate</th>\n",
       "      <td>-0.184107</td>\n",
       "      <td>0.028931</td>\n",
       "      <td>-0.008298</td>\n",
       "      <td>0.003730</td>\n",
       "    </tr>\n",
       "  </tbody>\n",
       "</table>\n",
       "</div>"
      ],
      "text/plain": [
       "            total_bill       tip      size  tip_rate\n",
       "total_bill   79.252939  8.323502  5.065983 -0.184107\n",
       "tip           8.323502  1.914455  0.643906  0.028931\n",
       "size          5.065983  0.643906  0.904591 -0.008298\n",
       "tip_rate     -0.184107  0.028931 -0.008298  0.003730"
      ]
     },
     "execution_count": 40,
     "metadata": {},
     "output_type": "execute_result"
    }
   ],
   "source": [
    "df.cov()"
   ]
  },
  {
   "cell_type": "markdown",
   "metadata": {},
   "source": [
    "## 相関係数"
   ]
  },
  {
   "cell_type": "code",
   "execution_count": 41,
   "metadata": {},
   "outputs": [
    {
     "data": {
      "text/plain": [
       "array([[1.        , 0.67573411],\n",
       "       [0.67573411, 1.        ]])"
      ]
     },
     "execution_count": 41,
     "metadata": {},
     "output_type": "execute_result"
    }
   ],
   "source": [
    "np.corrcoef(df['total_bill'], df['tip'])"
   ]
  },
  {
   "cell_type": "code",
   "execution_count": 42,
   "metadata": {},
   "outputs": [
    {
     "data": {
      "text/plain": [
       "array([[1.        , 0.67573411, 0.59831513],\n",
       "       [0.67573411, 1.        , 0.48929878],\n",
       "       [0.59831513, 0.48929878, 1.        ]])"
      ]
     },
     "execution_count": 42,
     "metadata": {},
     "output_type": "execute_result"
    }
   ],
   "source": [
    "x = np.stack([df['total_bill'], df['tip'], df['size']], axis=0)\n",
    "np.corrcoef(x)"
   ]
  },
  {
   "cell_type": "code",
   "execution_count": 43,
   "metadata": {},
   "outputs": [
    {
     "data": {
      "text/html": [
       "<div>\n",
       "<style scoped>\n",
       "    .dataframe tbody tr th:only-of-type {\n",
       "        vertical-align: middle;\n",
       "    }\n",
       "\n",
       "    .dataframe tbody tr th {\n",
       "        vertical-align: top;\n",
       "    }\n",
       "\n",
       "    .dataframe thead th {\n",
       "        text-align: right;\n",
       "    }\n",
       "</style>\n",
       "<table border=\"1\" class=\"dataframe\">\n",
       "  <thead>\n",
       "    <tr style=\"text-align: right;\">\n",
       "      <th></th>\n",
       "      <th>total_bill</th>\n",
       "      <th>tip</th>\n",
       "      <th>size</th>\n",
       "      <th>tip_rate</th>\n",
       "    </tr>\n",
       "  </thead>\n",
       "  <tbody>\n",
       "    <tr>\n",
       "      <th>total_bill</th>\n",
       "      <td>1.000000</td>\n",
       "      <td>0.675734</td>\n",
       "      <td>0.598315</td>\n",
       "      <td>-0.338624</td>\n",
       "    </tr>\n",
       "    <tr>\n",
       "      <th>tip</th>\n",
       "      <td>0.675734</td>\n",
       "      <td>1.000000</td>\n",
       "      <td>0.489299</td>\n",
       "      <td>0.342370</td>\n",
       "    </tr>\n",
       "    <tr>\n",
       "      <th>size</th>\n",
       "      <td>0.598315</td>\n",
       "      <td>0.489299</td>\n",
       "      <td>1.000000</td>\n",
       "      <td>-0.142860</td>\n",
       "    </tr>\n",
       "    <tr>\n",
       "      <th>tip_rate</th>\n",
       "      <td>-0.338624</td>\n",
       "      <td>0.342370</td>\n",
       "      <td>-0.142860</td>\n",
       "      <td>1.000000</td>\n",
       "    </tr>\n",
       "  </tbody>\n",
       "</table>\n",
       "</div>"
      ],
      "text/plain": [
       "            total_bill       tip      size  tip_rate\n",
       "total_bill    1.000000  0.675734  0.598315 -0.338624\n",
       "tip           0.675734  1.000000  0.489299  0.342370\n",
       "size          0.598315  0.489299  1.000000 -0.142860\n",
       "tip_rate     -0.338624  0.342370 -0.142860  1.000000"
      ]
     },
     "execution_count": 43,
     "metadata": {},
     "output_type": "execute_result"
    }
   ],
   "source": [
    "df.corr()"
   ]
  },
  {
   "cell_type": "code",
   "execution_count": 46,
   "metadata": {},
   "outputs": [
    {
     "data": {
      "text/plain": [
       "<AxesSubplot:>"
      ]
     },
     "execution_count": 46,
     "metadata": {},
     "output_type": "execute_result"
    },
    {
     "data": {
      "image/png": "[encoded data removed]",
      "text/plain": [
       "<Figure size 432x288 with 2 Axes>"
      ]
     },
     "metadata": {
      "needs_background": "light"
     },
     "output_type": "display_data"
    }
   ],
   "source": [
    "sns.heatmap(df.corr(), cmap='coolwarm', annot=True)"
   ]
  },
  {
   "cell_type": "markdown",
   "metadata": {},
   "source": [
    "## 連関"
   ]
  },
  {
   "cell_type": "code",
   "execution_count": 49,
   "metadata": {},
   "outputs": [
    {
     "data": {
      "text/html": [
       "<div>\n",
       "<style scoped>\n",
       "    .dataframe tbody tr th:only-of-type {\n",
       "        vertical-align: middle;\n",
       "    }\n",
       "\n",
       "    .dataframe tbody tr th {\n",
       "        vertical-align: top;\n",
       "    }\n",
       "\n",
       "    .dataframe thead th {\n",
       "        text-align: right;\n",
       "    }\n",
       "</style>\n",
       "<table border=\"1\" class=\"dataframe\">\n",
       "  <thead>\n",
       "    <tr style=\"text-align: right;\">\n",
       "      <th>time</th>\n",
       "      <th>Lunch</th>\n",
       "      <th>Dinner</th>\n",
       "    </tr>\n",
       "    <tr>\n",
       "      <th>sex</th>\n",
       "      <th></th>\n",
       "      <th></th>\n",
       "    </tr>\n",
       "  </thead>\n",
       "  <tbody>\n",
       "    <tr>\n",
       "      <th>Male</th>\n",
       "      <td>33</td>\n",
       "      <td>124</td>\n",
       "    </tr>\n",
       "    <tr>\n",
       "      <th>Female</th>\n",
       "      <td>35</td>\n",
       "      <td>52</td>\n",
       "    </tr>\n",
       "  </tbody>\n",
       "</table>\n",
       "</div>"
      ],
      "text/plain": [
       "time    Lunch  Dinner\n",
       "sex                  \n",
       "Male       33     124\n",
       "Female     35      52"
      ]
     },
     "execution_count": 49,
     "metadata": {},
     "output_type": "execute_result"
    }
   ],
   "source": [
    "pd.crosstab(df['sex'], df['time'])"
   ]
  },
  {
   "cell_type": "code",
   "execution_count": 50,
   "metadata": {},
   "outputs": [
    {
     "data": {
      "text/plain": [
       "(10.277251918677742,\n",
       " 0.0013468039268008766,\n",
       " 1,\n",
       " array([[ 43.75409836, 113.24590164],\n",
       "        [ 24.24590164,  62.75409836]]))"
      ]
     },
     "execution_count": 50,
     "metadata": {},
     "output_type": "execute_result"
    }
   ],
   "source": [
    "cont_table = pd.crosstab(df['sex'], df['time'])\n",
    "stats.chi2_contingency(cont_table, correction=False)"
   ]
  },
  {
   "cell_type": "markdown",
   "metadata": {},
   "source": [
    "## クラメールの連関係数"
   ]
  },
  {
   "cell_type": "code",
   "execution_count": 51,
   "metadata": {},
   "outputs": [],
   "source": [
    "def cramers_v(x,y):\n",
    "    cont_table = pd.crosstab(x, y)\n",
    "    chi2 = stats.chi2_contingency(cont_table, correction=False)[0]\n",
    "    min_d = min(cont_table.shape) - 1\n",
    "    n = len(x)\n",
    "    v = np.sqrt(chi2/(min_d*n))\n",
    "    return v"
   ]
  },
  {
   "cell_type": "code",
   "execution_count": 52,
   "metadata": {},
   "outputs": [
    {
     "data": {
      "text/plain": [
       "0.20523129613344476"
      ]
     },
     "execution_count": 52,
     "metadata": {},
     "output_type": "execute_result"
    }
   ],
   "source": [
    "cramers_v(df['sex'], df['time'])"
   ]
  },
  {
   "cell_type": "markdown",
   "metadata": {},
   "source": [
    "## 確率分布"
   ]
  },
  {
   "cell_type": "code",
   "execution_count": 4,
   "metadata": {},
   "outputs": [
    {
     "data": {
      "text/plain": [
       "1"
      ]
     },
     "execution_count": 4,
     "metadata": {},
     "output_type": "execute_result"
    }
   ],
   "source": [
    "# random variates(rvs) : 確率変量\n",
    "stats.randint.rvs(1, 7)"
   ]
  },
  {
   "cell_type": "code",
   "execution_count": 6,
   "metadata": {},
   "outputs": [
    {
     "data": {
      "text/plain": [
       "0.5548557666506296"
      ]
     },
     "execution_count": 6,
     "metadata": {},
     "output_type": "execute_result"
    }
   ],
   "source": [
    "stats.uniform.rvs(0, 1)"
   ]
  },
  {
   "cell_type": "markdown",
   "metadata": {},
   "source": [
    "## 確率分布の描画"
   ]
  },
  {
   "cell_type": "code",
   "execution_count": 19,
   "metadata": {},
   "outputs": [],
   "source": [
    "def simple_func(x):\n",
    "    return x**2 + 3"
   ]
  },
  {
   "cell_type": "code",
   "execution_count": 20,
   "metadata": {},
   "outputs": [
    {
     "data": {
      "text/plain": [
       "103"
      ]
     },
     "execution_count": 20,
     "metadata": {},
     "output_type": "execute_result"
    }
   ],
   "source": [
    "simple_func(10)"
   ]
  },
  {
   "cell_type": "code",
   "execution_count": 24,
   "metadata": {},
   "outputs": [],
   "source": [
    "# x = np.linspace(-3, 3, 100)\n",
    "x = np.arange(-3, 4)\n",
    "y = simple_func(x)"
   ]
  },
  {
   "cell_type": "code",
   "execution_count": 26,
   "metadata": {},
   "outputs": [
    {
     "data": {
      "text/plain": [
       "array([-3, -2, -1,  0,  1,  2,  3])"
      ]
     },
     "execution_count": 26,
     "metadata": {},
     "output_type": "execute_result"
    }
   ],
   "source": [
    "x"
   ]
  },
  {
   "cell_type": "code",
   "execution_count": 27,
   "metadata": {},
   "outputs": [
    {
     "data": {
      "text/plain": [
       "[<matplotlib.lines.Line2D at 0x1a85f1c0cd0>]"
      ]
     },
     "execution_count": 27,
     "metadata": {},
     "output_type": "execute_result"
    },
    {
     "data": {
      "image/png": "[encoded data removed]",
      "text/plain": [
       "<Figure size 432x288 with 1 Axes>"
      ]
     },
     "metadata": {
      "needs_background": "light"
     },
     "output_type": "display_data"
    }
   ],
   "source": [
    "plt.plot(x, y)"
   ]
  },
  {
   "cell_type": "code",
   "execution_count": 35,
   "metadata": {},
   "outputs": [],
   "source": [
    "x = np.arange(1, 7)\n",
    "y = stats.randint(1, 7).pmf(x)"
   ]
  },
  {
   "cell_type": "code",
   "execution_count": 33,
   "metadata": {},
   "outputs": [
    {
     "data": {
      "text/plain": [
       "array([1, 2, 3, 4, 5, 6])"
      ]
     },
     "execution_count": 33,
     "metadata": {},
     "output_type": "execute_result"
    }
   ],
   "source": [
    "x"
   ]
  },
  {
   "cell_type": "code",
   "execution_count": 36,
   "metadata": {},
   "outputs": [
    {
     "data": {
      "text/plain": [
       "array([0.16666667, 0.16666667, 0.16666667, 0.16666667, 0.16666667,\n",
       "       0.16666667])"
      ]
     },
     "execution_count": 36,
     "metadata": {},
     "output_type": "execute_result"
    }
   ],
   "source": [
    "y"
   ]
  },
  {
   "cell_type": "code",
   "execution_count": 42,
   "metadata": {},
   "outputs": [
    {
     "data": {
      "text/plain": [
       "<matplotlib.collections.LineCollection at 0x1a85f428700>"
      ]
     },
     "execution_count": 42,
     "metadata": {},
     "output_type": "execute_result"
    },
    {
     "data": {
      "image/png": "[encoded data removed]",
      "text/plain": [
       "<Figure size 432x288 with 1 Axes>"
      ]
     },
     "metadata": {
      "needs_background": "light"
     },
     "output_type": "display_data"
    }
   ],
   "source": [
    "plt.plot(x, y ,'x')\n",
    "plt.vlines(x, 0, y)"
   ]
  },
  {
   "cell_type": "code",
   "execution_count": 48,
   "metadata": {},
   "outputs": [],
   "source": [
    "x = np.linspace(-2, 4, 100)\n",
    "y = stats.uniform(loc=0, scale=2).pdf(x)"
   ]
  },
  {
   "cell_type": "code",
   "execution_count": 49,
   "metadata": {},
   "outputs": [
    {
     "data": {
      "text/plain": [
       "[<matplotlib.lines.Line2D at 0x1a86051f6a0>]"
      ]
     },
     "execution_count": 49,
     "metadata": {},
     "output_type": "execute_result"
    },
    {
     "data": {
      "image/png": "[encoded data removed]",
      "text/plain": [
       "<Figure size 432x288 with 1 Axes>"
      ]
     },
     "metadata": {
      "needs_background": "light"
     },
     "output_type": "display_data"
    }
   ],
   "source": [
    "plt.plot(x, y)"
   ]
  },
  {
   "cell_type": "markdown",
   "metadata": {},
   "source": [
    "## 累積分布関数(CDF)"
   ]
  },
  {
   "cell_type": "code",
   "execution_count": 3,
   "metadata": {},
   "outputs": [
    {
     "data": {
      "text/plain": [
       "[<matplotlib.lines.Line2D at 0x20a740e6610>]"
      ]
     },
     "execution_count": 3,
     "metadata": {},
     "output_type": "execute_result"
    },
    {
     "data": {
      "image/png": "[encoded data removed]",
      "text/plain": [
       "<Figure size 432x288 with 1 Axes>"
      ]
     },
     "metadata": {
      "needs_background": "light"
     },
     "output_type": "display_data"
    }
   ],
   "source": [
    "x = np.linspace(-3, 3, 100)\n",
    "y = stats.norm.pdf(x)\n",
    "plt.plot(x, y)"
   ]
  },
  {
   "cell_type": "code",
   "execution_count": 4,
   "metadata": {},
   "outputs": [
    {
     "data": {
      "text/plain": [
       "[<matplotlib.lines.Line2D at 0x20a761d1580>]"
      ]
     },
     "execution_count": 4,
     "metadata": {},
     "output_type": "execute_result"
    },
    {
     "data": {
      "image/png": "[encoded data removed]",
      "text/plain": [
       "<Figure size 432x288 with 1 Axes>"
      ]
     },
     "metadata": {
      "needs_background": "light"
     },
     "output_type": "display_data"
    }
   ],
   "source": [
    "y = stats.norm.cdf(x)\n",
    "plt.plot(x, y)"
   ]
  },
  {
   "cell_type": "code",
   "execution_count": 5,
   "metadata": {},
   "outputs": [
    {
     "data": {
      "text/plain": [
       "[<matplotlib.lines.Line2D at 0x20a76235730>]"
      ]
     },
     "execution_count": 5,
     "metadata": {},
     "output_type": "execute_result"
    },
    {
     "data": {
      "image/png": "[encoded data removed]",
      "text/plain": [
       "<Figure size 432x288 with 1 Axes>"
      ]
     },
     "metadata": {
      "needs_background": "light"
     },
     "output_type": "display_data"
    }
   ],
   "source": [
    "y = stats.norm.sf(x)\n",
    "plt.plot(x, y)"
   ]
  },
  {
   "cell_type": "markdown",
   "metadata": {},
   "source": [
    "## 正規分布"
   ]
  },
  {
   "cell_type": "code",
   "execution_count": 16,
   "metadata": {},
   "outputs": [
    {
     "data": {
      "text/plain": [
       "[<matplotlib.lines.Line2D at 0x20a76366760>]"
      ]
     },
     "execution_count": 16,
     "metadata": {},
     "output_type": "execute_result"
    },
    {
     "data": {
      "image/png": "[encoded data removed]",
      "text/plain": [
       "<Figure size 432x288 with 1 Axes>"
      ]
     },
     "metadata": {
      "needs_background": "light"
     },
     "output_type": "display_data"
    }
   ],
   "source": [
    "x = np.linspace(-5, 15, 100)\n",
    "y = stats.norm(loc=10, scale=3).pdf(x)\n",
    "y2 = stats.norm(loc=8, scale=3).pdf(x)\n",
    "y3 = stats.norm(loc=8, scale=1).pdf(x)\n",
    "plt.plot(x, y)\n",
    "plt.plot(x, y2)\n",
    "plt.plot(x, y3)"
   ]
  },
  {
   "cell_type": "markdown",
   "metadata": {},
   "source": [
    "## カーネル密度推定(KDE)"
   ]
  },
  {
   "cell_type": "code",
   "execution_count": 18,
   "metadata": {},
   "outputs": [
    {
     "data": {
      "text/plain": [
       "[<matplotlib.lines.Line2D at 0x20a784c2df0>]"
      ]
     },
     "execution_count": 18,
     "metadata": {},
     "output_type": "execute_result"
    },
    {
     "data": {
      "image/png": "[encoded data removed]",
      "text/plain": [
       "<Figure size 432x288 with 1 Axes>"
      ]
     },
     "metadata": {
      "needs_background": "light"
     },
     "output_type": "display_data"
    }
   ],
   "source": [
    "x = np.linspace(-3, 10, 100)\n",
    "y = stats.gaussian_kde(df['tip']).pdf(x)\n",
    "plt.plot(x, y)"
   ]
  },
  {
   "cell_type": "code",
   "execution_count": 19,
   "metadata": {},
   "outputs": [
    {
     "data": {
      "text/plain": [
       "<seaborn.axisgrid.FacetGrid at 0x20a784a7d00>"
      ]
     },
     "execution_count": 19,
     "metadata": {},
     "output_type": "execute_result"
    },
    {
     "data": {
      "image/png": "[encoded data removed]",
      "text/plain": [
       "<Figure size 360x360 with 1 Axes>"
      ]
     },
     "metadata": {
      "needs_background": "light"
     },
     "output_type": "display_data"
    }
   ],
   "source": [
    "sns.displot(df['tip'], kde=True)"
   ]
  },
  {
   "cell_type": "code",
   "execution_count": 20,
   "metadata": {},
   "outputs": [],
   "source": [
    "resumple_data = stats.gaussian_kde(df['tip']).resample()"
   ]
  },
  {
   "cell_type": "code",
   "execution_count": 21,
   "metadata": {},
   "outputs": [
    {
     "data": {
      "text/plain": [
       "array([[ 3.84331941,  0.85328936,  3.76319703,  3.08007844,  1.91197463,\n",
       "         5.51796911,  3.01544364,  1.67931072,  1.95808338,  0.89783694,\n",
       "         5.36193093,  1.91700753,  3.36275964,  2.57432617,  2.65654263,\n",
       "         3.66303528,  1.55053577,  3.65782252,  3.43887908,  3.9021655 ,\n",
       "         4.56059675,  1.7284334 ,  3.59634407,  2.59660285,  2.45573747,\n",
       "         6.7577484 ,  1.42374881,  6.06973322,  1.73591056,  3.66286238,\n",
       "         3.07057718,  2.71797542,  3.53291327,  2.53097816,  2.28146676,\n",
       "         1.43351351,  3.3675199 ,  4.69967898,  3.80564834,  3.15984791,\n",
       "         2.61276446,  5.12944026,  3.24130399,  2.59508831,  2.78117163,\n",
       "         2.81075639,  5.20765424,  1.37455464,  2.11975638,  2.86792308,\n",
       "         2.7013845 ,  2.64358387,  1.02480963,  3.09366751,  1.80906731,\n",
       "         3.07972106,  2.27211425,  1.55568234,  1.1567158 ,  3.20095638,\n",
       "         2.5830283 ,  1.06478345,  1.68852436,  3.33690804,  0.73666452,\n",
       "         3.92811535,  1.92740811,  0.80952929,  5.19777514,  3.81849468,\n",
       "         3.15611595,  5.67981927,  3.04086182,  4.23536832,  7.23095354,\n",
       "         2.19855585,  2.71007521,  1.75354146,  2.31848975,  1.72139553,\n",
       "         2.10332456,  1.86256527,  2.23381973,  5.76092544,  3.39103058,\n",
       "         0.0982244 ,  1.52623603,  2.82062791,  3.9134292 ,  2.43774982,\n",
       "         2.07383603,  2.75748345,  3.30425836,  1.85993071,  3.83461121,\n",
       "         2.61373742,  5.49553865,  5.03786986,  1.03148224,  1.42612638,\n",
       "         0.82494034,  2.23319617,  1.63895602,  3.86789631,  1.48100434,\n",
       "         4.19867688,  2.60194495,  2.22938356,  1.99243797,  4.59996494,\n",
       "         2.20023152,  0.65234694,  2.10288021,  3.29556645,  5.07759848,\n",
       "         1.87785943,  4.13008074,  1.34931747,  2.86698745,  3.43569638,\n",
       "         2.56827879,  3.60759379,  1.68451621,  1.83029095,  7.42284259,\n",
       "         1.34687372,  4.92451078,  2.08321871,  1.15647344,  4.15133482,\n",
       "         3.34888136,  3.54247976,  3.317052  ,  2.02506354,  4.2389756 ,\n",
       "         6.66076497,  2.49419555,  1.37088996,  2.31428771,  3.71158809,\n",
       "         4.39492858,  3.10282165,  3.46136373,  0.78242303,  3.75239622,\n",
       "         3.12140942,  1.46887608,  2.05989952,  2.20098585,  1.73842429,\n",
       "         3.31949909,  2.61264885,  3.48334287,  2.55801815,  1.93053055,\n",
       "         0.87316489,  7.40659642,  3.4473434 ,  4.13674529,  0.98219122,\n",
       "         9.32468756,  4.64211789,  2.30127035,  2.87775343,  2.67313787,\n",
       "         1.57069291,  1.89726633,  3.72151895,  2.28922858,  1.86047972,\n",
       "         3.5222465 ,  4.9207097 ,  2.40090856,  4.53617238,  2.87457476,\n",
       "         4.36337989,  4.90975185,  1.94790732,  2.80020495,  2.36310248,\n",
       "         2.10393003, 10.55526102,  1.93462806,  2.87348313,  2.47983145,\n",
       "         2.23998597,  3.75143914,  4.67678016,  3.62437628,  4.00125261,\n",
       "         9.10921726,  1.8018679 ,  1.95368203,  3.07938621,  1.91107716,\n",
       "         0.96988018,  5.07458666,  0.88743479,  1.64795322,  1.73060708,\n",
       "         4.98000958,  2.23310014,  2.03118731,  2.8243931 ,  1.95983647,\n",
       "         2.79543086,  9.54210819,  5.16139909,  1.70579582,  4.19507689,\n",
       "         4.1363914 ,  4.78858615,  2.32734138,  3.85673494,  2.24872447,\n",
       "         3.75182926,  1.35666528,  2.62848547,  2.47911719,  3.24581986,\n",
       "         0.95092299,  1.40179447,  4.96031355,  4.8550039 ,  3.12890482,\n",
       "         2.79979805,  3.05116804,  1.87836083,  2.94084729,  1.00261452,\n",
       "         3.36339159,  1.72376776,  1.41544748,  2.74756131,  1.97878492,\n",
       "         2.74798114,  2.03888617,  2.96237304,  1.20963017,  3.05277572,\n",
       "         4.63067649,  6.41131278,  4.44541289,  2.30909464]])"
      ]
     },
     "execution_count": 21,
     "metadata": {},
     "output_type": "execute_result"
    }
   ],
   "source": [
    "resumple_data"
   ]
  },
  {
   "cell_type": "markdown",
   "metadata": {},
   "source": [
    "## 68-95-99.7ルール"
   ]
  },
  {
   "cell_type": "code",
   "execution_count": 24,
   "metadata": {},
   "outputs": [],
   "source": [
    "group1 = []\n",
    "group2 = []\n",
    "group3 = []\n",
    "samples = []\n",
    "loc=4\n",
    "scale=3\n",
    "\n",
    "for i in range(1000):\n",
    "    sample = stats.norm(loc, scale).rvs()\n",
    "    if loc-scale < sample < loc+scale:\n",
    "        group1.append(sample)\n",
    "    elif loc-2*scale < sample < loc+2*scale:\n",
    "        group2.append(sample)\n",
    "    elif loc-3*scale < sample < loc+3*scale:\n",
    "        group3.append(sample)\n",
    "    samples.append(sample)"
   ]
  },
  {
   "cell_type": "code",
   "execution_count": 25,
   "metadata": {},
   "outputs": [
    {
     "name": "stdout",
     "output_type": "stream",
     "text": [
      "0.695\n",
      "0.955\n",
      "0.999\n"
     ]
    }
   ],
   "source": [
    "print(len(group1)/len(samples))\n",
    "print((len(group1) + len(group2))/len(samples))\n",
    "print((len(group1) + len(group2) + len(group3))/len(samples))"
   ]
  },
  {
   "cell_type": "markdown",
   "metadata": {},
   "source": [
    "## 標準化"
   ]
  },
  {
   "cell_type": "code",
   "execution_count": 27,
   "metadata": {},
   "outputs": [],
   "source": [
    "scaler = StandardScaler()"
   ]
  },
  {
   "cell_type": "code",
   "execution_count": 33,
   "metadata": {},
   "outputs": [],
   "source": [
    "scaled = scaler.fit_transform(df['tip_rate'].values.reshape(-1, 1))"
   ]
  },
  {
   "cell_type": "code",
   "execution_count": 36,
   "metadata": {},
   "outputs": [
    {
     "data": {
      "text/plain": [
       "array([[ 33.36981828],\n",
       "       [ 49.95717657],\n",
       "       [ 50.94914672],\n",
       "       [ 46.5507406 ],\n",
       "       [ 47.70375032],\n",
       "       [ 54.17363756],\n",
       "       [ 61.03379478],\n",
       "       [ 42.66063856],\n",
       "       [ 44.99836433],\n",
       "       [ 59.47315739],\n",
       "       [ 50.93553526],\n",
       "       [ 46.88272423],\n",
       "       [ 40.3216191 ],\n",
       "       [ 50.32413406],\n",
       "       [ 57.02885077],\n",
       "       [ 53.42053237],\n",
       "       [ 50.14151189],\n",
       "       [ 60.98406513],\n",
       "       [ 57.45627991],\n",
       "       [ 50.23381346],\n",
       "       [ 60.97282376],\n",
       "       [ 45.85412481],\n",
       "       [ 46.81774845],\n",
       "       [ 55.16606793],\n",
       "       [ 49.94116426],\n",
       "       [ 45.17355156],\n",
       "       [ 48.16004664],\n",
       "       [ 49.47525348],\n",
       "       [ 56.12895542],\n",
       "       [ 48.665917  ],\n",
       "       [ 48.52820785],\n",
       "       [ 45.9698051 ],\n",
       "       [ 56.30066304],\n",
       "       [ 43.04511479],\n",
       "       [ 53.79214012],\n",
       "       [ 48.16616736],\n",
       "       [ 43.73579175],\n",
       "       [ 53.36888626],\n",
       "       [ 43.8951679 ],\n",
       "       [ 49.8515239 ],\n",
       "       [ 46.52948726],\n",
       "       [ 47.48515471],\n",
       "       [ 59.63290777],\n",
       "       [ 45.99012678],\n",
       "       [ 53.84070953],\n",
       "       [ 50.52857055],\n",
       "       [ 60.52041476],\n",
       "       [ 54.0006288 ],\n",
       "       [ 35.3973396 ],\n",
       "       [ 50.90152794],\n",
       "       [ 56.3267274 ],\n",
       "       [ 65.07375667],\n",
       "       [ 48.12620246],\n",
       "       [ 49.3665092 ],\n",
       "       [ 51.47570612],\n",
       "       [ 53.1650116 ],\n",
       "       [ 36.56601957],\n",
       "       [ 32.93500302],\n",
       "       [ 49.30776628],\n",
       "       [ 46.49227458],\n",
       "       [ 49.5739623 ],\n",
       "       [ 47.37804841],\n",
       "       [ 53.09625771],\n",
       "       [ 57.34643039],\n",
       "       [ 48.24153466],\n",
       "       [ 49.35516491],\n",
       "       [ 48.2524786 ],\n",
       "       [ 77.06130127],\n",
       "       [ 39.91824625],\n",
       "       [ 46.46215549],\n",
       "       [ 50.50715093],\n",
       "       [ 52.4520256 ],\n",
       "       [ 42.79699139],\n",
       "       [ 56.06793973],\n",
       "       [ 48.12172255],\n",
       "       [ 43.13037834],\n",
       "       [ 51.81673116],\n",
       "       [ 47.74496292],\n",
       "       [ 45.24301069],\n",
       "       [ 49.33309471],\n",
       "       [ 48.93651833],\n",
       "       [ 57.10110461],\n",
       "       [ 53.43336797],\n",
       "       [ 48.71957357],\n",
       "       [ 44.45931227],\n",
       "       [ 47.97080424],\n",
       "       [ 48.8004908 ],\n",
       "       [ 59.51906867],\n",
       "       [ 62.46062397],\n",
       "       [ 46.87832598],\n",
       "       [ 40.60704424],\n",
       "       [ 49.1504314 ],\n",
       "       [ 52.15112759],\n",
       "       [ 66.84708553],\n",
       "       [ 47.05556301],\n",
       "       [ 42.93598234],\n",
       "       [ 47.6742034 ],\n",
       "       [ 44.07446712],\n",
       "       [ 47.04440661],\n",
       "       [ 43.36843538],\n",
       "       [ 59.75631384],\n",
       "       [ 55.62061733],\n",
       "       [ 32.87540045],\n",
       "       [ 49.08378862],\n",
       "       [ 55.61572178],\n",
       "       [ 41.13462312],\n",
       "       [ 56.12711033],\n",
       "       [ 51.53707264],\n",
       "       [ 57.43889329],\n",
       "       [ 69.479608  ],\n",
       "       [ 58.77536154],\n",
       "       [ 46.24730104],\n",
       "       [ 40.85549097],\n",
       "       [ 41.08556125],\n",
       "       [ 49.14333731],\n",
       "       [ 56.79159437],\n",
       "       [ 51.40986169],\n",
       "       [ 46.72542784],\n",
       "       [ 47.37613674],\n",
       "       [ 43.5123681 ],\n",
       "       [ 56.0384026 ],\n",
       "       [ 44.15617917],\n",
       "       [ 52.38124986],\n",
       "       [ 44.18990694],\n",
       "       [ 56.74693487],\n",
       "       [ 46.74093754],\n",
       "       [ 52.11763561],\n",
       "       [ 46.2161284 ],\n",
       "       [ 52.4520256 ],\n",
       "       [ 39.29029772],\n",
       "       [ 36.51511527],\n",
       "       [ 46.52363333],\n",
       "       [ 45.64960687],\n",
       "       [ 50.38222686],\n",
       "       [ 52.81918791],\n",
       "       [ 47.71660922],\n",
       "       [ 55.38308684],\n",
       "       [ 46.80708671],\n",
       "       [ 44.12561337],\n",
       "       [ 57.90261058],\n",
       "       [ 56.48775347],\n",
       "       [ 55.66602723],\n",
       "       [ 43.53307925],\n",
       "       [ 53.94446492],\n",
       "       [ 46.58477378],\n",
       "       [ 53.09090836],\n",
       "       [ 35.5872623 ],\n",
       "       [ 46.14720457],\n",
       "       [ 52.63984329],\n",
       "       [ 67.31161959],\n",
       "       [ 52.76969363],\n",
       "       [ 48.60868178],\n",
       "       [ 49.66298053],\n",
       "       [ 36.98274227],\n",
       "       [ 40.21456781],\n",
       "       [ 51.8691218 ],\n",
       "       [ 40.64702048],\n",
       "       [ 48.22754286],\n",
       "       [ 55.59814954],\n",
       "       [ 43.51616964],\n",
       "       [ 50.32620446],\n",
       "       [ 56.01667278],\n",
       "       [ 43.85991159],\n",
       "       [ 47.37804841],\n",
       "       [ 51.72741873],\n",
       "       [ 46.90261294],\n",
       "       [ 41.31986199],\n",
       "       [ 46.90033389],\n",
       "       [ 48.56065517],\n",
       "       [ 54.48655474],\n",
       "       [ 55.90826656],\n",
       "       [ 56.41064571],\n",
       "       [140.16734169],\n",
       "       [ 39.99792609],\n",
       "       [ 62.63550921],\n",
       "       [ 39.12599719],\n",
       "       [ 41.95885912],\n",
       "       [ 46.27855979],\n",
       "       [ 91.98145738],\n",
       "       [ 40.43589049],\n",
       "       [ 41.0417674 ],\n",
       "       [ 63.35175951],\n",
       "       [ 36.27903382],\n",
       "       [ 69.64538616],\n",
       "       [ 35.75484482],\n",
       "       [ 63.26729012],\n",
       "       [ 51.09300556],\n",
       "       [ 34.38925415],\n",
       "       [ 55.25619338],\n",
       "       [ 52.02759875],\n",
       "       [ 39.30212077],\n",
       "       [ 58.31982167],\n",
       "       [ 38.38521979],\n",
       "       [ 45.02655396],\n",
       "       [ 63.20032769],\n",
       "       [ 54.86876203],\n",
       "       [ 55.35236429],\n",
       "       [ 42.64602619],\n",
       "       [ 48.85860894],\n",
       "       [ 47.90570383],\n",
       "       [ 58.69393055],\n",
       "       [ 49.50255391],\n",
       "       [ 48.85860894],\n",
       "       [ 48.6277311 ],\n",
       "       [ 55.5842425 ],\n",
       "       [ 55.79382202],\n",
       "       [ 44.65783063],\n",
       "       [ 36.32527496],\n",
       "       [ 37.33976793],\n",
       "       [ 52.29089621],\n",
       "       [ 34.53261128],\n",
       "       [ 56.31732732],\n",
       "       [ 54.17037552],\n",
       "       [ 54.52726576],\n",
       "       [ 61.47545002],\n",
       "       [ 37.60704326],\n",
       "       [ 41.10198862],\n",
       "       [ 44.85114879],\n",
       "       [ 54.14195282],\n",
       "       [ 40.43741533],\n",
       "       [ 53.30098196],\n",
       "       [ 66.16355048],\n",
       "       [ 60.33253757],\n",
       "       [ 54.41894081],\n",
       "       [ 42.93354743],\n",
       "       [ 48.82757926],\n",
       "       [ 56.13869725],\n",
       "       [ 47.68596782],\n",
       "       [ 57.22213523],\n",
       "       [ 44.97863668],\n",
       "       [ 37.28336948],\n",
       "       [ 54.98827559],\n",
       "       [ 71.52480645],\n",
       "       [ 46.0109013 ],\n",
       "       [ 55.3114932 ],\n",
       "       [ 43.98304383],\n",
       "       [ 36.63796431],\n",
       "       [ 29.46337075],\n",
       "       [ 45.00140909],\n",
       "       [ 57.07572834],\n",
       "       [ 35.68934191],\n",
       "       [ 38.09123541],\n",
       "       [ 39.72904473],\n",
       "       [ 49.826378  ]])"
      ]
     },
     "execution_count": 36,
     "metadata": {},
     "output_type": "execute_result"
    }
   ],
   "source": [
    "# 平均 50, 標準偏差 10 にする\n",
    "scaled * 10 + 50"
   ]
  },
  {
   "cell_type": "code",
   "execution_count": 35,
   "metadata": {},
   "outputs": [
    {
     "data": {
      "text/plain": [
       "array([[-3.14711305e-01, -1.66301817e+00],\n",
       "       [-1.06323531e+00, -4.28234299e-03],\n",
       "       [ 1.37779900e-01,  9.49146717e-02],\n",
       "       [ 4.38315103e-01, -3.44925940e-01],\n",
       "       [ 5.40744704e-01, -2.29624968e-01],\n",
       "       [ 6.19536705e-01,  4.17363756e-01],\n",
       "       [-1.23995452e+00,  1.10337948e+00],\n",
       "       [ 7.98507107e-01, -7.33936144e-01],\n",
       "       [-5.34203307e-01, -5.00163567e-01],\n",
       "       [-5.63468908e-01,  9.47315739e-01],\n",
       "       [-1.07111451e+00,  9.35535257e-02],\n",
       "       [ 1.74175992e+00, -3.11727577e-01],\n",
       "       [-4.91430507e-01, -9.67838090e-01],\n",
       "       [-1.52624903e-01,  3.24134057e-02],\n",
       "       [-5.57840908e-01,  7.02885077e-01],\n",
       "       [ 2.01939101e-01,  3.42053237e-01],\n",
       "       [-1.06436091e+00,  1.41511894e-02],\n",
       "       [-3.93503306e-01,  1.09840651e+00],\n",
       "       [-3.16962505e-01,  7.45627991e-01],\n",
       "       [ 9.72582994e-02,  2.33813456e-02],\n",
       "       [-2.10030504e-01,  1.09728238e+00],\n",
       "       [ 5.67366990e-02, -4.14587519e-01],\n",
       "       [-4.52034507e-01, -3.18225155e-01],\n",
       "       [ 2.21000952e+00,  5.16606793e-01],\n",
       "       [ 3.83349840e-03, -5.88357399e-03],\n",
       "       [-2.22412104e-01, -4.82644844e-01],\n",
       "       [-7.22178510e-01, -1.83995336e-01],\n",
       "       [-7.98719310e-01, -5.24746516e-02],\n",
       "       [ 2.15446301e-01,  6.12895542e-01],\n",
       "       [-1.53017018e-02, -1.33408300e-01],\n",
       "       [-1.15215771e+00, -1.47179215e-01],\n",
       "       [-1.61629703e-01, -4.03019490e-01],\n",
       "       [-5.31952107e-01,  6.30066304e-01],\n",
       "       [ 1.01760699e-01, -6.95488521e-01],\n",
       "       [-2.25788904e-01,  3.79214012e-01],\n",
       "       [ 4.81087904e-01, -1.83383264e-01],\n",
       "       [-3.91252106e-01, -6.26420825e-01],\n",
       "       [-3.21464905e-01,  3.36888626e-01],\n",
       "       [-1.23359303e-01, -6.10483210e-01],\n",
       "       [ 1.29264551e+00, -1.48476102e-02],\n",
       "       [-4.21643306e-01, -3.47051274e-01],\n",
       "       [-2.61808105e-01, -2.51484529e-01],\n",
       "       [-6.58019309e-01,  9.63290777e-01],\n",
       "       [-1.13752491e+00, -4.00987322e-01],\n",
       "       [ 1.19471831e+00,  3.84070953e-01],\n",
       "       [-1.68383303e-01,  5.28570554e-02],\n",
       "       [ 2.75103101e-01,  1.05204148e+00],\n",
       "       [ 1.41983831e+00,  4.00062880e-01],\n",
       "       [ 9.86482309e-01, -1.46026604e+00],\n",
       "       [-1.96523304e-01,  9.01527935e-02],\n",
       "       [-8.15603311e-01,  6.32672740e-01],\n",
       "       [-1.06886331e+00,  1.50737567e+00],\n",
       "       [ 1.69110792e+00, -1.87379754e-01],\n",
       "       [-1.10825931e+00, -6.33490804e-02],\n",
       "       [ 6.49927905e-01,  1.47570612e-01],\n",
       "       [-3.33113020e-02,  3.16501160e-01],\n",
       "       [ 2.05129992e+00, -1.34339804e+00],\n",
       "       [ 7.45603907e-01, -1.70649970e+00],\n",
       "       [-9.61931312e-01, -6.92233716e-02],\n",
       "       [ 3.20616553e+00, -3.50772542e-01],\n",
       "       [ 5.67366990e-02, -4.26037703e-02],\n",
       "       [-6.72652109e-01, -2.62195159e-01],\n",
       "       [-9.86694512e-01,  3.09625771e-01],\n",
       "       [-1.68383303e-01,  7.34643039e-01],\n",
       "       [-2.47175304e-01, -1.75846534e-01],\n",
       "       [ 3.30990987e-02, -6.44835090e-02],\n",
       "       [-3.75493706e-01, -1.74752140e-01],\n",
       "       [-1.88154652e+00,  2.70613013e+00],\n",
       "       [ 4.99830989e-02, -1.00817537e+00],\n",
       "       [-5.37580108e-01, -3.53784451e-01],\n",
       "       [-8.74134511e-01,  5.07150927e-02],\n",
       "       [-3.05706505e-01,  2.45202560e-01],\n",
       "       [ 7.96255907e-01, -7.20300861e-01],\n",
       "       [ 6.18411105e-01,  6.06793973e-01],\n",
       "       [-5.69096908e-01, -1.87827745e-01],\n",
       "       [-1.04410011e+00, -6.86962166e-01],\n",
       "       [-2.10030504e-01,  1.81673116e-01],\n",
       "       [ 8.34526308e-01, -2.25503708e-01],\n",
       "       [ 3.34759902e-01, -4.75698931e-01],\n",
       "       [-2.80943305e-01, -6.66905294e-02],\n",
       "       [-3.89393021e-02, -1.06348167e-01],\n",
       "       [-3.51856105e-01,  7.10110461e-01],\n",
       "       [-1.09362651e+00,  3.43336797e-01],\n",
       "       [ 1.45135511e+00, -1.28042643e-01],\n",
       "       [-4.28396906e-01, -5.54068773e-01],\n",
       "       [ 1.69335912e+00, -2.02919576e-01],\n",
       "       [-7.60448910e-01, -1.19950920e-01],\n",
       "       [-1.69508903e-01,  9.51906867e-01],\n",
       "       [ 5.54251904e-01,  1.24606240e+00],\n",
       "       [ 1.54663900e-01, -3.12167402e-01],\n",
       "       [ 1.03375751e+00, -9.39295576e-01],\n",
       "       [ 3.04368702e-01, -8.49568603e-02],\n",
       "       [-1.57988572e+00,  2.15112759e-01],\n",
       "       [-3.90126506e-01,  1.68470855e+00],\n",
       "       [ 3.33634302e-01, -2.94443699e-01],\n",
       "       [ 2.29442952e+00, -7.06401766e-01],\n",
       "       [ 8.43531108e-01, -2.32579660e-01],\n",
       "       [-8.73008911e-01, -5.92553288e-01],\n",
       "       [ 1.37779900e-01, -2.95559339e-01],\n",
       "       [-8.24608111e-01, -6.63156462e-01],\n",
       "       [-9.49549712e-01,  9.75631384e-01],\n",
       "       [-4.95932907e-01,  5.62061733e-01],\n",
       "       [ 2.75930233e+00, -1.71245996e+00],\n",
       "       [ 2.96489502e-01, -9.16211377e-02],\n",
       "       [ 1.27649500e-01,  5.61572178e-01],\n",
       "       [-4.98184107e-01, -8.86537688e-01],\n",
       "       [ 7.92486992e-02,  6.12711033e-01],\n",
       "       [ 6.10531905e-01,  1.53707264e-01],\n",
       "       [-1.74011304e-01,  7.43889329e-01],\n",
       "       [-6.16372108e-01,  1.94796080e+00],\n",
       "       [-6.51265709e-01,  8.77536154e-01],\n",
       "       [-1.41104572e+00, -3.75269896e-01],\n",
       "       [ 2.05805352e+00, -9.14450903e-01],\n",
       "       [ 4.68706304e-01, -8.91443875e-01],\n",
       "       [ 6.66811906e-01, -8.56662692e-02],\n",
       "       [-2.78692105e-01,  6.79159437e-01],\n",
       "       [ 1.14181511e+00,  1.40986169e-01],\n",
       "       [-1.02834171e+00, -3.27457216e-01],\n",
       "       [-8.27984911e-01, -2.62386326e-01],\n",
       "       [ 4.83339104e-01, -6.48763190e-01],\n",
       "       [-9.11279312e-01,  6.03840260e-01],\n",
       "       [-7.16550509e-01, -5.84382083e-01],\n",
       "       [-6.22000108e-01,  2.38124986e-01],\n",
       "       [-4.31773706e-01, -5.81009306e-01],\n",
       "       [-8.22356911e-01,  6.74693487e-01],\n",
       "       [ 1.12718231e+00, -3.25906246e-01],\n",
       "       [-1.26809452e+00,  2.11763561e-01],\n",
       "       [-5.92734508e-01, -3.78387160e-01],\n",
       "       [-9.46172912e-01,  2.45202560e-01],\n",
       "       [ 3.41513502e-01, -1.07097023e+00],\n",
       "       [-7.94609025e-02, -1.34848847e+00],\n",
       "       [ 5.44854990e-02, -3.47636667e-01],\n",
       "       [-9.69810512e-01, -4.35039313e-01],\n",
       "       [-8.47120111e-01,  3.82226864e-02],\n",
       "       [-1.71760104e-01,  2.81918791e-01],\n",
       "       [-1.26922012e+00, -2.28339078e-01],\n",
       "       [-1.06436091e+00,  5.38308684e-01],\n",
       "       [-6.34381709e-01, -3.19291329e-01],\n",
       "       [-4.26145706e-01, -5.87438663e-01],\n",
       "       [-7.45816110e-01,  7.90261058e-01],\n",
       "       [-2.60682504e-01,  6.48775347e-01],\n",
       "       [ 1.63370232e+00,  5.66602723e-01],\n",
       "       [ 2.40924072e+00, -6.46692075e-01],\n",
       "       [ 8.17642307e-01,  3.94446492e-01],\n",
       "       [-3.77744906e-01, -3.41522622e-01],\n",
       "       [-1.28722972e+00,  3.09090836e-01],\n",
       "       [-1.28987303e-01, -1.44127377e+00],\n",
       "       [-8.91018511e-01, -3.85279543e-01],\n",
       "       [-1.12626891e+00,  2.63984329e-01],\n",
       "       [-1.38178012e+00,  1.73116196e+00],\n",
       "       [-6.43386509e-01,  2.76969363e-01],\n",
       "       [-7.49192910e-01, -1.39131822e-01],\n",
       "       [-2.84320105e-01, -3.37019475e-02],\n",
       "       [ 5.36242304e-01, -1.30172577e+00],\n",
       "       [-1.79450166e-03, -9.78543219e-01],\n",
       "       [ 1.13281031e+00,  1.86912180e-01],\n",
       "       [ 3.19490953e+00, -9.35297952e-01],\n",
       "       [ 5.86894305e-01, -1.77245714e-01],\n",
       "       [-7.19927310e-01,  5.59814954e-01],\n",
       "       [-3.70991306e-01, -6.48383036e-01],\n",
       "       [ 1.92934300e-01,  3.26204458e-02],\n",
       "       [-8.02096110e-01,  6.01667278e-01],\n",
       "       [-4.02508106e-01, -6.14008841e-01],\n",
       "       [-6.72652109e-01, -2.62195159e-01],\n",
       "       [-2.56180104e-01,  1.72741873e-01],\n",
       "       [ 5.32865504e-01, -3.09738706e-01],\n",
       "       [ 1.09639900e-01, -8.68013801e-01],\n",
       "       [ 1.34217191e+00, -3.09966611e-01],\n",
       "       [-1.03509531e+00, -1.43934483e-01],\n",
       "       [-1.03059291e+00,  4.48655474e-01],\n",
       "       [ 3.49206794e+00,  5.90826656e-01],\n",
       "       [-4.47532107e-01,  6.41064571e-01],\n",
       "       [-1.41104572e+00,  9.01673417e+00],\n",
       "       [ 1.35793031e+00, -1.00020739e+00],\n",
       "       [-3.33846505e-01,  1.26355092e+00],\n",
       "       [ 1.47611831e+00, -1.08740028e+00],\n",
       "       [-2.13407304e-01, -8.04114088e-01],\n",
       "       [-5.97236908e-01, -3.72144021e-01],\n",
       "       [-1.14652971e+00,  4.19814574e+00],\n",
       "       [ 1.67084712e+00, -9.56410951e-01],\n",
       "       [ 1.67309832e+00, -8.95823260e-01],\n",
       "       [ 3.98919103e-01,  1.33517595e+00],\n",
       "       [ 2.87749033e+00, -1.37209662e+00],\n",
       "       [ 3.80909503e-01,  1.96453862e+00],\n",
       "       [ 2.33720232e+00, -1.42451552e+00],\n",
       "       [ 1.01760699e-01,  1.32672901e+00],\n",
       "       [ 1.25398300e-01,  1.09300556e-01],\n",
       "       [ 1.20147191e+00, -1.56107458e+00],\n",
       "       [-1.84141704e-01,  5.25619338e-01],\n",
       "       [ 3.73030302e-01,  2.02759875e-01],\n",
       "       [-4.61039307e-01, -1.06978792e+00],\n",
       "       [ 2.70789839e-03,  8.31982167e-01],\n",
       "       [ 9.74100709e-01, -1.16147802e+00],\n",
       "       [-4.84676907e-01, -4.97344604e-01],\n",
       "       [-3.60860906e-01,  1.32003277e+00],\n",
       "       [-1.37615212e+00,  4.86876203e-01],\n",
       "       [-1.06323531e+00,  5.35236429e-01],\n",
       "       [ 2.62535593e+00, -7.35397381e-01],\n",
       "       [-7.63825710e-01, -1.14139106e-01],\n",
       "       [-7.06420109e-01, -2.09429617e-01],\n",
       "       [-1.21108103e-01,  8.69393055e-01],\n",
       "       [-7.93091310e-01, -4.97446091e-02],\n",
       "       [-7.63825710e-01, -1.14139106e-01],\n",
       "       [-3.81121706e-01, -1.37226890e-01],\n",
       "       [ 8.37510993e-02,  5.58424250e-01],\n",
       "       [-3.73242506e-01,  5.79382202e-01],\n",
       "       [ 7.65864707e-01, -5.34216937e-01],\n",
       "       [ 2.13234312e+00, -1.36747250e+00],\n",
       "       [ 5.04725504e-01, -1.26602321e+00],\n",
       "       [-7.90840110e-01,  2.29089621e-01],\n",
       "       [ 1.15644791e+00, -1.54673887e+00],\n",
       "       [ 6.87072706e-01,  6.31732732e-01],\n",
       "       [ 3.21291913e+00,  4.17037552e-01],\n",
       "       [-7.33434510e-01,  4.52726576e-01],\n",
       "       [ 9.43709509e-01,  1.14754500e+00],\n",
       "       [-7.75081710e-01, -1.23929567e+00],\n",
       "       [ 9.41458309e-01, -8.89801138e-01],\n",
       "       [-9.22535312e-01, -5.14885121e-01],\n",
       "       [-1.35589132e+00,  4.14195282e-01],\n",
       "       [ 1.16545271e+00, -9.56258467e-01],\n",
       "       [-8.58376111e-01,  3.30098196e-01],\n",
       "       [-7.16550509e-01,  1.61635505e+00],\n",
       "       [-1.26134092e+00,  1.03325376e+00],\n",
       "       [-4.28396906e-01,  4.41894081e-01],\n",
       "       [-7.16550509e-01, -7.06645257e-01],\n",
       "       [-3.95754506e-01, -1.17242074e-01],\n",
       "       [-1.09137531e+00,  6.13869725e-01],\n",
       "       [ 7.47462992e-02, -2.31403218e-01],\n",
       "       [-7.32308910e-01,  7.22213523e-01],\n",
       "       [ 2.62721501e-01, -5.02136332e-01],\n",
       "       [ 4.75459904e-01, -1.27166305e+00],\n",
       "       [-4.61039307e-01,  4.98827559e-01],\n",
       "       [-9.20284112e-01,  2.15248065e+00],\n",
       "       [-1.01483451e+00, -3.98909870e-01],\n",
       "       [-4.79048907e-01,  5.31149320e-01],\n",
       "       [-1.09362651e+00, -6.01695617e-01],\n",
       "       [-8.08849711e-01, -1.33620357e+00],\n",
       "       [ 1.46823911e+00, -2.05366292e+00],\n",
       "       [ 1.80591912e+00, -4.99859091e-01],\n",
       "       [ 1.04051111e+00,  7.07572834e-01],\n",
       "       [ 8.32275107e-01, -1.43106581e+00],\n",
       "       [ 3.24629502e-01, -1.19087646e+00],\n",
       "       [-2.21286504e-01, -1.02709553e+00],\n",
       "       [-1.13228903e-01, -1.73622005e-02]])"
      ]
     },
     "execution_count": 35,
     "metadata": {},
     "output_type": "execute_result"
    }
   ],
   "source": [
    "scaler.fit_transform(df[['total_bill', 'tip_rate']])"
   ]
  },
  {
   "attachments": {},
   "cell_type": "markdown",
   "metadata": {},
   "source": [
    "## 二項分布"
   ]
  },
  {
   "cell_type": "code",
   "execution_count": 7,
   "metadata": {},
   "outputs": [
    {
     "data": {
      "text/plain": [
       "<matplotlib.collections.LineCollection at 0x2da69d49b80>"
      ]
     },
     "execution_count": 7,
     "metadata": {},
     "output_type": "execute_result"
    },
    {
     "data": {
      "image/png": "[encoded data removed]",
      "text/plain": [
       "<Figure size 432x288 with 1 Axes>"
      ]
     },
     "metadata": {
      "needs_background": "light"
     },
     "output_type": "display_data"
    }
   ],
   "source": [
    "n = 3\n",
    "x = np.arange(n+1)\n",
    "y = stats.binom(n=3, p=1/6).pmf(x)\n",
    "plt.plot(x, y, 'o')\n",
    "plt.vlines(x, 0, y)"
   ]
  },
  {
   "cell_type": "code",
   "execution_count": 4,
   "metadata": {},
   "outputs": [
    {
     "data": {
      "text/plain": [
       "array([0, 1, 2, 3])"
      ]
     },
     "execution_count": 4,
     "metadata": {},
     "output_type": "execute_result"
    }
   ],
   "source": [
    "x"
   ]
  },
  {
   "cell_type": "code",
   "execution_count": 5,
   "metadata": {},
   "outputs": [
    {
     "data": {
      "text/plain": [
       "array([0.5787037 , 0.34722222, 0.06944444, 0.00462963])"
      ]
     },
     "execution_count": 5,
     "metadata": {},
     "output_type": "execute_result"
    }
   ],
   "source": [
    "y"
   ]
  },
  {
   "attachments": {},
   "cell_type": "markdown",
   "metadata": {},
   "source": [
    "## 二項分布 -> 正規分布"
   ]
  },
  {
   "cell_type": "code",
   "execution_count": 9,
   "metadata": {},
   "outputs": [
    {
     "data": {
      "text/plain": [
       "[<matplotlib.lines.Line2D at 0x2da69fc2ca0>]"
      ]
     },
     "execution_count": 9,
     "metadata": {},
     "output_type": "execute_result"
    },
    {
     "data": {
      "image/png": "[encoded data removed]",
      "text/plain": [
       "<Figure size 432x288 with 1 Axes>"
      ]
     },
     "metadata": {
      "needs_background": "light"
     },
     "output_type": "display_data"
    }
   ],
   "source": [
    "n = 100\n",
    "p = 1/6\n",
    "x = np.arange(n+1)\n",
    "y = stats.binom(n, p).pmf(x)\n",
    "plt.plot(x, y, 'o')"
   ]
  },
  {
   "cell_type": "code",
   "execution_count": 16,
   "metadata": {},
   "outputs": [
    {
     "data": {
      "text/plain": [
       "[<matplotlib.lines.Line2D at 0x2da6a087280>]"
      ]
     },
     "execution_count": 16,
     "metadata": {},
     "output_type": "execute_result"
    },
    {
     "data": {
      "image/png": "[encoded data removed]",
      "text/plain": [
       "<Figure size 432x288 with 1 Axes>"
      ]
     },
     "metadata": {
      "needs_background": "light"
     },
     "output_type": "display_data"
    }
   ],
   "source": [
    "y2 = stats.norm(n*p, np.sqrt(n*p*(1-p))).pdf(x)\n",
    "plt.plot(x, y2)\n",
    "plt.plot(x, y, 'o')"
   ]
  },
  {
   "cell_type": "code",
   "execution_count": 11,
   "metadata": {},
   "outputs": [
    {
     "data": {
      "text/plain": [
       "16.666666666666664"
      ]
     },
     "execution_count": 11,
     "metadata": {},
     "output_type": "execute_result"
    }
   ],
   "source": [
    "# 平均=np\n",
    "stats.binom(n, p).mean()"
   ]
  },
  {
   "cell_type": "code",
   "execution_count": 12,
   "metadata": {},
   "outputs": [
    {
     "data": {
      "text/plain": [
       "16.666666666666664"
      ]
     },
     "execution_count": 12,
     "metadata": {},
     "output_type": "execute_result"
    }
   ],
   "source": [
    "n*p"
   ]
  },
  {
   "cell_type": "code",
   "execution_count": 13,
   "metadata": {},
   "outputs": [
    {
     "data": {
      "text/plain": [
       "13.888888888888888"
      ]
     },
     "execution_count": 13,
     "metadata": {},
     "output_type": "execute_result"
    }
   ],
   "source": [
    "stats.binom(n, p).var()"
   ]
  },
  {
   "cell_type": "code",
   "execution_count": 14,
   "metadata": {},
   "outputs": [
    {
     "data": {
      "text/plain": [
       "13.888888888888888"
      ]
     },
     "execution_count": 14,
     "metadata": {},
     "output_type": "execute_result"
    }
   ],
   "source": [
    "n*p*(1-p)"
   ]
  },
  {
   "cell_type": "markdown",
   "metadata": {},
   "source": [
    "## 標本分布"
   ]
  },
  {
   "cell_type": "code",
   "execution_count": 5,
   "metadata": {},
   "outputs": [],
   "source": [
    "m = 100\n",
    "n = 50\n",
    "column = 'tip'\n",
    "sample_means = []\n",
    "for i in range(m):\n",
    "    sampled_df = df.sample(n)\n",
    "    sample_mean = sampled_df[column].mean()\n",
    "    sample_means.append(sample_mean)"
   ]
  },
  {
   "cell_type": "code",
   "execution_count": 6,
   "metadata": {},
   "outputs": [
    {
     "data": {
      "text/plain": [
       "[3.0439999999999996,\n",
       " 3.338,\n",
       " 3.2285999999999997,\n",
       " 3.2314000000000003,\n",
       " 2.8469999999999995,\n",
       " 2.8418000000000005,\n",
       " 3.29,\n",
       " 2.9322000000000004,\n",
       " 3.1123999999999996,\n",
       " 2.8401999999999994,\n",
       " 2.9808000000000003,\n",
       " 3.2216000000000005,\n",
       " 3.1145999999999994,\n",
       " 3.1197999999999992,\n",
       " 3.1606,\n",
       " 3.3207999999999993,\n",
       " 3.2965999999999998,\n",
       " 3.0334,\n",
       " 2.7848000000000006,\n",
       " 2.9,\n",
       " 3.0176000000000003,\n",
       " 3.2464,\n",
       " 3.0776,\n",
       " 3.0443999999999987,\n",
       " 2.978,\n",
       " 2.8455999999999992,\n",
       " 2.8510000000000004,\n",
       " 2.9755999999999996,\n",
       " 2.7128,\n",
       " 3.0109999999999997,\n",
       " 3.4464000000000006,\n",
       " 2.9671999999999996,\n",
       " 2.9792000000000005,\n",
       " 3.2420000000000004,\n",
       " 3.0504000000000002,\n",
       " 2.8232,\n",
       " 2.6385999999999994,\n",
       " 3.071600000000001,\n",
       " 2.9148,\n",
       " 3.2828,\n",
       " 2.7720000000000002,\n",
       " 3.196199999999999,\n",
       " 2.9619999999999997,\n",
       " 2.9578,\n",
       " 3.1012000000000004,\n",
       " 2.9758,\n",
       " 2.7385999999999995,\n",
       " 3.0722000000000005,\n",
       " 2.8754000000000004,\n",
       " 3.2696000000000005,\n",
       " 3.0128000000000004,\n",
       " 2.9252,\n",
       " 3.0117999999999996,\n",
       " 3.1815999999999995,\n",
       " 3.071999999999999,\n",
       " 2.7434000000000003,\n",
       " 2.7421999999999995,\n",
       " 2.725199999999999,\n",
       " 2.9294000000000007,\n",
       " 2.8814000000000006,\n",
       " 3.121199999999999,\n",
       " 2.6926,\n",
       " 2.9085999999999994,\n",
       " 3.1686,\n",
       " 2.8814000000000006,\n",
       " 2.833999999999999,\n",
       " 3.075000000000001,\n",
       " 3.0846000000000005,\n",
       " 2.9871999999999996,\n",
       " 3.1134000000000004,\n",
       " 3.041599999999999,\n",
       " 3.1189999999999998,\n",
       " 3.0811999999999995,\n",
       " 2.9684000000000004,\n",
       " 3.0654000000000003,\n",
       " 3.1096,\n",
       " 3.1266,\n",
       " 2.6798,\n",
       " 3.0367999999999995,\n",
       " 2.9316000000000004,\n",
       " 2.974,\n",
       " 2.5771999999999995,\n",
       " 3.0180000000000002,\n",
       " 3.008,\n",
       " 3.1340000000000003,\n",
       " 2.94,\n",
       " 2.948400000000001,\n",
       " 3.2377999999999996,\n",
       " 3.0114000000000005,\n",
       " 2.8502000000000005,\n",
       " 2.8764,\n",
       " 2.7586,\n",
       " 2.961,\n",
       " 3.2678,\n",
       " 3.198,\n",
       " 3.2325999999999993,\n",
       " 2.7969999999999997,\n",
       " 2.8313999999999986,\n",
       " 3.1852,\n",
       " 3.278]"
      ]
     },
     "execution_count": 6,
     "metadata": {},
     "output_type": "execute_result"
    }
   ],
   "source": [
    "sample_means"
   ]
  },
  {
   "cell_type": "code",
   "execution_count": 12,
   "metadata": {},
   "outputs": [
    {
     "data": {
      "text/plain": [
       "3.010722"
      ]
     },
     "execution_count": 12,
     "metadata": {},
     "output_type": "execute_result"
    }
   ],
   "source": [
    "# 平均\n",
    "np.mean(sample_means)"
   ]
  },
  {
   "cell_type": "code",
   "execution_count": 18,
   "metadata": {},
   "outputs": [
    {
     "data": {
      "text/plain": [
       "2.9982786885245902"
      ]
     },
     "execution_count": 18,
     "metadata": {},
     "output_type": "execute_result"
    }
   ],
   "source": [
    "# 母平均\n",
    "df[column].mean()"
   ]
  },
  {
   "cell_type": "code",
   "execution_count": 19,
   "metadata": {},
   "outputs": [
    {
     "data": {
      "text/plain": [
       "0.030711504716000003"
      ]
     },
     "execution_count": 19,
     "metadata": {},
     "output_type": "execute_result"
    }
   ],
   "source": [
    "# 分散\n",
    "np.var(sample_means)"
   ]
  },
  {
   "cell_type": "code",
   "execution_count": 20,
   "metadata": {},
   "outputs": [
    {
     "data": {
      "text/plain": [
       "0.03813217024993285"
      ]
     },
     "execution_count": 20,
     "metadata": {},
     "output_type": "execute_result"
    }
   ],
   "source": [
    "# 母分散/n\n",
    "np.var(df[column])/n"
   ]
  },
  {
   "cell_type": "code",
   "execution_count": 11,
   "metadata": {},
   "outputs": [
    {
     "data": {
      "text/plain": [
       "<seaborn.axisgrid.FacetGrid at 0x17c85dd11c0>"
      ]
     },
     "execution_count": 11,
     "metadata": {},
     "output_type": "execute_result"
    },
    {
     "data": {
      "image/png": "[encoded data removed]",
      "text/plain": [
       "<Figure size 360x360 with 1 Axes>"
      ]
     },
     "metadata": {
      "needs_background": "light"
     },
     "output_type": "display_data"
    }
   ],
   "source": [
    "sns.displot(sample_means)"
   ]
  },
  {
   "cell_type": "markdown",
   "metadata": {},
   "source": [
    "## 不偏分散"
   ]
  },
  {
   "cell_type": "code",
   "execution_count": 21,
   "metadata": {},
   "outputs": [
    {
     "data": {
      "text/plain": [
       "1.914454638062471"
      ]
     },
     "execution_count": 21,
     "metadata": {},
     "output_type": "execute_result"
    }
   ],
   "source": [
    "stats.tvar(df['tip'])"
   ]
  },
  {
   "cell_type": "code",
   "execution_count": 23,
   "metadata": {},
   "outputs": [
    {
     "data": {
      "text/plain": [
       "1.9144546380624725"
      ]
     },
     "execution_count": 23,
     "metadata": {},
     "output_type": "execute_result"
    }
   ],
   "source": [
    "np.var(df['tip'], ddof=1)"
   ]
  },
  {
   "cell_type": "code",
   "execution_count": 24,
   "metadata": {},
   "outputs": [
    {
     "data": {
      "text/plain": [
       "1.3836381890011822"
      ]
     },
     "execution_count": 24,
     "metadata": {},
     "output_type": "execute_result"
    }
   ],
   "source": [
    "# 不偏分散の平方根\n",
    "np.sqrt(stats.tvar(df['tip']))"
   ]
  },
  {
   "cell_type": "code",
   "execution_count": 25,
   "metadata": {},
   "outputs": [
    {
     "data": {
      "text/plain": [
       "1.3836381890011822"
      ]
     },
     "execution_count": 25,
     "metadata": {},
     "output_type": "execute_result"
    }
   ],
   "source": [
    "stats.tstd(df['tip'])"
   ]
  },
  {
   "cell_type": "code",
   "execution_count": 27,
   "metadata": {},
   "outputs": [
    {
     "data": {
      "text/plain": [
       "1.3836381890011826"
      ]
     },
     "execution_count": 27,
     "metadata": {},
     "output_type": "execute_result"
    }
   ],
   "source": [
    "np.std(df['tip'], ddof=1)"
   ]
  },
  {
   "cell_type": "markdown",
   "metadata": {},
   "source": [
    "## 不偏分散の不偏性"
   ]
  },
  {
   "cell_type": "code",
   "execution_count": 57,
   "metadata": {},
   "outputs": [],
   "source": [
    "m = 1000\n",
    "n = 50\n",
    "column = 'tip'\n",
    "sample_vars = []\n",
    "sample_uvars = []\n",
    "for i in range(m):\n",
    "    sampled_df = df.sample(n)\n",
    "    sample_var = np.var(sampled_df[column])\n",
    "    sample_uvar = stats.tvar(sampled_df[column])\n",
    "    sample_vars.append(sample_var)\n",
    "    sample_uvars.append(sample_uvar)"
   ]
  },
  {
   "cell_type": "code",
   "execution_count": 58,
   "metadata": {},
   "outputs": [
    {
     "data": {
      "text/plain": [
       "1.9066085124966428"
      ]
     },
     "execution_count": 58,
     "metadata": {},
     "output_type": "execute_result"
    }
   ],
   "source": [
    "# 母分散\n",
    "np.var(df[column])"
   ]
  },
  {
   "cell_type": "code",
   "execution_count": 59,
   "metadata": {},
   "outputs": [
    {
     "data": {
      "text/plain": [
       "1.84853941816"
      ]
     },
     "execution_count": 59,
     "metadata": {},
     "output_type": "execute_result"
    }
   ],
   "source": [
    "# 標本の分散の平均\n",
    "np.mean(sample_vars)"
   ]
  },
  {
   "cell_type": "code",
   "execution_count": 60,
   "metadata": {},
   "outputs": [
    {
     "data": {
      "text/plain": [
       "1.886264712408163"
      ]
     },
     "execution_count": 60,
     "metadata": {},
     "output_type": "execute_result"
    }
   ],
   "source": [
    "# 標本の不偏分散の平均\n",
    "# (不偏分散の方が母分散に近い)\n",
    "np.mean(sample_uvars)"
   ]
  },
  {
   "cell_type": "markdown",
   "metadata": {},
   "source": [
    "## 比率の区間推定"
   ]
  },
  {
   "cell_type": "code",
   "execution_count": 83,
   "metadata": {},
   "outputs": [
    {
     "data": {
      "text/plain": [
       "(570.0, 630.0)"
      ]
     },
     "execution_count": 83,
     "metadata": {},
     "output_type": "execute_result"
    }
   ],
   "source": [
    "# 母比率のalpha信頼区間の計算\n",
    "# alpha (信頼区間: 0.95, 0.99 など)\n",
    "# n:サンプルサイズ, 試行回数\n",
    "# p:標本比率\n",
    "# 標本比率p, 試行回数n のときの信頼区間を計算\n",
    "stats.binom.interval(alpha=0.95, n=1000, p=0.6)"
   ]
  },
  {
   "cell_type": "markdown",
   "metadata": {},
   "source": [
    "## "
   ]
  },
  {
   "cell_type": "code",
   "execution_count": 84,
   "metadata": {},
   "outputs": [],
   "source": [
    "# 母比率の区間推定の正解率の実験\n",
    "m = 100\n",
    "n = 50\n",
    "alpha=0.95\n",
    "population_male_ratio = len(df[df['sex'] == 'Male']) / len(df)\n",
    "results = []\n",
    "for _ in range(m):\n",
    "    sampled_df = df.sample(n)\n",
    "    male_ratio = len(sampled_df[sampled_df['sex'] == 'Male']) / n\n",
    "    min_num, max_num = stats.binom.interval(alpha, n, p=male_ratio)\n",
    "    min_ratio = min_num / n\n",
    "    max_ratio = max_num / n\n",
    "    correct = min_ratio < population_male_ratio < max_ratio\n",
    "    results.append({'min':min_ratio, 'max':max_ratio, 'correct':correct})"
   ]
  },
  {
   "cell_type": "code",
   "execution_count": 85,
   "metadata": {},
   "outputs": [],
   "source": [
    "result_df = pd.DataFrame(results)"
   ]
  },
  {
   "cell_type": "code",
   "execution_count": 86,
   "metadata": {},
   "outputs": [
    {
     "data": {
      "text/plain": [
       "True     94\n",
       "False     6\n",
       "Name: correct, dtype: int64"
      ]
     },
     "execution_count": 86,
     "metadata": {},
     "output_type": "execute_result"
    }
   ],
   "source": [
    "result_df['correct'].value_counts()"
   ]
  },
  {
   "cell_type": "markdown",
   "metadata": {},
   "source": [
    "# 平均の区間推定"
   ]
  },
  {
   "cell_type": "code",
   "execution_count": 87,
   "metadata": {},
   "outputs": [
    {
     "data": {
      "text/plain": [
       "(-1.959963984540054, 1.959963984540054)"
      ]
     },
     "execution_count": 87,
     "metadata": {},
     "output_type": "execute_result"
    }
   ],
   "source": [
    "# 母平均のalpha信頼区間の計算\n",
    "# alpha (信頼区間: 0.95, 0.99 など)\n",
    "# loc:標本平均\n",
    "# scale:標本分布の標準偏差の代わりに、不偏分散の平方根を使用\n",
    "stats.norm.interval(alpha=0.95, loc=0, scale=1)"
   ]
  },
  {
   "cell_type": "code",
   "execution_count": 118,
   "metadata": {},
   "outputs": [],
   "source": [
    "# 母比率の区間推定の正解率の実験\n",
    "m = 100\n",
    "n = 50\n",
    "alpha=0.95\n",
    "column = 'tip'\n",
    "population_mean = df[column].mean()\n",
    "results = []\n",
    "for _ in range(m):\n",
    "    # 母集団dfから標本を取得\n",
    "    sampled_df = df.sample(n)\n",
    "    # 標本平均を計算\n",
    "    sampled_mean = sampled_df[column].mean()\n",
    "    # 標本の不偏分散を計算\n",
    "    sampled_var = stats.tvar(sampled_df[column])\n",
    "    # 母平均のalpha信頼区間を計算\n",
    "    min_mean, max_mean = stats.norm.interval(alpha, loc=sampled_mean, scale=np.sqrt(sampled_var/n))\n",
    "    # 母平均がalpha信頼区間に納まっているか判定\n",
    "    correct = min_mean < population_mean < max_mean\n",
    "    results.append({'min':min_mean, 'max':max_mean, 'correct':correct})"
   ]
  },
  {
   "cell_type": "code",
   "execution_count": 119,
   "metadata": {},
   "outputs": [],
   "source": [
    "result_df = pd.DataFrame(results)"
   ]
  },
  {
   "cell_type": "code",
   "execution_count": 120,
   "metadata": {},
   "outputs": [
    {
     "data": {
      "text/plain": [
       "True     93\n",
       "False     7\n",
       "Name: correct, dtype: int64"
      ]
     },
     "execution_count": 120,
     "metadata": {},
     "output_type": "execute_result"
    }
   ],
   "source": [
    "result_df['correct'].value_counts()"
   ]
  },
  {
   "cell_type": "markdown",
   "metadata": {},
   "source": [
    "# t分布"
   ]
  },
  {
   "cell_type": "code",
   "execution_count": 125,
   "metadata": {},
   "outputs": [
    {
     "data": {
      "text/plain": [
       "<matplotlib.legend.Legend at 0x17c88291d30>"
      ]
     },
     "execution_count": 125,
     "metadata": {},
     "output_type": "execute_result"
    },
    {
     "data": {
      "image/png": "[encoded data removed]",
      "text/plain": [
       "<Figure size 432x288 with 1 Axes>"
      ]
     },
     "metadata": {
      "needs_background": "light"
     },
     "output_type": "display_data"
    }
   ],
   "source": [
    "x = np.linspace(-3, 3, 100)\n",
    "z = stats.norm.pdf(x)\n",
    "for dof in range(1, 12, 5):\n",
    "    t = stats.t(dof).pdf(x)\n",
    "    plt.plot(x, t, label=f\"t dist(dof={dof})\")\n",
    "plt.plot(x, z, label=\"std norm\", linewidth=3)\n",
    "plt.legend()"
   ]
  },
  {
   "cell_type": "markdown",
   "metadata": {},
   "source": [
    "## 平均の区間推定(正規分布 vs t分布)"
   ]
  },
  {
   "cell_type": "code",
   "execution_count": 126,
   "metadata": {},
   "outputs": [],
   "source": [
    "n = 50\n",
    "alpha=0.95\n",
    "column = 'tip'\n",
    "\n",
    "# 母集団dfから標本を取得\n",
    "sampled_df = df.sample(n)\n",
    "# 標本平均を計算\n",
    "sampled_mean = sampled_df[column].mean()\n",
    "# 標本の不偏分散を計算\n",
    "sampled_var = stats.tvar(sampled_df[column])\n",
    "# 母平均のalpha信頼区間を計算(正規分布)\n",
    "min_val_norm, min_val_norm = stats.norm.interval(alpha, loc=sampled_mean, scale=np.sqrt(sampled_var/n))\n",
    "# 母平均のalpha信頼区間を計算(t分布)\n",
    "min_val_t, min_val_t = stats.t.interval(alpha, loc=sampled_mean, scale=np.sqrt(sampled_var/n), df=n-1)"
   ]
  },
  {
   "cell_type": "code",
   "execution_count": 127,
   "metadata": {},
   "outputs": [
    {
     "name": "stdout",
     "output_type": "stream",
     "text": [
      "3.1986984022144553 3.1986984022144553\n"
     ]
    }
   ],
   "source": [
    "print(min_val_norm, min_val_norm)"
   ]
  },
  {
   "cell_type": "code",
   "execution_count": 129,
   "metadata": {},
   "outputs": [
    {
     "name": "stdout",
     "output_type": "stream",
     "text": [
      "3.2069780240433423 3.2069780240433423\n"
     ]
    }
   ],
   "source": [
    "# 正規分布と比べて、t分布のほうが裾野が広い\n",
    "print(min_val_t, min_val_t)"
   ]
  },
  {
   "attachments": {},
   "cell_type": "markdown",
   "metadata": {},
   "source": [
    "## 比率差の検定(Z-test)"
   ]
  },
  {
   "cell_type": "code",
   "execution_count": 24,
   "metadata": {},
   "outputs": [
    {
     "data": {
      "text/plain": [
       "(-0.3840618481549573, 0.35046630388746547)"
      ]
     },
     "execution_count": 24,
     "metadata": {},
     "output_type": "execute_result"
    }
   ],
   "source": [
    "\n",
    "proportions_ztest([30, 33], [1000, 1000] , alternative='smaller')"
   ]
  },
  {
   "cell_type": "code",
   "execution_count": null,
   "metadata": {},
   "outputs": [],
   "source": []
  }
 ],
 "metadata": {
  "kernelspec": {
   "display_name": "Python 3.8.5 ('py37')",
   "language": "python",
   "name": "python3"
  },
  "language_info": {
   "codemirror_mode": {
    "name": "ipython",
    "version": 3
   },
   "file_extension": ".py",
   "mimetype": "text/x-python",
   "name": "python",
   "nbconvert_exporter": "python",
   "pygments_lexer": "ipython3",
   "version": "3.8.5"
  },
  "orig_nbformat": 4,
  "vscode": {
   "interpreter": {
    "hash": "5da9aad921784b8644505a50d90de01e1bbce0d7772509339b5714d1cab40d5a"
   }
  }
 },
 "nbformat": 4,
 "nbformat_minor": 2
}
