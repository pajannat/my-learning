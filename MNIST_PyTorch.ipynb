{
 "cells": [
  {
   "cell_type": "code",
   "execution_count": 18,
   "metadata": {},
   "outputs": [],
   "source": [
    "# 以下サイトのコードを実行し、PyTorchを試してみる\n",
    "# 【PyTorch】MNISTのサンプルプログラム\n",
    "# https://imagingsolution.net/deep-learning/pytorch/pytorch_mnist_sample_program/"
   ]
  },
  {
   "attachments": {},
   "cell_type": "markdown",
   "metadata": {},
   "source": [
    "# 使用モジュールの定義"
   ]
  },
  {
   "cell_type": "code",
   "execution_count": 3,
   "metadata": {},
   "outputs": [],
   "source": [
    "import torch\n",
    "import torch.nn as nn\n",
    "import torch.nn.functional as F\n",
    "from torchvision import datasets, transforms"
   ]
  },
  {
   "attachments": {},
   "cell_type": "markdown",
   "metadata": {},
   "source": [
    "# パラメータの設定"
   ]
  },
  {
   "cell_type": "code",
   "execution_count": 6,
   "metadata": {},
   "outputs": [],
   "source": [
    "#----------------------------------------------------------\n",
    "# ハイパーパラメータなどの設定値\n",
    "num_epochs = 10         # 学習を繰り返す回数\n",
    "num_batch = 100         # 一度に処理する画像の枚数\n",
    "learning_rate = 0.001   # 学習率\n",
    "image_size = 28*28      # 画像の画素数(幅x高さ)\n",
    "\n",
    "# GPU(CUDA)が使えるかどうか？\n",
    "device = 'cuda' if torch.cuda.is_available() else 'cpu'"
   ]
  },
  {
   "attachments": {},
   "cell_type": "markdown",
   "metadata": {},
   "source": [
    "# データセット、データローダーの作成"
   ]
  },
  {
   "cell_type": "code",
   "execution_count": 8,
   "metadata": {},
   "outputs": [
    {
     "name": "stdout",
     "output_type": "stream",
     "text": [
      "Downloading http://yann.lecun.com/exdb/mnist/train-images-idx3-ubyte.gz\n",
      "Downloading http://yann.lecun.com/exdb/mnist/train-images-idx3-ubyte.gz to ./data\\MNIST\\raw\\train-images-idx3-ubyte.gz\n"
     ]
    },
    {
     "name": "stderr",
     "output_type": "stream",
     "text": [
      "100%|██████████| 9912422/9912422 [00:00<00:00, 18428966.36it/s]\n"
     ]
    },
    {
     "name": "stdout",
     "output_type": "stream",
     "text": [
      "Extracting ./data\\MNIST\\raw\\train-images-idx3-ubyte.gz to ./data\\MNIST\\raw\n"
     ]
    },
    {
     "name": "stderr",
     "output_type": "stream",
     "text": [
      "100%|██████████| 28881/28881 [00:00<00:00, 14432943.38it/s]\n",
      "  0%|          | 0/1648877 [00:00<?, ?it/s]"
     ]
    },
    {
     "name": "stdout",
     "output_type": "stream",
     "text": [
      "\n",
      "Downloading http://yann.lecun.com/exdb/mnist/train-labels-idx1-ubyte.gz\n",
      "Downloading http://yann.lecun.com/exdb/mnist/train-labels-idx1-ubyte.gz to ./data\\MNIST\\raw\\train-labels-idx1-ubyte.gz\n",
      "Extracting ./data\\MNIST\\raw\\train-labels-idx1-ubyte.gz to ./data\\MNIST\\raw\n",
      "\n",
      "Downloading http://yann.lecun.com/exdb/mnist/t10k-images-idx3-ubyte.gz\n",
      "Downloading http://yann.lecun.com/exdb/mnist/t10k-images-idx3-ubyte.gz to ./data\\MNIST\\raw\\t10k-images-idx3-ubyte.gz\n"
     ]
    },
    {
     "name": "stderr",
     "output_type": "stream",
     "text": [
      "100%|██████████| 1648877/1648877 [00:00<00:00, 24382122.07it/s]\n",
      "100%|██████████| 4542/4542 [00:00<00:00, 4542329.22it/s]\n"
     ]
    },
    {
     "name": "stdout",
     "output_type": "stream",
     "text": [
      "Extracting ./data\\MNIST\\raw\\t10k-images-idx3-ubyte.gz to ./data\\MNIST\\raw\n",
      "\n",
      "Downloading http://yann.lecun.com/exdb/mnist/t10k-labels-idx1-ubyte.gz\n",
      "Downloading http://yann.lecun.com/exdb/mnist/t10k-labels-idx1-ubyte.gz to ./data\\MNIST\\raw\\t10k-labels-idx1-ubyte.gz\n",
      "Extracting ./data\\MNIST\\raw\\t10k-labels-idx1-ubyte.gz to ./data\\MNIST\\raw\n",
      "\n"
     ]
    }
   ],
   "source": [
    "#----------------------------------------------------------\n",
    "# 学習用／評価用のデータセットの作成\n",
    "\n",
    "# 変換方法の指定\n",
    "transform = transforms.Compose([\n",
    "    transforms.ToTensor()\n",
    "    ])\n",
    "\n",
    "# MNISTデータの取得\n",
    "# https://pytorch.org/vision/stable/generated/torchvision.datasets.MNIST.html#torchvision.datasets.MNIST\n",
    "# 学習用\n",
    "train_dataset = datasets.MNIST(\n",
    "    './data',               # データの保存先\n",
    "    train = True,           # 学習用データを取得する\n",
    "    download = True,        # データが無い時にダウンロードする\n",
    "    transform = transform   # テンソルへの変換など\n",
    "    )\n",
    "# 評価用\n",
    "test_dataset = datasets.MNIST(\n",
    "    './data', \n",
    "    train = False,\n",
    "    transform = transform\n",
    "    )\n",
    "\n",
    "# データローダー\n",
    "train_dataloader = torch.utils.data.DataLoader(\n",
    "    train_dataset,\n",
    "    batch_size = num_batch,\n",
    "    shuffle = True)\n",
    "test_dataloader = torch.utils.data.DataLoader(\n",
    "    test_dataset,     \n",
    "    batch_size = num_batch,\n",
    "    shuffle = True)"
   ]
  },
  {
   "attachments": {},
   "cell_type": "markdown",
   "metadata": {},
   "source": [
    "# ニューラルネットワークの作成"
   ]
  },
  {
   "cell_type": "code",
   "execution_count": 9,
   "metadata": {},
   "outputs": [],
   "source": [
    "#----------------------------------------------------------\n",
    "# ニューラルネットワークモデルの定義\n",
    "class Net(nn.Module):\n",
    "    def __init__(self, input_size, output_size):\n",
    "        super(Net, self).__init__()\n",
    "\n",
    "        # 各クラスのインスタンス（入出力サイズなどの設定）\n",
    "        self.fc1 = nn.Linear(input_size, 100)\n",
    "        self.fc2 = nn.Linear(100, output_size)\n",
    "\n",
    "    def forward(self, x):\n",
    "        # 順伝播の設定（インスタンスしたクラスの特殊メソッド(__call__)を実行）\n",
    "        x = self.fc1(x)\n",
    "        x = torch.sigmoid(x)\n",
    "        x = self.fc2(x)\n",
    "        return F.log_softmax(x, dim=1)\n",
    "\n",
    "#----------------------------------------------------------\n",
    "# ニューラルネットワークの生成\n",
    "model = Net(image_size, 10).to(device)"
   ]
  },
  {
   "attachments": {},
   "cell_type": "markdown",
   "metadata": {},
   "source": [
    "# 損失関数の定義"
   ]
  },
  {
   "cell_type": "code",
   "execution_count": 11,
   "metadata": {},
   "outputs": [],
   "source": [
    "criterion = nn.CrossEntropyLoss() "
   ]
  },
  {
   "attachments": {},
   "cell_type": "markdown",
   "metadata": {},
   "source": [
    "# 最適化手法の設定"
   ]
  },
  {
   "cell_type": "code",
   "execution_count": 12,
   "metadata": {},
   "outputs": [],
   "source": [
    "optimizer = torch.optim.Adam(model.parameters(), lr = learning_rate) "
   ]
  },
  {
   "attachments": {},
   "cell_type": "markdown",
   "metadata": {},
   "source": [
    "# 学習"
   ]
  },
  {
   "cell_type": "code",
   "execution_count": 13,
   "metadata": {},
   "outputs": [
    {
     "name": "stdout",
     "output_type": "stream",
     "text": [
      "Epoch: 1/10, Loss: 0.67078857421875\n",
      "Epoch: 2/10, Loss: 0.2695525105794271\n",
      "Epoch: 3/10, Loss: 0.21237125396728515\n",
      "Epoch: 4/10, Loss: 0.17755279541015626\n",
      "Epoch: 5/10, Loss: 0.1519201914469401\n",
      "Epoch: 6/10, Loss: 0.13206377665201824\n",
      "Epoch: 7/10, Loss: 0.11616589864095052\n",
      "Epoch: 8/10, Loss: 0.103182004292806\n",
      "Epoch: 9/10, Loss: 0.09212973912556967\n",
      "Epoch: 10/10, Loss: 0.08322324752807617\n"
     ]
    }
   ],
   "source": [
    "# 学習\n",
    "model.train()  # モデルを訓練モードにする\n",
    "\n",
    "for epoch in range(num_epochs): # 学習を繰り返し行う\n",
    "    loss_sum = 0\n",
    "\n",
    "    for inputs, labels in train_dataloader:\n",
    "\n",
    "        # GPUが使えるならGPUにデータを送る\n",
    "        inputs = inputs.to(device)\n",
    "        labels = labels.to(device)\n",
    "\n",
    "        # optimizerを初期化\n",
    "        optimizer.zero_grad()\n",
    "\n",
    "        # ニューラルネットワークの処理を行う\n",
    "        inputs = inputs.view(-1, image_size) # 画像データ部分を一次元へ並び変える\n",
    "        outputs = model(inputs)\n",
    "\n",
    "        # 損失(出力とラベルとの誤差)の計算\n",
    "        loss = criterion(outputs, labels)\n",
    "        loss_sum += loss\n",
    "\n",
    "        # 勾配の計算\n",
    "        loss.backward()\n",
    "\n",
    "        # 重みの更新\n",
    "        optimizer.step()\n",
    "\n",
    "    # 学習状況の表示\n",
    "    print(f\"Epoch: {epoch+1}/{num_epochs}, Loss: {loss_sum.item() / len(train_dataloader)}\")\n",
    "\n",
    "    # モデルの重みの保存\n",
    "    torch.save(model.state_dict(), 'model_weights.pth')"
   ]
  },
  {
   "attachments": {},
   "cell_type": "markdown",
   "metadata": {},
   "source": [
    "# 評価"
   ]
  },
  {
   "cell_type": "code",
   "execution_count": 14,
   "metadata": {},
   "outputs": [
    {
     "name": "stdout",
     "output_type": "stream",
     "text": [
      "Loss: 0.10413240432739258, Accuracy: 96.88% (9688/10000)\n"
     ]
    }
   ],
   "source": [
    "#----------------------------------------------------------\n",
    "# 評価\n",
    "model.eval()  # モデルを評価モードにする\n",
    "\n",
    "loss_sum = 0\n",
    "correct = 0\n",
    "\n",
    "with torch.no_grad():\n",
    "    for inputs, labels in test_dataloader:\n",
    "\n",
    "        # GPUが使えるならGPUにデータを送る\n",
    "        inputs = inputs.to(device)\n",
    "        labels = labels.to(device)\n",
    "\n",
    "        # ニューラルネットワークの処理を行う\n",
    "        inputs = inputs.view(-1, image_size) # 画像データ部分を一次元へ並び変える\n",
    "        outputs = model(inputs)\n",
    "\n",
    "        # 損失(出力とラベルとの誤差)の計算\n",
    "        loss_sum += criterion(outputs, labels)\n",
    "\n",
    "        # 正解の値を取得\n",
    "        pred = outputs.argmax(1)\n",
    "        # 正解数をカウント\n",
    "        correct += pred.eq(labels.view_as(pred)).sum().item()\n",
    "\n",
    "print(f\"Loss: {loss_sum.item() / len(test_dataloader)}, Accuracy: {100*correct/len(test_dataset)}% ({correct}/{len(test_dataset)})\")"
   ]
  },
  {
   "cell_type": "code",
   "execution_count": null,
   "metadata": {},
   "outputs": [],
   "source": []
  }
 ],
 "metadata": {
  "kernelspec": {
   "display_name": "py37",
   "language": "python",
   "name": "python3"
  },
  "language_info": {
   "codemirror_mode": {
    "name": "ipython",
    "version": 3
   },
   "file_extension": ".py",
   "mimetype": "text/x-python",
   "name": "python",
   "nbconvert_exporter": "python",
   "pygments_lexer": "ipython3",
   "version": "3.8.5"
  },
  "orig_nbformat": 4,
  "vscode": {
   "interpreter": {
    "hash": "5da9aad921784b8644505a50d90de01e1bbce0d7772509339b5714d1cab40d5a"
   }
  }
 },
 "nbformat": 4,
 "nbformat_minor": 2
}
