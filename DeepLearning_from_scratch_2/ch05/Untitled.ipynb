{
 "cells": [
  {
   "cell_type": "code",
   "execution_count": 1,
   "metadata": {},
   "outputs": [],
   "source": [
    "import numpy as np\n",
    "x = np.random.randn(10, 15, 2)"
   ]
  },
  {
   "cell_type": "code",
   "execution_count": 3,
   "metadata": {},
   "outputs": [
    {
     "data": {
      "text/plain": [
       "(10, 15, 2)"
      ]
     },
     "execution_count": 3,
     "metadata": {},
     "output_type": "execute_result"
    }
   ],
   "source": [
    "x.shape"
   ]
  },
  {
   "cell_type": "code",
   "execution_count": 7,
   "metadata": {},
   "outputs": [
    {
     "data": {
      "text/plain": [
       "(2, 5)"
      ]
     },
     "execution_count": 7,
     "metadata": {},
     "output_type": "execute_result"
    }
   ],
   "source": [
    "Wx = np.random.randn(2, 5)\n",
    "Wx.shape"
   ]
  },
  {
   "cell_type": "code",
   "execution_count": 6,
   "metadata": {},
   "outputs": [
    {
     "data": {
      "text/plain": [
       "(10, 15, 5)"
      ]
     },
     "execution_count": 6,
     "metadata": {},
     "output_type": "execute_result"
    }
   ],
   "source": [
    "res = np.dot(x, Wx)\n",
    "res.shape"
   ]
  },
  {
   "cell_type": "code",
   "execution_count": 8,
   "metadata": {},
   "outputs": [
    {
     "data": {
      "text/plain": [
       "array([[[-1.48135376e+00,  8.90160940e-02],\n",
       "        [ 4.93647091e-01,  1.67745394e+00],\n",
       "        [ 6.55700395e-01, -6.98219375e-01],\n",
       "        [-1.92092137e-01,  2.32354200e-01],\n",
       "        [ 9.80914866e-02,  1.64164426e+00],\n",
       "        [-9.58109264e-01, -1.91406293e-01],\n",
       "        [-1.20248183e+00,  3.63440898e-01],\n",
       "        [-1.50929994e+00, -1.35445590e-02],\n",
       "        [ 1.90085709e+00,  1.34103058e+00],\n",
       "        [-5.12589131e-01, -7.39692790e-02],\n",
       "        [ 1.44074764e-02,  6.40624397e-01],\n",
       "        [-4.20432563e-01,  4.76984416e-01],\n",
       "        [ 1.94158616e+00,  4.01681421e-01],\n",
       "        [ 4.88638293e-01,  9.30601977e-01],\n",
       "        [ 9.05745365e-01, -6.37821511e-01]],\n",
       "\n",
       "       [[ 1.71651706e-01,  1.01921007e+00],\n",
       "        [ 5.11352889e-01, -9.29538257e-02],\n",
       "        [ 3.31871664e-01, -1.50428491e+00],\n",
       "        [ 1.14550066e+00, -1.20226549e+00],\n",
       "        [-2.19506186e+00,  1.50296413e+00],\n",
       "        [ 3.48118719e-01, -1.31768439e+00],\n",
       "        [-5.02273070e-01,  1.11685571e+00],\n",
       "        [ 2.07888824e-01,  1.27113500e+00],\n",
       "        [-1.75348425e+00, -7.30167431e-01],\n",
       "        [ 4.54053193e-01,  1.49093020e-01],\n",
       "        [-2.08549441e+00,  1.74346552e+00],\n",
       "        [-8.44046097e-01,  1.44175193e+00],\n",
       "        [-9.34662683e-01,  1.53013526e+00],\n",
       "        [ 1.46549238e+00,  5.67181908e-01],\n",
       "        [ 2.71380829e-02,  1.00035231e+00]],\n",
       "\n",
       "       [[-1.69107572e+00,  4.42397585e-01],\n",
       "        [ 6.58669789e-01,  1.11817737e+00],\n",
       "        [ 7.10640871e-01,  3.15454578e-01],\n",
       "        [-2.12998567e+00, -1.74880476e+00],\n",
       "        [ 8.05884305e-01, -7.43045506e-02],\n",
       "        [ 1.96581310e-01, -4.21647387e-01],\n",
       "        [-1.81776544e+00, -1.97453363e+00],\n",
       "        [ 4.11882871e-01,  1.38973533e+00],\n",
       "        [ 4.03648983e-01,  2.05846047e-01],\n",
       "        [-3.43134063e-01,  1.30305783e+00],\n",
       "        [-7.95526438e-01,  3.69030707e-01],\n",
       "        [-9.46895032e-01,  1.57062649e-02],\n",
       "        [-1.13198234e+00, -1.03212825e+00],\n",
       "        [ 1.09216541e+00,  5.13830511e-01],\n",
       "        [ 1.57983222e+00,  1.63868069e-01]],\n",
       "\n",
       "       [[-1.56052052e+00, -1.86768808e-01],\n",
       "        [-1.09434394e+00,  2.19884801e-01],\n",
       "        [-1.04618110e+00, -2.12523374e-01],\n",
       "        [-1.05925229e+00,  7.11013126e-01],\n",
       "        [-6.61386002e-02,  5.11816985e-01],\n",
       "        [ 6.95264102e-01, -1.03074671e+00],\n",
       "        [-3.61094757e-01,  5.09787882e-01],\n",
       "        [-2.76643478e-01, -1.08473230e+00],\n",
       "        [ 2.56568286e-01, -4.38554028e-01],\n",
       "        [ 3.05570738e-02,  1.05806356e+00],\n",
       "        [ 5.97775007e-01,  4.87522473e-01],\n",
       "        [ 2.56563205e-01,  7.75899976e-01],\n",
       "        [-1.13810092e+00, -4.01753516e-01],\n",
       "        [-9.12310187e-01,  1.18803687e+00],\n",
       "        [-8.60926432e-01, -7.57012280e-01]],\n",
       "\n",
       "       [[ 9.28614928e-01,  3.53498597e-01],\n",
       "        [-9.60411249e-01, -5.65352689e-01],\n",
       "        [ 6.78486521e-01,  1.20384601e-01],\n",
       "        [ 2.81365249e+00, -2.99299540e-01],\n",
       "        [-5.44166486e-02,  8.55583120e-02],\n",
       "        [ 2.77009301e-01, -3.92107932e-02],\n",
       "        [ 4.35166285e-01, -1.79382027e-01],\n",
       "        [-2.46269154e-01, -3.34115472e-01],\n",
       "        [-9.47306544e-01,  5.04316695e-01],\n",
       "        [ 7.47431505e-02,  5.64161933e-01],\n",
       "        [-7.31797535e-01, -4.47698665e-01],\n",
       "        [ 1.95874754e+00, -1.24218883e+00],\n",
       "        [-4.47653211e-01,  1.17978910e+00],\n",
       "        [ 6.76255568e-01, -6.11115764e-01],\n",
       "        [ 3.55902868e-01,  1.99721221e+00]],\n",
       "\n",
       "       [[-1.77654942e+00,  1.56584662e+00],\n",
       "        [-6.63036029e-01,  6.04527754e-01],\n",
       "        [ 1.75980620e+00, -1.28688472e+00],\n",
       "        [-1.82891041e+00, -6.56676929e-01],\n",
       "        [ 1.25119309e+00, -7.64121091e-01],\n",
       "        [-1.56976224e+00,  3.29472151e-01],\n",
       "        [-1.09630592e+00, -3.41805757e-02],\n",
       "        [ 1.17109458e+00,  5.30677563e-01],\n",
       "        [ 1.90582200e+00,  8.34270423e-02],\n",
       "        [ 1.25061064e+00,  1.12570543e+00],\n",
       "        [ 6.18502346e-02, -8.71706805e-01],\n",
       "        [-9.96700577e-01,  1.63025044e+00],\n",
       "        [-2.32026793e-01, -1.33005519e+00],\n",
       "        [-6.60308670e-01,  1.85465209e-01],\n",
       "        [ 3.24479960e-01, -1.47713496e+00]],\n",
       "\n",
       "       [[ 5.37066965e-03, -8.06953949e-01],\n",
       "        [-2.17182149e-01, -1.43240167e-01],\n",
       "        [ 5.34131387e-03,  1.22854093e+00],\n",
       "        [-1.71439866e+00, -6.88781979e-01],\n",
       "        [ 3.47630115e-01, -1.32494892e+00],\n",
       "        [ 3.78224457e-01, -1.95031179e-01],\n",
       "        [-2.27346383e-01, -1.02636784e+00],\n",
       "        [ 3.59233071e-01, -7.67495461e-01],\n",
       "        [ 1.21560708e+00, -6.03089100e-01],\n",
       "        [ 7.42050137e-01, -5.27784090e-01],\n",
       "        [ 1.10020442e-01,  1.53941248e+00],\n",
       "        [ 2.34636157e-01, -4.07044695e-01],\n",
       "        [-1.38335811e+00,  8.54049530e-01],\n",
       "        [ 1.69341827e+00,  6.10512923e-01],\n",
       "        [ 8.61545932e-01, -1.32998468e-01]],\n",
       "\n",
       "       [[-1.10036917e+00,  2.08576448e+00],\n",
       "        [ 1.66156246e+00,  8.07562451e-01],\n",
       "        [ 2.51612246e-01, -1.31776745e+00],\n",
       "        [ 3.89002153e-01, -6.64329823e-01],\n",
       "        [ 5.38816567e-01, -2.03298455e+00],\n",
       "        [ 7.95691338e-01, -2.04420811e-02],\n",
       "        [ 6.37330413e-01,  3.03636130e-01],\n",
       "        [-1.41766729e+00, -5.43794243e-01],\n",
       "        [ 1.05650602e-01,  2.03647869e+00],\n",
       "        [ 1.66960119e+00, -2.37667234e-01],\n",
       "        [ 7.85318120e-02,  1.48972284e+00],\n",
       "        [ 6.45053890e-01,  3.38954920e+00],\n",
       "        [-1.20276317e-01,  9.23793941e-01],\n",
       "        [-6.90032856e-01,  7.15952319e-01],\n",
       "        [ 1.88460652e-01,  1.30950952e+00]],\n",
       "\n",
       "       [[-4.67327548e-01,  3.30484948e-01],\n",
       "        [-5.67920393e-01,  1.11491811e+00],\n",
       "        [ 1.47635703e+00, -1.16012806e-01],\n",
       "        [ 1.91816700e-01,  3.12905791e-01],\n",
       "        [-1.15143432e+00, -3.13305331e-01],\n",
       "        [ 2.89321341e+00,  2.19217610e-01],\n",
       "        [ 5.33734968e-01, -3.45532423e-01],\n",
       "        [ 3.21715303e-02, -4.82437951e-01],\n",
       "        [ 2.32790414e-01, -2.12826155e-01],\n",
       "        [ 4.68147967e-01, -5.84576006e-01],\n",
       "        [ 1.08964403e-01,  8.82690732e-02],\n",
       "        [ 6.31522164e-01,  1.47828001e-03],\n",
       "        [ 3.49337302e-01,  1.03881555e-01],\n",
       "        [-2.42150136e-01, -2.04347191e+00],\n",
       "        [ 8.61582255e-01, -2.46736990e-01]],\n",
       "\n",
       "       [[-1.10179669e-04,  8.56991724e-01],\n",
       "        [-1.35084629e-01,  2.12804639e+00],\n",
       "        [-7.63951949e-02, -2.15088024e+00],\n",
       "        [ 4.55607189e-01, -8.25135375e-01],\n",
       "        [ 1.83722227e+00,  2.20245591e+00],\n",
       "        [ 7.52234326e-01,  1.50070985e+00],\n",
       "        [ 8.74549706e-01,  6.88838840e-01],\n",
       "        [ 7.57260431e-01,  1.56770439e+00],\n",
       "        [ 5.74268132e-02,  6.59491787e-01],\n",
       "        [ 3.82897949e-01,  2.16749541e-01],\n",
       "        [ 1.24193693e+00,  1.49582193e+00],\n",
       "        [-8.57889466e-01,  4.35533775e-01],\n",
       "        [ 7.01774156e-01,  1.13564072e+00],\n",
       "        [-8.60150844e-01, -7.81991682e-01],\n",
       "        [-6.79177700e-01,  2.90592992e-01]]])"
      ]
     },
     "execution_count": 8,
     "metadata": {},
     "output_type": "execute_result"
    }
   ],
   "source": [
    "x"
   ]
  },
  {
   "cell_type": "code",
   "execution_count": 11,
   "metadata": {},
   "outputs": [
    {
     "name": "stdout",
     "output_type": "stream",
     "text": [
      "corpus size: 1000, vocabulary size: 418\n",
      "| epoch 1 | perplexity 394.10\n",
      "| epoch 2 | perplexity 267.48\n",
      "| epoch 3 | perplexity 226.15\n",
      "| epoch 4 | perplexity 216.73\n",
      "| epoch 5 | perplexity 206.70\n",
      "| epoch 6 | perplexity 203.41\n",
      "| epoch 7 | perplexity 199.22\n",
      "| epoch 8 | perplexity 196.37\n",
      "| epoch 9 | perplexity 191.63\n",
      "| epoch 10 | perplexity 193.07\n",
      "| epoch 11 | perplexity 190.25\n",
      "| epoch 12 | perplexity 192.78\n",
      "| epoch 13 | perplexity 190.74\n",
      "| epoch 14 | perplexity 191.66\n",
      "| epoch 15 | perplexity 190.84\n",
      "| epoch 16 | perplexity 187.32\n",
      "| epoch 17 | perplexity 185.26\n",
      "| epoch 18 | perplexity 182.68\n",
      "| epoch 19 | perplexity 184.03\n",
      "| epoch 20 | perplexity 184.54\n",
      "| epoch 21 | perplexity 182.44\n",
      "| epoch 22 | perplexity 178.46\n",
      "| epoch 23 | perplexity 176.71\n",
      "| epoch 24 | perplexity 178.13\n",
      "| epoch 25 | perplexity 176.12\n",
      "| epoch 26 | perplexity 174.66\n",
      "| epoch 27 | perplexity 170.37\n",
      "| epoch 28 | perplexity 171.02\n",
      "| epoch 29 | perplexity 168.31\n",
      "| epoch 30 | perplexity 161.74\n",
      "| epoch 31 | perplexity 164.27\n",
      "| epoch 32 | perplexity 158.47\n",
      "| epoch 33 | perplexity 159.24\n",
      "| epoch 34 | perplexity 152.42\n",
      "| epoch 35 | perplexity 150.85\n",
      "| epoch 36 | perplexity 144.60\n",
      "| epoch 37 | perplexity 143.91\n",
      "| epoch 38 | perplexity 139.12\n",
      "| epoch 39 | perplexity 132.62\n",
      "| epoch 40 | perplexity 129.67\n",
      "| epoch 41 | perplexity 128.12\n",
      "| epoch 42 | perplexity 123.01\n",
      "| epoch 43 | perplexity 115.32\n",
      "| epoch 44 | perplexity 112.73\n",
      "| epoch 45 | perplexity 107.03\n",
      "| epoch 46 | perplexity 106.79\n",
      "| epoch 47 | perplexity 99.24\n",
      "| epoch 48 | perplexity 93.28\n",
      "| epoch 49 | perplexity 89.67\n",
      "| epoch 50 | perplexity 86.94\n",
      "| epoch 51 | perplexity 82.76\n",
      "| epoch 52 | perplexity 79.53\n",
      "| epoch 53 | perplexity 75.54\n",
      "| epoch 54 | perplexity 72.04\n",
      "| epoch 55 | perplexity 69.28\n",
      "| epoch 56 | perplexity 64.84\n",
      "| epoch 57 | perplexity 61.40\n",
      "| epoch 58 | perplexity 56.92\n",
      "| epoch 59 | perplexity 54.27\n",
      "| epoch 60 | perplexity 52.04\n",
      "| epoch 61 | perplexity 49.80\n",
      "| epoch 62 | perplexity 46.63\n",
      "| epoch 63 | perplexity 42.94\n",
      "| epoch 64 | perplexity 41.51\n",
      "| epoch 65 | perplexity 39.97\n",
      "| epoch 66 | perplexity 36.65\n",
      "| epoch 67 | perplexity 34.46\n",
      "| epoch 68 | perplexity 31.22\n",
      "| epoch 69 | perplexity 30.75\n",
      "| epoch 70 | perplexity 29.13\n",
      "| epoch 71 | perplexity 27.70\n",
      "| epoch 72 | perplexity 25.67\n",
      "| epoch 73 | perplexity 24.07\n",
      "| epoch 74 | perplexity 23.09\n",
      "| epoch 75 | perplexity 22.52\n",
      "| epoch 76 | perplexity 20.19\n",
      "| epoch 77 | perplexity 18.79\n",
      "| epoch 78 | perplexity 17.84\n",
      "| epoch 79 | perplexity 17.37\n",
      "| epoch 80 | perplexity 16.02\n",
      "| epoch 81 | perplexity 14.82\n",
      "| epoch 82 | perplexity 14.49\n",
      "| epoch 83 | perplexity 13.17\n",
      "| epoch 84 | perplexity 13.04\n",
      "| epoch 85 | perplexity 11.94\n",
      "| epoch 86 | perplexity 11.27\n",
      "| epoch 87 | perplexity 10.74\n",
      "| epoch 88 | perplexity 10.06\n",
      "| epoch 89 | perplexity 9.42\n",
      "| epoch 90 | perplexity 9.06\n",
      "| epoch 91 | perplexity 8.84\n",
      "| epoch 92 | perplexity 8.62\n",
      "| epoch 93 | perplexity 8.12\n",
      "| epoch 94 | perplexity 7.68\n",
      "| epoch 95 | perplexity 7.51\n",
      "| epoch 96 | perplexity 6.98\n",
      "| epoch 97 | perplexity 6.46\n",
      "| epoch 98 | perplexity 6.26\n",
      "| epoch 99 | perplexity 5.95\n",
      "| epoch 100 | perplexity 5.73\n"
     ]
    },
    {
     "data": {
      "image/png": "[encoded data removed]",
      "text/plain": [
       "<Figure size 432x288 with 1 Axes>"
      ]
     },
     "metadata": {
      "needs_background": "light"
     },
     "output_type": "display_data"
    }
   ],
   "source": [
    "# coding: utf-8\n",
    "import sys\n",
    "sys.path.append('..')\n",
    "import matplotlib.pyplot as plt\n",
    "import numpy as np\n",
    "from common.optimizer import SGD\n",
    "from dataset import ptb\n",
    "from simple_rnnlm import SimpleRnnlm\n",
    "\n",
    "\n",
    "# ハイパーパラメータの設定\n",
    "batch_size = 10\n",
    "wordvec_size = 100\n",
    "hidden_size = 100\n",
    "time_size = 5  # Truncated BPTTの展開する時間サイズ\n",
    "lr = 0.1\n",
    "max_epoch = 100\n",
    "\n",
    "# 学習データの読み込み（データセットを小さくする）\n",
    "corpus, word_to_id, id_to_word = ptb.load_data('train')\n",
    "corpus_size = 1000\n",
    "corpus = corpus[:corpus_size]\n",
    "vocab_size = int(max(corpus) + 1)\n",
    "\n",
    "xs = corpus[:-1]  # 入力\n",
    "ts = corpus[1:]  # 出力（教師ラベル）\n",
    "data_size = len(xs)\n",
    "print('corpus size: %d, vocabulary size: %d' % (corpus_size, vocab_size))\n",
    "\n",
    "# 学習時に使用する変数\n",
    "max_iters = data_size // (batch_size * time_size)\n",
    "time_idx = 0\n",
    "total_loss = 0\n",
    "loss_count = 0\n",
    "ppl_list = []\n",
    "\n",
    "# モデルの生成\n",
    "model = SimpleRnnlm(vocab_size, wordvec_size, hidden_size)\n",
    "optimizer = SGD(lr)\n",
    "\n",
    "# ミニバッチの各サンプルの読み込み開始位置を計算\n",
    "jump = (corpus_size - 1) // batch_size\n",
    "offsets = [i * jump for i in range(batch_size)]\n",
    "\n",
    "for epoch in range(max_epoch):\n",
    "    for iter in range(max_iters):\n",
    "        # ミニバッチの取得\n",
    "        batch_x = np.empty((batch_size, time_size), dtype='i')\n",
    "        batch_t = np.empty((batch_size, time_size), dtype='i')\n",
    "        for t in range(time_size):\n",
    "            for i, offset in enumerate(offsets):\n",
    "                batch_x[i, t] = xs[(offset + time_idx) % data_size]\n",
    "                batch_t[i, t] = ts[(offset + time_idx) % data_size]\n",
    "            time_idx += 1\n",
    "\n",
    "        # 勾配を求め、パラメータを更新\n",
    "        loss = model.forward(batch_x, batch_t)\n",
    "        model.backward()\n",
    "        optimizer.update(model.params, model.grads)\n",
    "        total_loss += loss\n",
    "        loss_count += 1\n",
    "\n",
    "    # エポックごとにパープレキシティの評価\n",
    "    ppl = np.exp(total_loss / loss_count)\n",
    "    print('| epoch %d | perplexity %.2f'\n",
    "          % (epoch+1, ppl))\n",
    "    ppl_list.append(float(ppl))\n",
    "    total_loss, loss_count = 0, 0\n",
    "\n",
    "# グラフの描画\n",
    "x = np.arange(len(ppl_list))\n",
    "plt.plot(x, ppl_list, label='train')\n",
    "plt.xlabel('epochs')\n",
    "plt.ylabel('perplexity')\n",
    "plt.show()\n"
   ]
  },
  {
   "cell_type": "code",
   "execution_count": 12,
   "metadata": {},
   "outputs": [
    {
     "data": {
      "text/plain": [
       "array([ 0,  1,  2,  3,  4,  5,  6,  7,  8,  9, 10, 11, 12, 13, 14, 15, 16,\n",
       "       17, 18, 19, 20, 21, 22, 23, 24, 25, 26, 27, 28, 29, 30, 31, 32, 33,\n",
       "       34, 35, 36, 37, 38, 27, 24, 39, 26, 40, 41, 42, 26, 43, 32, 44, 45,\n",
       "       46, 24, 47, 26, 27, 28, 29, 48, 49, 41, 42, 50, 51, 52, 53, 54, 55,\n",
       "       35, 36, 37, 42, 56, 57, 58, 59, 24, 35, 60, 42, 61, 62, 63, 64, 65,\n",
       "       66, 67, 68, 69, 70, 35, 71, 72, 42, 73, 74, 75, 35, 46, 42])"
      ]
     },
     "execution_count": 12,
     "metadata": {},
     "output_type": "execute_result"
    }
   ],
   "source": [
    "xs[0:100]"
   ]
  },
  {
   "cell_type": "code",
   "execution_count": 13,
   "metadata": {},
   "outputs": [
    {
     "data": {
      "text/plain": [
       "array([ 1,  2,  3,  4,  5,  6,  7,  8,  9, 10, 11, 12, 13, 14, 15, 16, 17,\n",
       "       18, 19, 20, 21, 22, 23, 24, 25, 26, 27, 28, 29, 30, 31, 32, 33, 34,\n",
       "       35, 36, 37, 38, 27, 24, 39, 26, 40, 41, 42, 26, 43, 32, 44, 45, 46,\n",
       "       24, 47, 26, 27, 28, 29, 48, 49, 41, 42, 50, 51, 52, 53, 54, 55, 35,\n",
       "       36, 37, 42, 56, 57, 58, 59, 24, 35, 60, 42, 61, 62, 63, 64, 65, 66,\n",
       "       67, 68, 69, 70, 35, 71, 72, 42, 73, 74, 75, 35, 46, 42, 76])"
      ]
     },
     "execution_count": 13,
     "metadata": {},
     "output_type": "execute_result"
    }
   ],
   "source": [
    "ts[0:100]"
   ]
  },
  {
   "cell_type": "code",
   "execution_count": 14,
   "metadata": {},
   "outputs": [
    {
     "data": {
      "text/plain": [
       "999"
      ]
     },
     "execution_count": 14,
     "metadata": {},
     "output_type": "execute_result"
    }
   ],
   "source": [
    "data_size"
   ]
  },
  {
   "cell_type": "code",
   "execution_count": 15,
   "metadata": {},
   "outputs": [
    {
     "data": {
      "text/plain": [
       "[0, 99, 198, 297, 396, 495, 594, 693, 792, 891]"
      ]
     },
     "execution_count": 15,
     "metadata": {},
     "output_type": "execute_result"
    }
   ],
   "source": [
    "offsets"
   ]
  },
  {
   "cell_type": "code",
   "execution_count": 16,
   "metadata": {},
   "outputs": [],
   "source": [
    "test = np.empty((batch_size,10))\n",
    "for t in range(10):\n",
    "    for i, offset in enumerate(offsets):\n",
    "        test[i,t] = (offset + time_idx) % data_size\n",
    "    time_idx += 1\n"
   ]
  },
  {
   "cell_type": "code",
   "execution_count": 17,
   "metadata": {},
   "outputs": [
    {
     "data": {
      "text/plain": [
       "array([[509., 510., 511., 512., 513., 514., 515., 516., 517., 518.],\n",
       "       [608., 609., 610., 611., 612., 613., 614., 615., 616., 617.],\n",
       "       [707., 708., 709., 710., 711., 712., 713., 714., 715., 716.],\n",
       "       [806., 807., 808., 809., 810., 811., 812., 813., 814., 815.],\n",
       "       [905., 906., 907., 908., 909., 910., 911., 912., 913., 914.],\n",
       "       [  5.,   6.,   7.,   8.,   9.,  10.,  11.,  12.,  13.,  14.],\n",
       "       [104., 105., 106., 107., 108., 109., 110., 111., 112., 113.],\n",
       "       [203., 204., 205., 206., 207., 208., 209., 210., 211., 212.],\n",
       "       [302., 303., 304., 305., 306., 307., 308., 309., 310., 311.],\n",
       "       [401., 402., 403., 404., 405., 406., 407., 408., 409., 410.]])"
      ]
     },
     "execution_count": 17,
     "metadata": {},
     "output_type": "execute_result"
    }
   ],
   "source": [
    "test[:,:]"
   ]
  },
  {
   "cell_type": "code",
   "execution_count": null,
   "metadata": {},
   "outputs": [],
   "source": []
  }
 ],
 "metadata": {
  "kernelspec": {
   "display_name": "Python 3",
   "language": "python",
   "name": "python3"
  },
  "language_info": {
   "codemirror_mode": {
    "name": "ipython",
    "version": 3
   },
   "file_extension": ".py",
   "mimetype": "text/x-python",
   "name": "python",
   "nbconvert_exporter": "python",
   "pygments_lexer": "ipython3",
   "version": "3.7.6"
  }
 },
 "nbformat": 4,
 "nbformat_minor": 4
}
