{
 "cells": [
  {
   "attachments": {},
   "cell_type": "markdown",
   "metadata": {},
   "source": [
    "## 線形回帰の解釈"
   ]
  },
  {
   "attachments": {},
   "cell_type": "markdown",
   "metadata": {},
   "source": [
    "### t検定とF検定"
   ]
  },
  {
   "cell_type": "code",
   "execution_count": 2,
   "metadata": {},
   "outputs": [
    {
     "name": "stdout",
     "output_type": "stream",
     "text": [
      "   space       rent  age\n",
      "0     20  13.958824    3\n",
      "1     25  11.533805   13\n",
      "2     28  14.269547   18\n",
      "3     30  18.722680   10\n",
      "4     36  19.602674    6\n",
      "5     51  16.068166    1\n",
      "6     55  23.183599    5\n",
      "7     62  22.212595    2\n",
      "8     83  29.357010    5\n",
      "9    103  37.565129   23\n"
     ]
    }
   ],
   "source": [
    "# データ準備\n",
    "import pandas as pd\n",
    "df = pd.read_csv('data/sample_data2.csv')\n",
    "print(df)\n",
    "y_col = 'rent'\n",
    "X = df.drop(columns=[y_col])\n",
    "y = df[y_col]"
   ]
  },
  {
   "cell_type": "code",
   "execution_count": 4,
   "metadata": {},
   "outputs": [
    {
     "name": "stdout",
     "output_type": "stream",
     "text": [
      "   const  space  age\n",
      "0    1.0     20    3\n",
      "1    1.0     25   13\n",
      "2    1.0     28   18\n",
      "3    1.0     30   10\n",
      "4    1.0     36    6\n",
      "5    1.0     51    1\n",
      "6    1.0     55    5\n",
      "7    1.0     62    2\n",
      "8    1.0     83    5\n",
      "9    1.0    103   23\n"
     ]
    }
   ],
   "source": [
    "# 線形回帰\n",
    "import statsmodels.api as sma\n",
    "# バイアス項追加\n",
    "X = sma.add_constant(X)\n",
    "print(X)"
   ]
  },
  {
   "cell_type": "code",
   "execution_count": 5,
   "metadata": {},
   "outputs": [
    {
     "name": "stdout",
     "output_type": "stream",
     "text": [
      "                            OLS Regression Results                            \n",
      "==============================================================================\n",
      "Dep. Variable:                   rent   R-squared:                       0.903\n",
      "Model:                            OLS   Adj. R-squared:                  0.876\n",
      "Method:                 Least Squares   F-statistic:                     32.66\n",
      "Date:                Sun, 01 Jan 2023   Prob (F-statistic):           0.000282\n",
      "Time:                        22:46:07   Log-Likelihood:                -22.687\n",
      "No. Observations:                  10   AIC:                             51.37\n",
      "Df Residuals:                       7   BIC:                             52.28\n",
      "Df Model:                           2                                         \n",
      "Covariance Type:            nonrobust                                         \n",
      "==============================================================================\n",
      "                 coef    std err          t      P>|t|      [0.025      0.975]\n",
      "------------------------------------------------------------------------------\n",
      "const          6.4150      2.043      3.140      0.016       1.584      11.246\n",
      "space          0.2677      0.035      7.622      0.000       0.185       0.351\n",
      "age            0.1206      0.131      0.924      0.386      -0.188       0.429\n",
      "==============================================================================\n",
      "Omnibus:                        0.981   Durbin-Watson:                   2.514\n",
      "Prob(Omnibus):                  0.612   Jarque-Bera (JB):                0.734\n",
      "Skew:                          -0.364   Prob(JB):                        0.693\n",
      "Kurtosis:                       1.890   Cond. No.                         130.\n",
      "==============================================================================\n",
      "\n",
      "Notes:\n",
      "[1] Standard Errors assume that the covariance matrix of the errors is correctly specified.\n"
     ]
    },
    {
     "name": "stderr",
     "output_type": "stream",
     "text": [
      "c:\\Users\\ytchi\\anaconda3\\envs\\py37\\lib\\site-packages\\scipy\\stats\\stats.py:1541: UserWarning: kurtosistest only valid for n>=20 ... continuing anyway, n=10\n",
      "  warnings.warn(\"kurtosistest only valid for n>=20 ... continuing \"\n"
     ]
    }
   ],
   "source": [
    "est = sma.OLS(y, X)\n",
    "est_trained = est.fit()\n",
    "print(est_trained.summary())"
   ]
  },
  {
   "cell_type": "code",
   "execution_count": 6,
   "metadata": {},
   "outputs": [
    {
     "data": {
      "text/plain": [
       "<seaborn.axisgrid.PairGrid at 0x26c23352400>"
      ]
     },
     "execution_count": 6,
     "metadata": {},
     "output_type": "execute_result"
    },
    {
     "data": {
      "image/png": "[encoded data removed]",
      "text/plain": [
       "<Figure size 540x540 with 12 Axes>"
      ]
     },
     "metadata": {
      "needs_background": "light"
     },
     "output_type": "display_data"
    }
   ],
   "source": [
    "import seaborn as sns\n",
    "sns.pairplot(df)"
   ]
  },
  {
   "cell_type": "code",
   "execution_count": 7,
   "metadata": {},
   "outputs": [
    {
     "name": "stdout",
     "output_type": "stream",
     "text": [
      "[[ 1.         -1.13466215 -0.8062772 ]\n",
      " [ 1.         -0.9410338   0.63350351]\n",
      " [ 1.         -0.82485679  1.35339387]\n",
      " [ 1.         -0.74740544  0.2015693 ]\n",
      " [ 1.         -0.51505142 -0.37434298]\n",
      " [ 1.          0.06583364 -1.09423334]\n",
      " [ 1.          0.22073632 -0.51832106]\n",
      " [ 1.          0.49181602 -0.95025527]\n",
      " [ 1.          1.3050551  -0.51832106]\n",
      " [ 1.          2.07956852  2.07328422]]\n"
     ]
    }
   ],
   "source": [
    "# 標準化した場合\n",
    "from sklearn.preprocessing import StandardScaler\n",
    "X = df.drop(columns=[y_col])\n",
    "scaler = StandardScaler()\n",
    "X_scaled = scaler.fit_transform(X)\n",
    "X_scaled = sma.add_constant(X_scaled)\n",
    "print(X_scaled)"
   ]
  },
  {
   "cell_type": "code",
   "execution_count": 8,
   "metadata": {},
   "outputs": [
    {
     "name": "stdout",
     "output_type": "stream",
     "text": [
      "                            OLS Regression Results                            \n",
      "==============================================================================\n",
      "Dep. Variable:                   rent   R-squared:                       0.903\n",
      "Model:                            OLS   Adj. R-squared:                  0.876\n",
      "Method:                 Least Squares   F-statistic:                     32.66\n",
      "Date:                Sun, 01 Jan 2023   Prob (F-statistic):           0.000282\n",
      "Time:                        23:03:21   Log-Likelihood:                -22.687\n",
      "No. Observations:                  10   AIC:                             51.37\n",
      "Df Residuals:                       7   BIC:                             52.28\n",
      "Df Model:                           2                                         \n",
      "Covariance Type:            nonrobust                                         \n",
      "==============================================================================\n",
      "                 coef    std err          t      P>|t|      [0.025      0.975]\n",
      "------------------------------------------------------------------------------\n",
      "const         20.6474      0.884     23.355      0.000      18.557      22.738\n",
      "x1             6.9115      0.907      7.622      0.000       4.767       9.056\n",
      "x2             0.8377      0.907      0.924      0.386      -1.307       2.982\n",
      "==============================================================================\n",
      "Omnibus:                        0.981   Durbin-Watson:                   2.514\n",
      "Prob(Omnibus):                  0.612   Jarque-Bera (JB):                0.734\n",
      "Skew:                          -0.364   Prob(JB):                        0.693\n",
      "Kurtosis:                       1.890   Cond. No.                         1.25\n",
      "==============================================================================\n",
      "\n",
      "Notes:\n",
      "[1] Standard Errors assume that the covariance matrix of the errors is correctly specified.\n"
     ]
    },
    {
     "name": "stderr",
     "output_type": "stream",
     "text": [
      "c:\\Users\\ytchi\\anaconda3\\envs\\py37\\lib\\site-packages\\scipy\\stats\\stats.py:1541: UserWarning: kurtosistest only valid for n>=20 ... continuing anyway, n=10\n",
      "  warnings.warn(\"kurtosistest only valid for n>=20 ... continuing \"\n"
     ]
    }
   ],
   "source": [
    "est = sma.OLS(y, X_scaled)\n",
    "est_trained = est.fit()\n",
    "print(est_trained.summary())"
   ]
  },
  {
   "cell_type": "code",
   "execution_count": null,
   "metadata": {},
   "outputs": [],
   "source": []
  }
 ],
 "metadata": {
  "kernelspec": {
   "display_name": "py37",
   "language": "python",
   "name": "python3"
  },
  "language_info": {
   "codemirror_mode": {
    "name": "ipython",
    "version": 3
   },
   "file_extension": ".py",
   "mimetype": "text/x-python",
   "name": "python",
   "nbconvert_exporter": "python",
   "pygments_lexer": "ipython3",
   "version": "3.8.5"
  },
  "orig_nbformat": 4,
  "vscode": {
   "interpreter": {
    "hash": "5da9aad921784b8644505a50d90de01e1bbce0d7772509339b5714d1cab40d5a"
   }
  }
 },
 "nbformat": 4,
 "nbformat_minor": 2
}
